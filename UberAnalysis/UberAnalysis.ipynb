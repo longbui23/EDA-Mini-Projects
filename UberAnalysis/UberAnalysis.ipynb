{
 "cells": [
  {
   "cell_type": "markdown",
   "id": "5104affc",
   "metadata": {},
   "source": [
    "# <center>Uber Analysis</center>"
   ]
  },
  {
   "cell_type": "markdown",
   "id": "91883cd1",
   "metadata": {},
   "source": [
    "# 1.Data Import"
   ]
  },
  {
   "cell_type": "code",
   "execution_count": 1,
   "id": "fa9131dd",
   "metadata": {},
   "outputs": [],
   "source": [
    "### lets import all the necessary packages !\n",
    "\n",
    "import pandas as pd\n",
    "import numpy as np\n",
    "import seaborn as sns\n",
    "import matplotlib.pyplot as plt"
   ]
  },
  {
   "cell_type": "code",
   "execution_count": 2,
   "id": "7f526475",
   "metadata": {},
   "outputs": [],
   "source": [
    "import os"
   ]
  },
  {
   "cell_type": "code",
   "execution_count": 5,
   "id": "2645cf5f",
   "metadata": {},
   "outputs": [
    {
     "data": {
      "text/plain": [
       "['other-American_B01362.csv',\n",
       " 'other-Carmel_B00256.csv',\n",
       " 'other-Dial7_B00887.csv',\n",
       " 'other-Diplo_B01196.csv',\n",
       " 'other-Federal_02216.csv',\n",
       " 'other-FHV-services_jan-aug-2015.csv',\n",
       " 'other-Firstclass_B01536.csv',\n",
       " 'other-Highclass_B01717.csv',\n",
       " 'other-Lyft_B02510.csv',\n",
       " 'other-Prestige_B01338.csv',\n",
       " 'other-Skyline_B00111.csv',\n",
       " 'Uber-Jan-Feb-FOIL.csv',\n",
       " 'uber-raw-data-apr14.csv',\n",
       " 'uber-raw-data-aug14.csv',\n",
       " 'uber-raw-data-janjune-15.csv',\n",
       " 'uber-raw-data-janjune-15_sample.csv',\n",
       " 'uber-raw-data-jul14.csv',\n",
       " 'uber-raw-data-jun14.csv',\n",
       " 'uber-raw-data-may14.csv',\n",
       " 'uber-raw-data-sep14.csv']"
      ]
     },
     "execution_count": 5,
     "metadata": {},
     "output_type": "execute_result"
    }
   ],
   "source": [
    "os.listdir(\"C:/Users/Dell/Downloads/UberAnalysis/Datasets\")"
   ]
  },
  {
   "cell_type": "code",
   "execution_count": 6,
   "id": "47528f30",
   "metadata": {},
   "outputs": [],
   "source": [
    "uber_15 = pd.read_csv(\"C:/Users/Dell/Downloads/UberAnalysis/Datasets/uber-raw-data-janjune-15_sample.csv\")"
   ]
  },
  {
   "cell_type": "code",
   "execution_count": 8,
   "id": "7794fb31",
   "metadata": {},
   "outputs": [
    {
     "data": {
      "text/plain": [
       "(100000, 4)"
      ]
     },
     "execution_count": 8,
     "metadata": {},
     "output_type": "execute_result"
    }
   ],
   "source": [
    "#data shape\n",
    "uber_15.shape"
   ]
  },
  {
   "cell_type": "markdown",
   "id": "d147197a",
   "metadata": {},
   "source": [
    "## 2. Data Preprocessing\n",
    "        check data-type , check missing values , check whether duplicated values or not !\n",
    "        ie Prepare Data for Analysis !"
   ]
  },
  {
   "cell_type": "code",
   "execution_count": 9,
   "id": "14fec27f",
   "metadata": {
    "scrolled": true
   },
   "outputs": [
    {
     "data": {
      "text/plain": [
       "pandas.core.frame.DataFrame"
      ]
     },
     "execution_count": 9,
     "metadata": {},
     "output_type": "execute_result"
    }
   ],
   "source": [
    "#check types\n",
    "type(uber_15)"
   ]
  },
  {
   "cell_type": "markdown",
   "id": "31a86d80",
   "metadata": {},
   "source": [
    "**a) Handle duplicates**"
   ]
  },
  {
   "cell_type": "code",
   "execution_count": 11,
   "id": "b399be99",
   "metadata": {},
   "outputs": [
    {
     "data": {
      "text/plain": [
       "54"
      ]
     },
     "execution_count": 11,
     "metadata": {},
     "output_type": "execute_result"
    }
   ],
   "source": [
    "uber_15.duplicated().sum()"
   ]
  },
  {
   "cell_type": "code",
   "execution_count": 12,
   "id": "8f1deebd",
   "metadata": {},
   "outputs": [],
   "source": [
    "uber_15.drop_duplicates(inplace=True)"
   ]
  },
  {
   "cell_type": "code",
   "execution_count": 13,
   "id": "d7fd9715",
   "metadata": {
    "scrolled": false
   },
   "outputs": [
    {
     "data": {
      "text/plain": [
       "0"
      ]
     },
     "execution_count": 13,
     "metadata": {},
     "output_type": "execute_result"
    }
   ],
   "source": [
    "uber_15.duplicated().sum()"
   ]
  },
  {
   "cell_type": "markdown",
   "id": "1afd0e02",
   "metadata": {},
   "source": [
    "**b) Check missing values**"
   ]
  },
  {
   "cell_type": "code",
   "execution_count": 14,
   "id": "bfc1d495",
   "metadata": {},
   "outputs": [
    {
     "data": {
      "text/plain": [
       "Dispatching_base_num       0\n",
       "Pickup_date                0\n",
       "Affiliated_base_num     1116\n",
       "locationID                 0\n",
       "dtype: int64"
      ]
     },
     "execution_count": 14,
     "metadata": {},
     "output_type": "execute_result"
    }
   ],
   "source": [
    "uber_15.isnull().sum()"
   ]
  },
  {
   "cell_type": "code",
   "execution_count": 20,
   "id": "2385551a",
   "metadata": {},
   "outputs": [
    {
     "data": {
      "text/plain": [
       "0        B02764\n",
       "1        B02682\n",
       "2        B02617\n",
       "3        B02764\n",
       "4        B00111\n",
       "          ...  \n",
       "99995    B02764\n",
       "99996    B02764\n",
       "99997    B02598\n",
       "99998    B02682\n",
       "99999    B02764\n",
       "Name: Affiliated_base_num, Length: 99946, dtype: object"
      ]
     },
     "execution_count": 20,
     "metadata": {},
     "output_type": "execute_result"
    }
   ],
   "source": [
    "uber_15['Affiliated_base_num']"
   ]
  },
  {
   "cell_type": "markdown",
   "id": "dc3075d6",
   "metadata": {},
   "source": [
    "**c) Adjust dtypes**"
   ]
  },
  {
   "cell_type": "code",
   "execution_count": 21,
   "id": "4866f337",
   "metadata": {
    "scrolled": true
   },
   "outputs": [
    {
     "data": {
      "text/plain": [
       "(99946, 4)"
      ]
     },
     "execution_count": 21,
     "metadata": {},
     "output_type": "execute_result"
    }
   ],
   "source": [
    "uber_15.shape"
   ]
  },
  {
   "cell_type": "code",
   "execution_count": 22,
   "id": "b13da063",
   "metadata": {},
   "outputs": [
    {
     "data": {
      "text/plain": [
       "Dispatching_base_num    object\n",
       "Pickup_date             object\n",
       "Affiliated_base_num     object\n",
       "locationID               int64\n",
       "dtype: object"
      ]
     },
     "execution_count": 22,
     "metadata": {},
     "output_type": "execute_result"
    }
   ],
   "source": [
    "uber_15.dtypes"
   ]
  },
  {
   "cell_type": "code",
   "execution_count": 23,
   "id": "9bcb43eb",
   "metadata": {},
   "outputs": [
    {
     "data": {
      "text/plain": [
       "'2015-05-02 21:43:00'"
      ]
     },
     "execution_count": 23,
     "metadata": {},
     "output_type": "execute_result"
    }
   ],
   "source": [
    "uber_15['Pickup_date'][0]"
   ]
  },
  {
   "cell_type": "code",
   "execution_count": 24,
   "id": "053ef9db",
   "metadata": {},
   "outputs": [
    {
     "data": {
      "text/plain": [
       "str"
      ]
     },
     "execution_count": 24,
     "metadata": {},
     "output_type": "execute_result"
    }
   ],
   "source": [
    "type(uber_15['Pickup_date'][0])"
   ]
  },
  {
   "cell_type": "code",
   "execution_count": 25,
   "id": "97abb2bc",
   "metadata": {},
   "outputs": [],
   "source": [
    "uber_15['Pickup_date'] = pd.to_datetime(uber_15['Pickup_date'])"
   ]
  },
  {
   "cell_type": "code",
   "execution_count": 26,
   "id": "95e71b33",
   "metadata": {},
   "outputs": [
    {
     "data": {
      "text/plain": [
       "dtype('<M8[ns]')"
      ]
     },
     "execution_count": 26,
     "metadata": {},
     "output_type": "execute_result"
    }
   ],
   "source": [
    "uber_15['Pickup_date'].dtype"
   ]
  },
  {
   "cell_type": "code",
   "execution_count": 27,
   "id": "6111d457",
   "metadata": {},
   "outputs": [
    {
     "data": {
      "text/plain": [
       "Timestamp('2015-05-02 21:43:00')"
      ]
     },
     "execution_count": 27,
     "metadata": {},
     "output_type": "execute_result"
    }
   ],
   "source": [
    "uber_15['Pickup_date'][0]"
   ]
  },
  {
   "cell_type": "code",
   "execution_count": 28,
   "id": "2f94f04a",
   "metadata": {},
   "outputs": [
    {
     "data": {
      "text/plain": [
       "pandas._libs.tslibs.timestamps.Timestamp"
      ]
     },
     "execution_count": 28,
     "metadata": {},
     "output_type": "execute_result"
    }
   ],
   "source": [
    "type(uber_15['Pickup_date'][0])"
   ]
  },
  {
   "cell_type": "code",
   "execution_count": 29,
   "id": "a849d562",
   "metadata": {},
   "outputs": [
    {
     "data": {
      "text/plain": [
       "Dispatching_base_num            object\n",
       "Pickup_date             datetime64[ns]\n",
       "Affiliated_base_num             object\n",
       "locationID                       int64\n",
       "dtype: object"
      ]
     },
     "execution_count": 29,
     "metadata": {},
     "output_type": "execute_result"
    }
   ],
   "source": [
    "uber_15.dtypes"
   ]
  },
  {
   "cell_type": "markdown",
   "id": "5a1fc88d",
   "metadata": {},
   "source": [
    "# 3. Data Exploration"
   ]
  },
  {
   "cell_type": "markdown",
   "id": "84df216a",
   "metadata": {},
   "source": [
    "**a) Uber Runs by month**"
   ]
  },
  {
   "cell_type": "code",
   "execution_count": 30,
   "id": "f9cbbe36",
   "metadata": {},
   "outputs": [
    {
     "data": {
      "text/html": [
       "<div>\n",
       "<style scoped>\n",
       "    .dataframe tbody tr th:only-of-type {\n",
       "        vertical-align: middle;\n",
       "    }\n",
       "\n",
       "    .dataframe tbody tr th {\n",
       "        vertical-align: top;\n",
       "    }\n",
       "\n",
       "    .dataframe thead th {\n",
       "        text-align: right;\n",
       "    }\n",
       "</style>\n",
       "<table border=\"1\" class=\"dataframe\">\n",
       "  <thead>\n",
       "    <tr style=\"text-align: right;\">\n",
       "      <th></th>\n",
       "      <th>Dispatching_base_num</th>\n",
       "      <th>Pickup_date</th>\n",
       "      <th>Affiliated_base_num</th>\n",
       "      <th>locationID</th>\n",
       "    </tr>\n",
       "  </thead>\n",
       "  <tbody>\n",
       "    <tr>\n",
       "      <th>0</th>\n",
       "      <td>B02617</td>\n",
       "      <td>2015-05-02 21:43:00</td>\n",
       "      <td>B02764</td>\n",
       "      <td>237</td>\n",
       "    </tr>\n",
       "    <tr>\n",
       "      <th>1</th>\n",
       "      <td>B02682</td>\n",
       "      <td>2015-01-20 19:52:59</td>\n",
       "      <td>B02682</td>\n",
       "      <td>231</td>\n",
       "    </tr>\n",
       "    <tr>\n",
       "      <th>2</th>\n",
       "      <td>B02617</td>\n",
       "      <td>2015-03-19 20:26:00</td>\n",
       "      <td>B02617</td>\n",
       "      <td>161</td>\n",
       "    </tr>\n",
       "    <tr>\n",
       "      <th>3</th>\n",
       "      <td>B02764</td>\n",
       "      <td>2015-04-10 17:38:00</td>\n",
       "      <td>B02764</td>\n",
       "      <td>107</td>\n",
       "    </tr>\n",
       "    <tr>\n",
       "      <th>4</th>\n",
       "      <td>B02764</td>\n",
       "      <td>2015-03-23 07:03:00</td>\n",
       "      <td>B00111</td>\n",
       "      <td>140</td>\n",
       "    </tr>\n",
       "  </tbody>\n",
       "</table>\n",
       "</div>"
      ],
      "text/plain": [
       "  Dispatching_base_num         Pickup_date Affiliated_base_num  locationID\n",
       "0               B02617 2015-05-02 21:43:00              B02764         237\n",
       "1               B02682 2015-01-20 19:52:59              B02682         231\n",
       "2               B02617 2015-03-19 20:26:00              B02617         161\n",
       "3               B02764 2015-04-10 17:38:00              B02764         107\n",
       "4               B02764 2015-03-23 07:03:00              B00111         140"
      ]
     },
     "execution_count": 30,
     "metadata": {},
     "output_type": "execute_result"
    }
   ],
   "source": [
    "uber_15.head()"
   ]
  },
  {
   "cell_type": "code",
   "execution_count": 31,
   "id": "e629587e",
   "metadata": {},
   "outputs": [],
   "source": [
    "uber_15['month'] = uber_15['Pickup_date'].dt.month_name()"
   ]
  },
  {
   "cell_type": "code",
   "execution_count": 32,
   "id": "cb42e7de",
   "metadata": {},
   "outputs": [
    {
     "data": {
      "text/plain": [
       "0            May\n",
       "1        January\n",
       "2          March\n",
       "3          April\n",
       "4          March\n",
       "          ...   \n",
       "99995      April\n",
       "99996      March\n",
       "99997      March\n",
       "99998        May\n",
       "99999       June\n",
       "Name: month, Length: 99946, dtype: object"
      ]
     },
     "execution_count": 32,
     "metadata": {},
     "output_type": "execute_result"
    }
   ],
   "source": [
    "uber_15['month']"
   ]
  },
  {
   "cell_type": "code",
   "execution_count": 41,
   "id": "467a6053",
   "metadata": {},
   "outputs": [
    {
     "data": {
      "image/png": "[encoded data removed]",
      "text/plain": [
       "<Figure size 640x480 with 1 Axes>"
      ]
     },
     "metadata": {},
     "output_type": "display_data"
    }
   ],
   "source": [
    "uber_15['month'].value_counts().plot(kind='bar')\n",
    "\n",
    "plt.xlabel(\"Month\")\n",
    "plt.ylabel(\"Total pickups in NYC\")\n",
    "\n",
    "plt.show()"
   ]
  },
  {
   "cell_type": "markdown",
   "id": "d70356db",
   "metadata": {},
   "source": [
    "June has the max pickup while January has the minimum."
   ]
  },
  {
   "cell_type": "markdown",
   "id": "091db31d",
   "metadata": {},
   "source": [
    "**b) Total pickups by weekday per month**"
   ]
  },
  {
   "cell_type": "code",
   "execution_count": 36,
   "id": "3ad6c5a2",
   "metadata": {},
   "outputs": [],
   "source": [
    "## extracting dervied features (weekday ,day ,hour ,month ,minute) from 'Pickup_date'..\n",
    "\n",
    "uber_15['weekday'] = uber_15['Pickup_date'].dt.day_name()\n",
    "uber_15['day'] = uber_15['Pickup_date'].dt.day\n",
    "uber_15['hour'] = uber_15['Pickup_date'].dt.hour\n",
    "uber_15['minute'] = uber_15['Pickup_date'].dt.minute"
   ]
  },
  {
   "cell_type": "code",
   "execution_count": 42,
   "id": "e8d92dfa",
   "metadata": {},
   "outputs": [
    {
     "data": {
      "text/html": [
       "<div>\n",
       "<style scoped>\n",
       "    .dataframe tbody tr th:only-of-type {\n",
       "        vertical-align: middle;\n",
       "    }\n",
       "\n",
       "    .dataframe tbody tr th {\n",
       "        vertical-align: top;\n",
       "    }\n",
       "\n",
       "    .dataframe thead th {\n",
       "        text-align: right;\n",
       "    }\n",
       "</style>\n",
       "<table border=\"1\" class=\"dataframe\">\n",
       "  <thead>\n",
       "    <tr style=\"text-align: right;\">\n",
       "      <th></th>\n",
       "      <th>Dispatching_base_num</th>\n",
       "      <th>Pickup_date</th>\n",
       "      <th>Affiliated_base_num</th>\n",
       "      <th>locationID</th>\n",
       "      <th>month</th>\n",
       "      <th>weekday</th>\n",
       "      <th>day</th>\n",
       "      <th>hour</th>\n",
       "      <th>minute</th>\n",
       "    </tr>\n",
       "  </thead>\n",
       "  <tbody>\n",
       "    <tr>\n",
       "      <th>0</th>\n",
       "      <td>B02617</td>\n",
       "      <td>2015-05-02 21:43:00</td>\n",
       "      <td>B02764</td>\n",
       "      <td>237</td>\n",
       "      <td>May</td>\n",
       "      <td>Saturday</td>\n",
       "      <td>2</td>\n",
       "      <td>21</td>\n",
       "      <td>43</td>\n",
       "    </tr>\n",
       "    <tr>\n",
       "      <th>1</th>\n",
       "      <td>B02682</td>\n",
       "      <td>2015-01-20 19:52:59</td>\n",
       "      <td>B02682</td>\n",
       "      <td>231</td>\n",
       "      <td>January</td>\n",
       "      <td>Tuesday</td>\n",
       "      <td>20</td>\n",
       "      <td>19</td>\n",
       "      <td>52</td>\n",
       "    </tr>\n",
       "    <tr>\n",
       "      <th>2</th>\n",
       "      <td>B02617</td>\n",
       "      <td>2015-03-19 20:26:00</td>\n",
       "      <td>B02617</td>\n",
       "      <td>161</td>\n",
       "      <td>March</td>\n",
       "      <td>Thursday</td>\n",
       "      <td>19</td>\n",
       "      <td>20</td>\n",
       "      <td>26</td>\n",
       "    </tr>\n",
       "    <tr>\n",
       "      <th>3</th>\n",
       "      <td>B02764</td>\n",
       "      <td>2015-04-10 17:38:00</td>\n",
       "      <td>B02764</td>\n",
       "      <td>107</td>\n",
       "      <td>April</td>\n",
       "      <td>Friday</td>\n",
       "      <td>10</td>\n",
       "      <td>17</td>\n",
       "      <td>38</td>\n",
       "    </tr>\n",
       "    <tr>\n",
       "      <th>4</th>\n",
       "      <td>B02764</td>\n",
       "      <td>2015-03-23 07:03:00</td>\n",
       "      <td>B00111</td>\n",
       "      <td>140</td>\n",
       "      <td>March</td>\n",
       "      <td>Monday</td>\n",
       "      <td>23</td>\n",
       "      <td>7</td>\n",
       "      <td>3</td>\n",
       "    </tr>\n",
       "  </tbody>\n",
       "</table>\n",
       "</div>"
      ],
      "text/plain": [
       "  Dispatching_base_num         Pickup_date Affiliated_base_num  locationID  \\\n",
       "0               B02617 2015-05-02 21:43:00              B02764         237   \n",
       "1               B02682 2015-01-20 19:52:59              B02682         231   \n",
       "2               B02617 2015-03-19 20:26:00              B02617         161   \n",
       "3               B02764 2015-04-10 17:38:00              B02764         107   \n",
       "4               B02764 2015-03-23 07:03:00              B00111         140   \n",
       "\n",
       "     month   weekday  day  hour  minute  \n",
       "0      May  Saturday    2    21      43  \n",
       "1  January   Tuesday   20    19      52  \n",
       "2    March  Thursday   19    20      26  \n",
       "3    April    Friday   10    17      38  \n",
       "4    March    Monday   23     7       3  "
      ]
     },
     "execution_count": 42,
     "metadata": {},
     "output_type": "execute_result"
    }
   ],
   "source": [
    "uber_15.head()"
   ]
  },
  {
   "cell_type": "code",
   "execution_count": 43,
   "id": "edd1d68c",
   "metadata": {},
   "outputs": [],
   "source": [
    "## pivot table\n",
    "\n",
    "pivot = pd.crosstab(index=uber_15['month'] , columns=uber_15['weekday'])"
   ]
  },
  {
   "cell_type": "code",
   "execution_count": 44,
   "id": "e1bc765e",
   "metadata": {},
   "outputs": [
    {
     "data": {
      "text/html": [
       "<div>\n",
       "<style scoped>\n",
       "    .dataframe tbody tr th:only-of-type {\n",
       "        vertical-align: middle;\n",
       "    }\n",
       "\n",
       "    .dataframe tbody tr th {\n",
       "        vertical-align: top;\n",
       "    }\n",
       "\n",
       "    .dataframe thead th {\n",
       "        text-align: right;\n",
       "    }\n",
       "</style>\n",
       "<table border=\"1\" class=\"dataframe\">\n",
       "  <thead>\n",
       "    <tr style=\"text-align: right;\">\n",
       "      <th>weekday</th>\n",
       "      <th>Friday</th>\n",
       "      <th>Monday</th>\n",
       "      <th>Saturday</th>\n",
       "      <th>Sunday</th>\n",
       "      <th>Thursday</th>\n",
       "      <th>Tuesday</th>\n",
       "      <th>Wednesday</th>\n",
       "    </tr>\n",
       "    <tr>\n",
       "      <th>month</th>\n",
       "      <th></th>\n",
       "      <th></th>\n",
       "      <th></th>\n",
       "      <th></th>\n",
       "      <th></th>\n",
       "      <th></th>\n",
       "      <th></th>\n",
       "    </tr>\n",
       "  </thead>\n",
       "  <tbody>\n",
       "    <tr>\n",
       "      <th>April</th>\n",
       "      <td>2365</td>\n",
       "      <td>1833</td>\n",
       "      <td>2508</td>\n",
       "      <td>2052</td>\n",
       "      <td>2823</td>\n",
       "      <td>1880</td>\n",
       "      <td>2521</td>\n",
       "    </tr>\n",
       "    <tr>\n",
       "      <th>February</th>\n",
       "      <td>2655</td>\n",
       "      <td>1970</td>\n",
       "      <td>2550</td>\n",
       "      <td>2183</td>\n",
       "      <td>2396</td>\n",
       "      <td>2129</td>\n",
       "      <td>2013</td>\n",
       "    </tr>\n",
       "    <tr>\n",
       "      <th>January</th>\n",
       "      <td>2508</td>\n",
       "      <td>1353</td>\n",
       "      <td>2745</td>\n",
       "      <td>1651</td>\n",
       "      <td>2378</td>\n",
       "      <td>1444</td>\n",
       "      <td>1740</td>\n",
       "    </tr>\n",
       "    <tr>\n",
       "      <th>June</th>\n",
       "      <td>2793</td>\n",
       "      <td>2848</td>\n",
       "      <td>3037</td>\n",
       "      <td>2485</td>\n",
       "      <td>2767</td>\n",
       "      <td>3187</td>\n",
       "      <td>2503</td>\n",
       "    </tr>\n",
       "    <tr>\n",
       "      <th>March</th>\n",
       "      <td>2465</td>\n",
       "      <td>2115</td>\n",
       "      <td>2522</td>\n",
       "      <td>2379</td>\n",
       "      <td>2093</td>\n",
       "      <td>2388</td>\n",
       "      <td>2007</td>\n",
       "    </tr>\n",
       "    <tr>\n",
       "      <th>May</th>\n",
       "      <td>3262</td>\n",
       "      <td>1865</td>\n",
       "      <td>3519</td>\n",
       "      <td>2944</td>\n",
       "      <td>2627</td>\n",
       "      <td>2115</td>\n",
       "      <td>2328</td>\n",
       "    </tr>\n",
       "  </tbody>\n",
       "</table>\n",
       "</div>"
      ],
      "text/plain": [
       "weekday   Friday  Monday  Saturday  Sunday  Thursday  Tuesday  Wednesday\n",
       "month                                                                   \n",
       "April       2365    1833      2508    2052      2823     1880       2521\n",
       "February    2655    1970      2550    2183      2396     2129       2013\n",
       "January     2508    1353      2745    1651      2378     1444       1740\n",
       "June        2793    2848      3037    2485      2767     3187       2503\n",
       "March       2465    2115      2522    2379      2093     2388       2007\n",
       "May         3262    1865      3519    2944      2627     2115       2328"
      ]
     },
     "execution_count": 44,
     "metadata": {},
     "output_type": "execute_result"
    }
   ],
   "source": [
    "pivot"
   ]
  },
  {
   "cell_type": "code",
   "execution_count": 45,
   "id": "2b6ed69c",
   "metadata": {},
   "outputs": [
    {
     "data": {
      "text/plain": [
       "<AxesSubplot:xlabel='month'>"
      ]
     },
     "execution_count": 45,
     "metadata": {},
     "output_type": "execute_result"
    },
    {
     "data": {
      "image/png": "[encoded data removed]",
      "text/plain": [
       "<Figure size 800x600 with 1 Axes>"
      ]
     },
     "metadata": {},
     "output_type": "display_data"
    }
   ],
   "source": [
    "## grouped-bar plot using Pandas ..\n",
    "pivot.plot(kind='bar' , figsize=(8,6))"
   ]
  },
  {
   "cell_type": "markdown",
   "id": "4874943d",
   "metadata": {},
   "source": [
    "On Saturday & Friday, u are getting more Uber pickups in each month , it seems that New Yorkers used to go for \n",
    "shopping , Malls , fun activities alot on these days"
   ]
  },
  {
   "cell_type": "markdown",
   "id": "91311ac8",
   "metadata": {},
   "source": [
    "# 4. Rush hours on NYC"
   ]
  },
  {
   "cell_type": "code",
   "execution_count": 46,
   "id": "742f3cef",
   "metadata": {},
   "outputs": [],
   "source": [
    "summary = uber_15.groupby(['weekday' , 'hour'] , as_index=False).size()"
   ]
  },
  {
   "cell_type": "code",
   "execution_count": 47,
   "id": "493094d5",
   "metadata": {},
   "outputs": [
    {
     "data": {
      "text/html": [
       "<div>\n",
       "<style scoped>\n",
       "    .dataframe tbody tr th:only-of-type {\n",
       "        vertical-align: middle;\n",
       "    }\n",
       "\n",
       "    .dataframe tbody tr th {\n",
       "        vertical-align: top;\n",
       "    }\n",
       "\n",
       "    .dataframe thead th {\n",
       "        text-align: right;\n",
       "    }\n",
       "</style>\n",
       "<table border=\"1\" class=\"dataframe\">\n",
       "  <thead>\n",
       "    <tr style=\"text-align: right;\">\n",
       "      <th></th>\n",
       "      <th>weekday</th>\n",
       "      <th>hour</th>\n",
       "      <th>size</th>\n",
       "    </tr>\n",
       "  </thead>\n",
       "  <tbody>\n",
       "    <tr>\n",
       "      <th>0</th>\n",
       "      <td>Friday</td>\n",
       "      <td>0</td>\n",
       "      <td>581</td>\n",
       "    </tr>\n",
       "    <tr>\n",
       "      <th>1</th>\n",
       "      <td>Friday</td>\n",
       "      <td>1</td>\n",
       "      <td>333</td>\n",
       "    </tr>\n",
       "    <tr>\n",
       "      <th>2</th>\n",
       "      <td>Friday</td>\n",
       "      <td>2</td>\n",
       "      <td>197</td>\n",
       "    </tr>\n",
       "    <tr>\n",
       "      <th>3</th>\n",
       "      <td>Friday</td>\n",
       "      <td>3</td>\n",
       "      <td>138</td>\n",
       "    </tr>\n",
       "    <tr>\n",
       "      <th>4</th>\n",
       "      <td>Friday</td>\n",
       "      <td>4</td>\n",
       "      <td>161</td>\n",
       "    </tr>\n",
       "    <tr>\n",
       "      <th>...</th>\n",
       "      <td>...</td>\n",
       "      <td>...</td>\n",
       "      <td>...</td>\n",
       "    </tr>\n",
       "    <tr>\n",
       "      <th>163</th>\n",
       "      <td>Wednesday</td>\n",
       "      <td>19</td>\n",
       "      <td>1044</td>\n",
       "    </tr>\n",
       "    <tr>\n",
       "      <th>164</th>\n",
       "      <td>Wednesday</td>\n",
       "      <td>20</td>\n",
       "      <td>897</td>\n",
       "    </tr>\n",
       "    <tr>\n",
       "      <th>165</th>\n",
       "      <td>Wednesday</td>\n",
       "      <td>21</td>\n",
       "      <td>949</td>\n",
       "    </tr>\n",
       "    <tr>\n",
       "      <th>166</th>\n",
       "      <td>Wednesday</td>\n",
       "      <td>22</td>\n",
       "      <td>900</td>\n",
       "    </tr>\n",
       "    <tr>\n",
       "      <th>167</th>\n",
       "      <td>Wednesday</td>\n",
       "      <td>23</td>\n",
       "      <td>669</td>\n",
       "    </tr>\n",
       "  </tbody>\n",
       "</table>\n",
       "<p>168 rows × 3 columns</p>\n",
       "</div>"
      ],
      "text/plain": [
       "       weekday  hour  size\n",
       "0       Friday     0   581\n",
       "1       Friday     1   333\n",
       "2       Friday     2   197\n",
       "3       Friday     3   138\n",
       "4       Friday     4   161\n",
       "..         ...   ...   ...\n",
       "163  Wednesday    19  1044\n",
       "164  Wednesday    20   897\n",
       "165  Wednesday    21   949\n",
       "166  Wednesday    22   900\n",
       "167  Wednesday    23   669\n",
       "\n",
       "[168 rows x 3 columns]"
      ]
     },
     "execution_count": 47,
     "metadata": {},
     "output_type": "execute_result"
    }
   ],
   "source": [
    "summary"
   ]
  },
  {
   "cell_type": "code",
   "execution_count": 48,
   "id": "bf9ebf5e",
   "metadata": {},
   "outputs": [
    {
     "data": {
      "text/plain": [
       "<AxesSubplot:xlabel='hour', ylabel='size'>"
      ]
     },
     "execution_count": 48,
     "metadata": {},
     "output_type": "execute_result"
    },
    {
     "data": {
      "image/png": "[encoded data removed]",
      "text/plain": [
       "<Figure size 800x600 with 1 Axes>"
      ]
     },
     "metadata": {},
     "output_type": "display_data"
    }
   ],
   "source": [
    "## pointplot between 'hour' & 'size' for all the weekdays..\n",
    "\n",
    "plt.figure(figsize=(8,6))\n",
    "sns.pointplot(x=\"hour\" , y=\"size\" , hue=\"weekday\" , data=summary)"
   ]
  },
  {
   "cell_type": "markdown",
   "id": "8446551c",
   "metadata": {},
   "source": [
    "It's interesting to see that Saturday and Sunday exhibit similar demand throughout the late night/morning/afternoon, \n",
    "but it exhibits opposite trends during the evening. In the evening, Saturday pickups continue to increase throughout the evening,\n",
    "but Sunday pickups takes a downward turn after evening..\n",
    "\n",
    "We can see that there the weekdays that has the most demand during the late evening is Friday and Saturday, \n",
    "which is expected, but what strikes me is that Thursday nights also exhibits very similar trends as Friday and Saturday nights.\n",
    "\n",
    "It seems like New Yorkers are starting their 'weekends' on Thursday nights. :)"
   ]
  },
  {
   "cell_type": "markdown",
   "id": "690836b9",
   "metadata": {},
   "source": [
    "# 5. Active vehicles by base_num"
   ]
  },
  {
   "cell_type": "code",
   "execution_count": 49,
   "id": "f0eec599",
   "metadata": {},
   "outputs": [
    {
     "data": {
      "text/plain": [
       "Index(['Dispatching_base_num', 'Pickup_date', 'Affiliated_base_num',\n",
       "       'locationID', 'month', 'weekday', 'day', 'hour', 'minute'],\n",
       "      dtype='object')"
      ]
     },
     "execution_count": 49,
     "metadata": {},
     "output_type": "execute_result"
    }
   ],
   "source": [
    "uber_15.columns"
   ]
  },
  {
   "cell_type": "code",
   "execution_count": 54,
   "id": "f2e1dfe9",
   "metadata": {},
   "outputs": [
    {
     "data": {
      "text/html": [
       "<div>\n",
       "<style scoped>\n",
       "    .dataframe tbody tr th:only-of-type {\n",
       "        vertical-align: middle;\n",
       "    }\n",
       "\n",
       "    .dataframe tbody tr th {\n",
       "        vertical-align: top;\n",
       "    }\n",
       "\n",
       "    .dataframe thead th {\n",
       "        text-align: right;\n",
       "    }\n",
       "</style>\n",
       "<table border=\"1\" class=\"dataframe\">\n",
       "  <thead>\n",
       "    <tr style=\"text-align: right;\">\n",
       "      <th></th>\n",
       "      <th>dispatching_base_number</th>\n",
       "      <th>date</th>\n",
       "      <th>active_vehicles</th>\n",
       "      <th>trips</th>\n",
       "    </tr>\n",
       "  </thead>\n",
       "  <tbody>\n",
       "    <tr>\n",
       "      <th>0</th>\n",
       "      <td>B02512</td>\n",
       "      <td>1/1/2015</td>\n",
       "      <td>190</td>\n",
       "      <td>1132</td>\n",
       "    </tr>\n",
       "    <tr>\n",
       "      <th>1</th>\n",
       "      <td>B02765</td>\n",
       "      <td>1/1/2015</td>\n",
       "      <td>225</td>\n",
       "      <td>1765</td>\n",
       "    </tr>\n",
       "    <tr>\n",
       "      <th>2</th>\n",
       "      <td>B02764</td>\n",
       "      <td>1/1/2015</td>\n",
       "      <td>3427</td>\n",
       "      <td>29421</td>\n",
       "    </tr>\n",
       "    <tr>\n",
       "      <th>3</th>\n",
       "      <td>B02682</td>\n",
       "      <td>1/1/2015</td>\n",
       "      <td>945</td>\n",
       "      <td>7679</td>\n",
       "    </tr>\n",
       "    <tr>\n",
       "      <th>4</th>\n",
       "      <td>B02617</td>\n",
       "      <td>1/1/2015</td>\n",
       "      <td>1228</td>\n",
       "      <td>9537</td>\n",
       "    </tr>\n",
       "  </tbody>\n",
       "</table>\n",
       "</div>"
      ],
      "text/plain": [
       "  dispatching_base_number      date  active_vehicles  trips\n",
       "0                  B02512  1/1/2015              190   1132\n",
       "1                  B02765  1/1/2015              225   1765\n",
       "2                  B02764  1/1/2015             3427  29421\n",
       "3                  B02682  1/1/2015              945   7679\n",
       "4                  B02617  1/1/2015             1228   9537"
      ]
     },
     "execution_count": 54,
     "metadata": {},
     "output_type": "execute_result"
    }
   ],
   "source": [
    "uber_foil = pd.read_csv(\"C:/Users/Dell/Downloads/UberAnalysis/Datasets/Uber-Jan-Feb-FOIL.csv\")\n",
    "uber_foil.head()"
   ]
  },
  {
   "cell_type": "code",
   "execution_count": 53,
   "id": "695e80ea",
   "metadata": {},
   "outputs": [
    {
     "data": {
      "text/plain": [
       "(354, 4)"
      ]
     },
     "execution_count": 53,
     "metadata": {},
     "output_type": "execute_result"
    }
   ],
   "source": [
    "uber_foil.shape"
   ]
  },
  {
   "cell_type": "code",
   "execution_count": 55,
   "id": "40c6f1ac",
   "metadata": {},
   "outputs": [
    {
     "name": "stdout",
     "output_type": "stream",
     "text": [
      "Collecting chart_studio\n",
      "  Downloading chart_studio-1.1.0-py3-none-any.whl (64 kB)\n",
      "     ---------------------------------------- 64.4/64.4 kB 3.4 MB/s eta 0:00:00\n",
      "Requirement already satisfied: requests in c:\\users\\dell\\anaconda3\\lib\\site-packages (from chart_studio) (2.28.1)\n",
      "Requirement already satisfied: plotly in c:\\users\\dell\\anaconda3\\lib\\site-packages (from chart_studio) (5.9.0)\n",
      "Collecting retrying>=1.3.3\n",
      "  Downloading retrying-1.3.4-py3-none-any.whl (11 kB)\n",
      "Requirement already satisfied: six in c:\\users\\dell\\anaconda3\\lib\\site-packages (from chart_studio) (1.16.0)\n",
      "Requirement already satisfied: tenacity>=6.2.0 in c:\\users\\dell\\anaconda3\\lib\\site-packages (from plotly->chart_studio) (8.0.1)\n",
      "Requirement already satisfied: urllib3<1.27,>=1.21.1 in c:\\users\\dell\\anaconda3\\lib\\site-packages (from requests->chart_studio) (1.26.11)\n",
      "Requirement already satisfied: charset-normalizer<3,>=2 in c:\\users\\dell\\anaconda3\\lib\\site-packages (from requests->chart_studio) (2.0.4)\n",
      "Requirement already satisfied: certifi>=2017.4.17 in c:\\users\\dell\\anaconda3\\lib\\site-packages (from requests->chart_studio) (2022.9.14)\n",
      "Requirement already satisfied: idna<4,>=2.5 in c:\\users\\dell\\anaconda3\\lib\\site-packages (from requests->chart_studio) (3.3)\n",
      "Installing collected packages: retrying, chart_studio\n",
      "Successfully installed chart_studio-1.1.0 retrying-1.3.4\n"
     ]
    }
   ],
   "source": [
    "!pip install chart_studio"
   ]
  },
  {
   "cell_type": "code",
   "execution_count": 56,
   "id": "c17c35f9",
   "metadata": {},
   "outputs": [],
   "source": [
    "import chart_studio.plotly as py\n",
    "import plotly.graph_objs as go\n",
    "import plotly.express as px\n",
    "\n",
    "from plotly.offline import download_plotlyjs , init_notebook_mode , plot , iplot "
   ]
  },
  {
   "cell_type": "code",
   "execution_count": 57,
   "id": "2935940c",
   "metadata": {},
   "outputs": [
    {
     "data": {
      "text/html": [
       "        <script type=\"text/javascript\">\n",
       "        window.PlotlyConfig = {MathJaxConfig: 'local'};\n",
       "        if (window.MathJax && window.MathJax.Hub && window.MathJax.Hub.Config) {window.MathJax.Hub.Config({SVG: {font: \"STIX-Web\"}});}\n",
       "        if (typeof require !== 'undefined') {\n",
       "        require.undef(\"plotly\");\n",
       "        requirejs.config({\n",
       "            paths: {\n",
       "                'plotly': ['https://cdn.plot.ly/plotly-2.12.1.min']\n",
       "            }\n",
       "        });\n",
       "        require(['plotly'], function(Plotly) {\n",
       "            window._Plotly = Plotly;\n",
       "        });\n",
       "        }\n",
       "        </script>\n",
       "        "
      ]
     },
     "metadata": {},
     "output_type": "display_data"
    }
   ],
   "source": [
    "init_notebook_mode(connected=True)"
   ]
  },
  {
   "cell_type": "code",
   "execution_count": 58,
   "id": "30b3e96f",
   "metadata": {},
   "outputs": [
    {
     "data": {
      "text/plain": [
       "Index(['dispatching_base_number', 'date', 'active_vehicles', 'trips'], dtype='object')"
      ]
     },
     "execution_count": 58,
     "metadata": {},
     "output_type": "execute_result"
    }
   ],
   "source": [
    "uber_foil.columns"
   ]
  },
  {
   "cell_type": "code",
   "execution_count": 59,
   "id": "1830be42",
   "metadata": {
    "scrolled": true
   },
   "outputs": [
    {
     "data": {
      "application/vnd.plotly.v1+json": {
       "config": {
        "plotlyServerURL": "https://plot.ly"
       },
       "data": [
        {
         "alignmentgroup": "True",
         "hovertemplate": "dispatching_base_number=%{x}<br>active_vehicles=%{y}<extra></extra>",
         "legendgroup": "",
         "marker": {
          "color": "#636efa"
         },
         "name": "",
         "notched": false,
         "offsetgroup": "",
         "orientation": "v",
         "showlegend": false,
         "type": "box",
         "x": [
          "B02512",
          "B02765",
          "B02764",
          "B02682",
          "B02617",
          "B02598",
          "B02598",
          "B02617",
          "B02512",
          "B02682",
          "B02765",
          "B02764",
          "B02765",
          "B02617",
          "B02598",
          "B02682",
          "B02512",
          "B02764",
          "B02512",
          "B02682",
          "B02598",
          "B02765",
          "B02617",
          "B02764",
          "B02512",
          "B02682",
          "B02617",
          "B02764",
          "B02598",
          "B02765",
          "B02764",
          "B02682",
          "B02617",
          "B02765",
          "B02512",
          "B02598",
          "B02617",
          "B02682",
          "B02764",
          "B02765",
          "B02512",
          "B02598",
          "B02765",
          "B02598",
          "B02512",
          "B02682",
          "B02764",
          "B02617",
          "B02617",
          "B02512",
          "B02764",
          "B02682",
          "B02598",
          "B02765",
          "B02682",
          "B02617",
          "B02598",
          "B02512",
          "B02764",
          "B02765",
          "B02765",
          "B02598",
          "B02682",
          "B02764",
          "B02617",
          "B02512",
          "B02764",
          "B02765",
          "B02512",
          "B02598",
          "B02682",
          "B02617",
          "B02765",
          "B02598",
          "B02617",
          "B02512",
          "B02764",
          "B02682",
          "B02764",
          "B02765",
          "B02598",
          "B02512",
          "B02617",
          "B02682",
          "B02512",
          "B02682",
          "B02617",
          "B02765",
          "B02764",
          "B02598",
          "B02617",
          "B02765",
          "B02764",
          "B02682",
          "B02512",
          "B02598",
          "B02598",
          "B02512",
          "B02682",
          "B02765",
          "B02617",
          "B02764",
          "B02512",
          "B02598",
          "B02765",
          "B02764",
          "B02682",
          "B02617",
          "B02682",
          "B02617",
          "B02765",
          "B02764",
          "B02512",
          "B02598",
          "B02598",
          "B02682",
          "B02512",
          "B02764",
          "B02765",
          "B02617",
          "B02764",
          "B02512",
          "B02682",
          "B02598",
          "B02765",
          "B02617",
          "B02617",
          "B02764",
          "B02512",
          "B02598",
          "B02682",
          "B02765",
          "B02598",
          "B02512",
          "B02765",
          "B02764",
          "B02617",
          "B02682",
          "B02598",
          "B02764",
          "B02512",
          "B02617",
          "B02682",
          "B02765",
          "B02512",
          "B02764",
          "B02765",
          "B02598",
          "B02682",
          "B02617",
          "B02617",
          "B02598",
          "B02765",
          "B02764",
          "B02682",
          "B02512",
          "B02682",
          "B02765",
          "B02617",
          "B02598",
          "B02512",
          "B02764",
          "B02764",
          "B02682",
          "B02765",
          "B02617",
          "B02598",
          "B02512",
          "B02617",
          "B02764",
          "B02682",
          "B02765",
          "B02512",
          "B02598",
          "B02512",
          "B02617",
          "B02682",
          "B02764",
          "B02765",
          "B02598",
          "B02765",
          "B02512",
          "B02617",
          "B02682",
          "B02764",
          "B02598",
          "B02598",
          "B02682",
          "B02512",
          "B02765",
          "B02617",
          "B02764",
          "B02617",
          "B02682",
          "B02765",
          "B02598",
          "B02764",
          "B02512",
          "B02765",
          "B02598",
          "B02512",
          "B02764",
          "B02617",
          "B02682",
          "B02764",
          "B02765",
          "B02512",
          "B02682",
          "B02617",
          "B02598",
          "B02617",
          "B02682",
          "B02598",
          "B02512",
          "B02765",
          "B02764",
          "B02617",
          "B02765",
          "B02598",
          "B02512",
          "B02764",
          "B02682",
          "B02598",
          "B02512",
          "B02617",
          "B02682",
          "B02764",
          "B02765",
          "B02764",
          "B02765",
          "B02598",
          "B02617",
          "B02682",
          "B02512",
          "B02617",
          "B02682",
          "B02598",
          "B02764",
          "B02512",
          "B02765",
          "B02764",
          "B02512",
          "B02617",
          "B02765",
          "B02682",
          "B02598",
          "B02617",
          "B02764",
          "B02512",
          "B02598",
          "B02765",
          "B02682",
          "B02617",
          "B02512",
          "B02682",
          "B02765",
          "B02598",
          "B02764",
          "B02617",
          "B02682",
          "B02764",
          "B02765",
          "B02512",
          "B02598",
          "B02764",
          "B02512",
          "B02598",
          "B02765",
          "B02617",
          "B02682",
          "B02682",
          "B02764",
          "B02617",
          "B02765",
          "B02512",
          "B02598",
          "B02598",
          "B02512",
          "B02617",
          "B02764",
          "B02682",
          "B02765",
          "B02764",
          "B02512",
          "B02682",
          "B02617",
          "B02598",
          "B02765",
          "B02598",
          "B02682",
          "B02617",
          "B02765",
          "B02764",
          "B02512",
          "B02598",
          "B02512",
          "B02682",
          "B02764",
          "B02765",
          "B02617",
          "B02764",
          "B02617",
          "B02598",
          "B02682",
          "B02765",
          "B02512",
          "B02598",
          "B02682",
          "B02765",
          "B02617",
          "B02512",
          "B02764",
          "B02512",
          "B02617",
          "B02682",
          "B02764",
          "B02598",
          "B02765",
          "B02598",
          "B02617",
          "B02764",
          "B02682",
          "B02765",
          "B02512",
          "B02764",
          "B02512",
          "B02598",
          "B02682",
          "B02617",
          "B02765",
          "B02512",
          "B02598",
          "B02765",
          "B02682",
          "B02617",
          "B02764",
          "B02598",
          "B02617",
          "B02682",
          "B02512",
          "B02765",
          "B02764",
          "B02765",
          "B02617",
          "B02598",
          "B02512",
          "B02764",
          "B02682",
          "B02598",
          "B02764",
          "B02617",
          "B02682",
          "B02512",
          "B02765"
         ],
         "x0": " ",
         "xaxis": "x",
         "y": [
          190,
          225,
          3427,
          945,
          1228,
          870,
          785,
          1137,
          175,
          890,
          196,
          3147,
          201,
          1188,
          818,
          915,
          173,
          3215,
          147,
          812,
          746,
          183,
          1088,
          2862,
          194,
          951,
          1218,
          3387,
          907,
          227,
          3473,
          1022,
          1336,
          234,
          218,
          933,
          1363,
          1039,
          3603,
          248,
          217,
          974,
          262,
          1070,
          238,
          1135,
          3831,
          1463,
          1455,
          224,
          3820,
          1140,
          1070,
          280,
          1057,
          1331,
          949,
          206,
          3558,
          245,
          220,
          832,
          943,
          3186,
          1228,
          162,
          3499,
          279,
          217,
          964,
          1082,
          1323,
          258,
          975,
          1342,
          234,
          3658,
          1092,
          3736,
          271,
          1030,
          233,
          1405,
          1174,
          237,
          1208,
          1457,
          270,
          3840,
          1068,
          1445,
          290,
          3975,
          1250,
          234,
          1079,
          974,
          201,
          1137,
          252,
          1306,
          3657,
          177,
          869,
          248,
          3290,
          1056,
          1223,
          883,
          992,
          238,
          2958,
          168,
          706,
          944,
          1151,
          221,
          3654,
          272,
          1350,
          3718,
          242,
          1228,
          1035,
          296,
          1429,
          1471,
          3889,
          246,
          1071,
          1295,
          295,
          1093,
          246,
          299,
          4040,
          1482,
          1330,
          945,
          3652,
          211,
          1367,
          1223,
          245,
          183,
          3300,
          226,
          829,
          1046,
          1203,
          1150,
          860,
          230,
          3012,
          1084,
          197,
          600,
          135,
          596,
          434,
          112,
          1619,
          3692,
          1235,
          286,
          1356,
          1011,
          235,
          1474,
          3959,
          1316,
          295,
          250,
          1082,
          256,
          1501,
          1384,
          4124,
          322,
          1106,
          309,
          225,
          1394,
          1321,
          3947,
          1027,
          961,
          1214,
          193,
          289,
          1355,
          3740,
          1217,
          1152,
          275,
          939,
          3270,
          227,
          299,
          991,
          257,
          3674,
          1350,
          1269,
          3856,
          309,
          244,
          1311,
          1393,
          1072,
          1524,
          1418,
          1179,
          264,
          355,
          4093,
          1526,
          385,
          1181,
          261,
          4170,
          1414,
          1031,
          211,
          1383,
          1300,
          3849,
          345,
          3422,
          313,
          923,
          1256,
          1136,
          176,
          1312,
          1241,
          976,
          3543,
          228,
          388,
          3700,
          233,
          1364,
          422,
          1281,
          1029,
          1450,
          3849,
          255,
          1115,
          450,
          1396,
          1532,
          269,
          1468,
          536,
          1181,
          4137,
          1590,
          1523,
          4395,
          599,
          281,
          1216,
          4129,
          236,
          1111,
          583,
          1486,
          1428,
          1261,
          3651,
          1293,
          521,
          210,
          1003,
          934,
          207,
          1214,
          3524,
          1164,
          508,
          3826,
          241,
          1314,
          1378,
          1066,
          578,
          1078,
          1314,
          1394,
          586,
          3842,
          228,
          1127,
          250,
          1428,
          4110,
          663,
          1452,
          4384,
          1574,
          1186,
          1497,
          736,
          272,
          1044,
          1374,
          685,
          1443,
          238,
          3981,
          199,
          1248,
          1220,
          3478,
          909,
          566,
          966,
          1332,
          3734,
          1262,
          665,
          238,
          3965,
          247,
          1061,
          1346,
          1456,
          698,
          246,
          1076,
          706,
          1395,
          1473,
          3934,
          1134,
          1539,
          1465,
          243,
          745,
          4101,
          786,
          1551,
          1114,
          272,
          4253,
          1510,
          994,
          3952,
          1372,
          1386,
          230,
          747
         ],
         "y0": " ",
         "yaxis": "y"
        }
       ],
       "layout": {
        "boxmode": "group",
        "legend": {
         "tracegroupgap": 0
        },
        "margin": {
         "t": 60
        },
        "template": {
         "data": {
          "bar": [
           {
            "error_x": {
             "color": "#2a3f5f"
            },
            "error_y": {
             "color": "#2a3f5f"
            },
            "marker": {
             "line": {
              "color": "#E5ECF6",
              "width": 0.5
             },
             "pattern": {
              "fillmode": "overlay",
              "size": 10,
              "solidity": 0.2
             }
            },
            "type": "bar"
           }
          ],
          "barpolar": [
           {
            "marker": {
             "line": {
              "color": "#E5ECF6",
              "width": 0.5
             },
             "pattern": {
              "fillmode": "overlay",
              "size": 10,
              "solidity": 0.2
             }
            },
            "type": "barpolar"
           }
          ],
          "carpet": [
           {
            "aaxis": {
             "endlinecolor": "#2a3f5f",
             "gridcolor": "white",
             "linecolor": "white",
             "minorgridcolor": "white",
             "startlinecolor": "#2a3f5f"
            },
            "baxis": {
             "endlinecolor": "#2a3f5f",
             "gridcolor": "white",
             "linecolor": "white",
             "minorgridcolor": "white",
             "startlinecolor": "#2a3f5f"
            },
            "type": "carpet"
           }
          ],
          "choropleth": [
           {
            "colorbar": {
             "outlinewidth": 0,
             "ticks": ""
            },
            "type": "choropleth"
           }
          ],
          "contour": [
           {
            "colorbar": {
             "outlinewidth": 0,
             "ticks": ""
            },
            "colorscale": [
             [
              0,
              "#0d0887"
             ],
             [
              0.1111111111111111,
              "#46039f"
             ],
             [
              0.2222222222222222,
              "#7201a8"
             ],
             [
              0.3333333333333333,
              "#9c179e"
             ],
             [
              0.4444444444444444,
              "#bd3786"
             ],
             [
              0.5555555555555556,
              "#d8576b"
             ],
             [
              0.6666666666666666,
              "#ed7953"
             ],
             [
              0.7777777777777778,
              "#fb9f3a"
             ],
             [
              0.8888888888888888,
              "#fdca26"
             ],
             [
              1,
              "#f0f921"
             ]
            ],
            "type": "contour"
           }
          ],
          "contourcarpet": [
           {
            "colorbar": {
             "outlinewidth": 0,
             "ticks": ""
            },
            "type": "contourcarpet"
           }
          ],
          "heatmap": [
           {
            "colorbar": {
             "outlinewidth": 0,
             "ticks": ""
            },
            "colorscale": [
             [
              0,
              "#0d0887"
             ],
             [
              0.1111111111111111,
              "#46039f"
             ],
             [
              0.2222222222222222,
              "#7201a8"
             ],
             [
              0.3333333333333333,
              "#9c179e"
             ],
             [
              0.4444444444444444,
              "#bd3786"
             ],
             [
              0.5555555555555556,
              "#d8576b"
             ],
             [
              0.6666666666666666,
              "#ed7953"
             ],
             [
              0.7777777777777778,
              "#fb9f3a"
             ],
             [
              0.8888888888888888,
              "#fdca26"
             ],
             [
              1,
              "#f0f921"
             ]
            ],
            "type": "heatmap"
           }
          ],
          "heatmapgl": [
           {
            "colorbar": {
             "outlinewidth": 0,
             "ticks": ""
            },
            "colorscale": [
             [
              0,
              "#0d0887"
             ],
             [
              0.1111111111111111,
              "#46039f"
             ],
             [
              0.2222222222222222,
              "#7201a8"
             ],
             [
              0.3333333333333333,
              "#9c179e"
             ],
             [
              0.4444444444444444,
              "#bd3786"
             ],
             [
              0.5555555555555556,
              "#d8576b"
             ],
             [
              0.6666666666666666,
              "#ed7953"
             ],
             [
              0.7777777777777778,
              "#fb9f3a"
             ],
             [
              0.8888888888888888,
              "#fdca26"
             ],
             [
              1,
              "#f0f921"
             ]
            ],
            "type": "heatmapgl"
           }
          ],
          "histogram": [
           {
            "marker": {
             "pattern": {
              "fillmode": "overlay",
              "size": 10,
              "solidity": 0.2
             }
            },
            "type": "histogram"
           }
          ],
          "histogram2d": [
           {
            "colorbar": {
             "outlinewidth": 0,
             "ticks": ""
            },
            "colorscale": [
             [
              0,
              "#0d0887"
             ],
             [
              0.1111111111111111,
              "#46039f"
             ],
             [
              0.2222222222222222,
              "#7201a8"
             ],
             [
              0.3333333333333333,
              "#9c179e"
             ],
             [
              0.4444444444444444,
              "#bd3786"
             ],
             [
              0.5555555555555556,
              "#d8576b"
             ],
             [
              0.6666666666666666,
              "#ed7953"
             ],
             [
              0.7777777777777778,
              "#fb9f3a"
             ],
             [
              0.8888888888888888,
              "#fdca26"
             ],
             [
              1,
              "#f0f921"
             ]
            ],
            "type": "histogram2d"
           }
          ],
          "histogram2dcontour": [
           {
            "colorbar": {
             "outlinewidth": 0,
             "ticks": ""
            },
            "colorscale": [
             [
              0,
              "#0d0887"
             ],
             [
              0.1111111111111111,
              "#46039f"
             ],
             [
              0.2222222222222222,
              "#7201a8"
             ],
             [
              0.3333333333333333,
              "#9c179e"
             ],
             [
              0.4444444444444444,
              "#bd3786"
             ],
             [
              0.5555555555555556,
              "#d8576b"
             ],
             [
              0.6666666666666666,
              "#ed7953"
             ],
             [
              0.7777777777777778,
              "#fb9f3a"
             ],
             [
              0.8888888888888888,
              "#fdca26"
             ],
             [
              1,
              "#f0f921"
             ]
            ],
            "type": "histogram2dcontour"
           }
          ],
          "mesh3d": [
           {
            "colorbar": {
             "outlinewidth": 0,
             "ticks": ""
            },
            "type": "mesh3d"
           }
          ],
          "parcoords": [
           {
            "line": {
             "colorbar": {
              "outlinewidth": 0,
              "ticks": ""
             }
            },
            "type": "parcoords"
           }
          ],
          "pie": [
           {
            "automargin": true,
            "type": "pie"
           }
          ],
          "scatter": [
           {
            "fillpattern": {
             "fillmode": "overlay",
             "size": 10,
             "solidity": 0.2
            },
            "type": "scatter"
           }
          ],
          "scatter3d": [
           {
            "line": {
             "colorbar": {
              "outlinewidth": 0,
              "ticks": ""
             }
            },
            "marker": {
             "colorbar": {
              "outlinewidth": 0,
              "ticks": ""
             }
            },
            "type": "scatter3d"
           }
          ],
          "scattercarpet": [
           {
            "marker": {
             "colorbar": {
              "outlinewidth": 0,
              "ticks": ""
             }
            },
            "type": "scattercarpet"
           }
          ],
          "scattergeo": [
           {
            "marker": {
             "colorbar": {
              "outlinewidth": 0,
              "ticks": ""
             }
            },
            "type": "scattergeo"
           }
          ],
          "scattergl": [
           {
            "marker": {
             "colorbar": {
              "outlinewidth": 0,
              "ticks": ""
             }
            },
            "type": "scattergl"
           }
          ],
          "scattermapbox": [
           {
            "marker": {
             "colorbar": {
              "outlinewidth": 0,
              "ticks": ""
             }
            },
            "type": "scattermapbox"
           }
          ],
          "scatterpolar": [
           {
            "marker": {
             "colorbar": {
              "outlinewidth": 0,
              "ticks": ""
             }
            },
            "type": "scatterpolar"
           }
          ],
          "scatterpolargl": [
           {
            "marker": {
             "colorbar": {
              "outlinewidth": 0,
              "ticks": ""
             }
            },
            "type": "scatterpolargl"
           }
          ],
          "scatterternary": [
           {
            "marker": {
             "colorbar": {
              "outlinewidth": 0,
              "ticks": ""
             }
            },
            "type": "scatterternary"
           }
          ],
          "surface": [
           {
            "colorbar": {
             "outlinewidth": 0,
             "ticks": ""
            },
            "colorscale": [
             [
              0,
              "#0d0887"
             ],
             [
              0.1111111111111111,
              "#46039f"
             ],
             [
              0.2222222222222222,
              "#7201a8"
             ],
             [
              0.3333333333333333,
              "#9c179e"
             ],
             [
              0.4444444444444444,
              "#bd3786"
             ],
             [
              0.5555555555555556,
              "#d8576b"
             ],
             [
              0.6666666666666666,
              "#ed7953"
             ],
             [
              0.7777777777777778,
              "#fb9f3a"
             ],
             [
              0.8888888888888888,
              "#fdca26"
             ],
             [
              1,
              "#f0f921"
             ]
            ],
            "type": "surface"
           }
          ],
          "table": [
           {
            "cells": {
             "fill": {
              "color": "#EBF0F8"
             },
             "line": {
              "color": "white"
             }
            },
            "header": {
             "fill": {
              "color": "#C8D4E3"
             },
             "line": {
              "color": "white"
             }
            },
            "type": "table"
           }
          ]
         },
         "layout": {
          "annotationdefaults": {
           "arrowcolor": "#2a3f5f",
           "arrowhead": 0,
           "arrowwidth": 1
          },
          "autotypenumbers": "strict",
          "coloraxis": {
           "colorbar": {
            "outlinewidth": 0,
            "ticks": ""
           }
          },
          "colorscale": {
           "diverging": [
            [
             0,
             "#8e0152"
            ],
            [
             0.1,
             "#c51b7d"
            ],
            [
             0.2,
             "#de77ae"
            ],
            [
             0.3,
             "#f1b6da"
            ],
            [
             0.4,
             "#fde0ef"
            ],
            [
             0.5,
             "#f7f7f7"
            ],
            [
             0.6,
             "#e6f5d0"
            ],
            [
             0.7,
             "#b8e186"
            ],
            [
             0.8,
             "#7fbc41"
            ],
            [
             0.9,
             "#4d9221"
            ],
            [
             1,
             "#276419"
            ]
           ],
           "sequential": [
            [
             0,
             "#0d0887"
            ],
            [
             0.1111111111111111,
             "#46039f"
            ],
            [
             0.2222222222222222,
             "#7201a8"
            ],
            [
             0.3333333333333333,
             "#9c179e"
            ],
            [
             0.4444444444444444,
             "#bd3786"
            ],
            [
             0.5555555555555556,
             "#d8576b"
            ],
            [
             0.6666666666666666,
             "#ed7953"
            ],
            [
             0.7777777777777778,
             "#fb9f3a"
            ],
            [
             0.8888888888888888,
             "#fdca26"
            ],
            [
             1,
             "#f0f921"
            ]
           ],
           "sequentialminus": [
            [
             0,
             "#0d0887"
            ],
            [
             0.1111111111111111,
             "#46039f"
            ],
            [
             0.2222222222222222,
             "#7201a8"
            ],
            [
             0.3333333333333333,
             "#9c179e"
            ],
            [
             0.4444444444444444,
             "#bd3786"
            ],
            [
             0.5555555555555556,
             "#d8576b"
            ],
            [
             0.6666666666666666,
             "#ed7953"
            ],
            [
             0.7777777777777778,
             "#fb9f3a"
            ],
            [
             0.8888888888888888,
             "#fdca26"
            ],
            [
             1,
             "#f0f921"
            ]
           ]
          },
          "colorway": [
           "#636efa",
           "#EF553B",
           "#00cc96",
           "#ab63fa",
           "#FFA15A",
           "#19d3f3",
           "#FF6692",
           "#B6E880",
           "#FF97FF",
           "#FECB52"
          ],
          "font": {
           "color": "#2a3f5f"
          },
          "geo": {
           "bgcolor": "white",
           "lakecolor": "white",
           "landcolor": "#E5ECF6",
           "showlakes": true,
           "showland": true,
           "subunitcolor": "white"
          },
          "hoverlabel": {
           "align": "left"
          },
          "hovermode": "closest",
          "mapbox": {
           "style": "light"
          },
          "paper_bgcolor": "white",
          "plot_bgcolor": "#E5ECF6",
          "polar": {
           "angularaxis": {
            "gridcolor": "white",
            "linecolor": "white",
            "ticks": ""
           },
           "bgcolor": "#E5ECF6",
           "radialaxis": {
            "gridcolor": "white",
            "linecolor": "white",
            "ticks": ""
           }
          },
          "scene": {
           "xaxis": {
            "backgroundcolor": "#E5ECF6",
            "gridcolor": "white",
            "gridwidth": 2,
            "linecolor": "white",
            "showbackground": true,
            "ticks": "",
            "zerolinecolor": "white"
           },
           "yaxis": {
            "backgroundcolor": "#E5ECF6",
            "gridcolor": "white",
            "gridwidth": 2,
            "linecolor": "white",
            "showbackground": true,
            "ticks": "",
            "zerolinecolor": "white"
           },
           "zaxis": {
            "backgroundcolor": "#E5ECF6",
            "gridcolor": "white",
            "gridwidth": 2,
            "linecolor": "white",
            "showbackground": true,
            "ticks": "",
            "zerolinecolor": "white"
           }
          },
          "shapedefaults": {
           "line": {
            "color": "#2a3f5f"
           }
          },
          "ternary": {
           "aaxis": {
            "gridcolor": "white",
            "linecolor": "white",
            "ticks": ""
           },
           "baxis": {
            "gridcolor": "white",
            "linecolor": "white",
            "ticks": ""
           },
           "bgcolor": "#E5ECF6",
           "caxis": {
            "gridcolor": "white",
            "linecolor": "white",
            "ticks": ""
           }
          },
          "title": {
           "x": 0.05
          },
          "xaxis": {
           "automargin": true,
           "gridcolor": "white",
           "linecolor": "white",
           "ticks": "",
           "title": {
            "standoff": 15
           },
           "zerolinecolor": "white",
           "zerolinewidth": 2
          },
          "yaxis": {
           "automargin": true,
           "gridcolor": "white",
           "linecolor": "white",
           "ticks": "",
           "title": {
            "standoff": 15
           },
           "zerolinecolor": "white",
           "zerolinewidth": 2
          }
         }
        },
        "xaxis": {
         "anchor": "y",
         "domain": [
          0,
          1
         ],
         "title": {
          "text": "dispatching_base_number"
         }
        },
        "yaxis": {
         "anchor": "x",
         "domain": [
          0,
          1
         ],
         "title": {
          "text": "active_vehicles"
         }
        }
       }
      },
      "text/html": [
       "<div>                            <div id=\"0c8f244c-cf49-4555-9b4b-ccfa4dffafc7\" class=\"plotly-graph-div\" style=\"height:525px; width:100%;\"></div>            <script type=\"text/javascript\">                require([\"plotly\"], function(Plotly) {                    window.PLOTLYENV=window.PLOTLYENV || {};                                    if (document.getElementById(\"0c8f244c-cf49-4555-9b4b-ccfa4dffafc7\")) {                    Plotly.newPlot(                        \"0c8f244c-cf49-4555-9b4b-ccfa4dffafc7\",                        [{\"alignmentgroup\":\"True\",\"hovertemplate\":\"dispatching_base_number=%{x}<br>active_vehicles=%{y}<extra></extra>\",\"legendgroup\":\"\",\"marker\":{\"color\":\"#636efa\"},\"name\":\"\",\"notched\":false,\"offsetgroup\":\"\",\"orientation\":\"v\",\"showlegend\":false,\"x\":[\"B02512\",\"B02765\",\"B02764\",\"B02682\",\"B02617\",\"B02598\",\"B02598\",\"B02617\",\"B02512\",\"B02682\",\"B02765\",\"B02764\",\"B02765\",\"B02617\",\"B02598\",\"B02682\",\"B02512\",\"B02764\",\"B02512\",\"B02682\",\"B02598\",\"B02765\",\"B02617\",\"B02764\",\"B02512\",\"B02682\",\"B02617\",\"B02764\",\"B02598\",\"B02765\",\"B02764\",\"B02682\",\"B02617\",\"B02765\",\"B02512\",\"B02598\",\"B02617\",\"B02682\",\"B02764\",\"B02765\",\"B02512\",\"B02598\",\"B02765\",\"B02598\",\"B02512\",\"B02682\",\"B02764\",\"B02617\",\"B02617\",\"B02512\",\"B02764\",\"B02682\",\"B02598\",\"B02765\",\"B02682\",\"B02617\",\"B02598\",\"B02512\",\"B02764\",\"B02765\",\"B02765\",\"B02598\",\"B02682\",\"B02764\",\"B02617\",\"B02512\",\"B02764\",\"B02765\",\"B02512\",\"B02598\",\"B02682\",\"B02617\",\"B02765\",\"B02598\",\"B02617\",\"B02512\",\"B02764\",\"B02682\",\"B02764\",\"B02765\",\"B02598\",\"B02512\",\"B02617\",\"B02682\",\"B02512\",\"B02682\",\"B02617\",\"B02765\",\"B02764\",\"B02598\",\"B02617\",\"B02765\",\"B02764\",\"B02682\",\"B02512\",\"B02598\",\"B02598\",\"B02512\",\"B02682\",\"B02765\",\"B02617\",\"B02764\",\"B02512\",\"B02598\",\"B02765\",\"B02764\",\"B02682\",\"B02617\",\"B02682\",\"B02617\",\"B02765\",\"B02764\",\"B02512\",\"B02598\",\"B02598\",\"B02682\",\"B02512\",\"B02764\",\"B02765\",\"B02617\",\"B02764\",\"B02512\",\"B02682\",\"B02598\",\"B02765\",\"B02617\",\"B02617\",\"B02764\",\"B02512\",\"B02598\",\"B02682\",\"B02765\",\"B02598\",\"B02512\",\"B02765\",\"B02764\",\"B02617\",\"B02682\",\"B02598\",\"B02764\",\"B02512\",\"B02617\",\"B02682\",\"B02765\",\"B02512\",\"B02764\",\"B02765\",\"B02598\",\"B02682\",\"B02617\",\"B02617\",\"B02598\",\"B02765\",\"B02764\",\"B02682\",\"B02512\",\"B02682\",\"B02765\",\"B02617\",\"B02598\",\"B02512\",\"B02764\",\"B02764\",\"B02682\",\"B02765\",\"B02617\",\"B02598\",\"B02512\",\"B02617\",\"B02764\",\"B02682\",\"B02765\",\"B02512\",\"B02598\",\"B02512\",\"B02617\",\"B02682\",\"B02764\",\"B02765\",\"B02598\",\"B02765\",\"B02512\",\"B02617\",\"B02682\",\"B02764\",\"B02598\",\"B02598\",\"B02682\",\"B02512\",\"B02765\",\"B02617\",\"B02764\",\"B02617\",\"B02682\",\"B02765\",\"B02598\",\"B02764\",\"B02512\",\"B02765\",\"B02598\",\"B02512\",\"B02764\",\"B02617\",\"B02682\",\"B02764\",\"B02765\",\"B02512\",\"B02682\",\"B02617\",\"B02598\",\"B02617\",\"B02682\",\"B02598\",\"B02512\",\"B02765\",\"B02764\",\"B02617\",\"B02765\",\"B02598\",\"B02512\",\"B02764\",\"B02682\",\"B02598\",\"B02512\",\"B02617\",\"B02682\",\"B02764\",\"B02765\",\"B02764\",\"B02765\",\"B02598\",\"B02617\",\"B02682\",\"B02512\",\"B02617\",\"B02682\",\"B02598\",\"B02764\",\"B02512\",\"B02765\",\"B02764\",\"B02512\",\"B02617\",\"B02765\",\"B02682\",\"B02598\",\"B02617\",\"B02764\",\"B02512\",\"B02598\",\"B02765\",\"B02682\",\"B02617\",\"B02512\",\"B02682\",\"B02765\",\"B02598\",\"B02764\",\"B02617\",\"B02682\",\"B02764\",\"B02765\",\"B02512\",\"B02598\",\"B02764\",\"B02512\",\"B02598\",\"B02765\",\"B02617\",\"B02682\",\"B02682\",\"B02764\",\"B02617\",\"B02765\",\"B02512\",\"B02598\",\"B02598\",\"B02512\",\"B02617\",\"B02764\",\"B02682\",\"B02765\",\"B02764\",\"B02512\",\"B02682\",\"B02617\",\"B02598\",\"B02765\",\"B02598\",\"B02682\",\"B02617\",\"B02765\",\"B02764\",\"B02512\",\"B02598\",\"B02512\",\"B02682\",\"B02764\",\"B02765\",\"B02617\",\"B02764\",\"B02617\",\"B02598\",\"B02682\",\"B02765\",\"B02512\",\"B02598\",\"B02682\",\"B02765\",\"B02617\",\"B02512\",\"B02764\",\"B02512\",\"B02617\",\"B02682\",\"B02764\",\"B02598\",\"B02765\",\"B02598\",\"B02617\",\"B02764\",\"B02682\",\"B02765\",\"B02512\",\"B02764\",\"B02512\",\"B02598\",\"B02682\",\"B02617\",\"B02765\",\"B02512\",\"B02598\",\"B02765\",\"B02682\",\"B02617\",\"B02764\",\"B02598\",\"B02617\",\"B02682\",\"B02512\",\"B02765\",\"B02764\",\"B02765\",\"B02617\",\"B02598\",\"B02512\",\"B02764\",\"B02682\",\"B02598\",\"B02764\",\"B02617\",\"B02682\",\"B02512\",\"B02765\"],\"x0\":\" \",\"xaxis\":\"x\",\"y\":[190,225,3427,945,1228,870,785,1137,175,890,196,3147,201,1188,818,915,173,3215,147,812,746,183,1088,2862,194,951,1218,3387,907,227,3473,1022,1336,234,218,933,1363,1039,3603,248,217,974,262,1070,238,1135,3831,1463,1455,224,3820,1140,1070,280,1057,1331,949,206,3558,245,220,832,943,3186,1228,162,3499,279,217,964,1082,1323,258,975,1342,234,3658,1092,3736,271,1030,233,1405,1174,237,1208,1457,270,3840,1068,1445,290,3975,1250,234,1079,974,201,1137,252,1306,3657,177,869,248,3290,1056,1223,883,992,238,2958,168,706,944,1151,221,3654,272,1350,3718,242,1228,1035,296,1429,1471,3889,246,1071,1295,295,1093,246,299,4040,1482,1330,945,3652,211,1367,1223,245,183,3300,226,829,1046,1203,1150,860,230,3012,1084,197,600,135,596,434,112,1619,3692,1235,286,1356,1011,235,1474,3959,1316,295,250,1082,256,1501,1384,4124,322,1106,309,225,1394,1321,3947,1027,961,1214,193,289,1355,3740,1217,1152,275,939,3270,227,299,991,257,3674,1350,1269,3856,309,244,1311,1393,1072,1524,1418,1179,264,355,4093,1526,385,1181,261,4170,1414,1031,211,1383,1300,3849,345,3422,313,923,1256,1136,176,1312,1241,976,3543,228,388,3700,233,1364,422,1281,1029,1450,3849,255,1115,450,1396,1532,269,1468,536,1181,4137,1590,1523,4395,599,281,1216,4129,236,1111,583,1486,1428,1261,3651,1293,521,210,1003,934,207,1214,3524,1164,508,3826,241,1314,1378,1066,578,1078,1314,1394,586,3842,228,1127,250,1428,4110,663,1452,4384,1574,1186,1497,736,272,1044,1374,685,1443,238,3981,199,1248,1220,3478,909,566,966,1332,3734,1262,665,238,3965,247,1061,1346,1456,698,246,1076,706,1395,1473,3934,1134,1539,1465,243,745,4101,786,1551,1114,272,4253,1510,994,3952,1372,1386,230,747],\"y0\":\" \",\"yaxis\":\"y\",\"type\":\"box\"}],                        {\"template\":{\"data\":{\"histogram2dcontour\":[{\"type\":\"histogram2dcontour\",\"colorbar\":{\"outlinewidth\":0,\"ticks\":\"\"},\"colorscale\":[[0.0,\"#0d0887\"],[0.1111111111111111,\"#46039f\"],[0.2222222222222222,\"#7201a8\"],[0.3333333333333333,\"#9c179e\"],[0.4444444444444444,\"#bd3786\"],[0.5555555555555556,\"#d8576b\"],[0.6666666666666666,\"#ed7953\"],[0.7777777777777778,\"#fb9f3a\"],[0.8888888888888888,\"#fdca26\"],[1.0,\"#f0f921\"]]}],\"choropleth\":[{\"type\":\"choropleth\",\"colorbar\":{\"outlinewidth\":0,\"ticks\":\"\"}}],\"histogram2d\":[{\"type\":\"histogram2d\",\"colorbar\":{\"outlinewidth\":0,\"ticks\":\"\"},\"colorscale\":[[0.0,\"#0d0887\"],[0.1111111111111111,\"#46039f\"],[0.2222222222222222,\"#7201a8\"],[0.3333333333333333,\"#9c179e\"],[0.4444444444444444,\"#bd3786\"],[0.5555555555555556,\"#d8576b\"],[0.6666666666666666,\"#ed7953\"],[0.7777777777777778,\"#fb9f3a\"],[0.8888888888888888,\"#fdca26\"],[1.0,\"#f0f921\"]]}],\"heatmap\":[{\"type\":\"heatmap\",\"colorbar\":{\"outlinewidth\":0,\"ticks\":\"\"},\"colorscale\":[[0.0,\"#0d0887\"],[0.1111111111111111,\"#46039f\"],[0.2222222222222222,\"#7201a8\"],[0.3333333333333333,\"#9c179e\"],[0.4444444444444444,\"#bd3786\"],[0.5555555555555556,\"#d8576b\"],[0.6666666666666666,\"#ed7953\"],[0.7777777777777778,\"#fb9f3a\"],[0.8888888888888888,\"#fdca26\"],[1.0,\"#f0f921\"]]}],\"heatmapgl\":[{\"type\":\"heatmapgl\",\"colorbar\":{\"outlinewidth\":0,\"ticks\":\"\"},\"colorscale\":[[0.0,\"#0d0887\"],[0.1111111111111111,\"#46039f\"],[0.2222222222222222,\"#7201a8\"],[0.3333333333333333,\"#9c179e\"],[0.4444444444444444,\"#bd3786\"],[0.5555555555555556,\"#d8576b\"],[0.6666666666666666,\"#ed7953\"],[0.7777777777777778,\"#fb9f3a\"],[0.8888888888888888,\"#fdca26\"],[1.0,\"#f0f921\"]]}],\"contourcarpet\":[{\"type\":\"contourcarpet\",\"colorbar\":{\"outlinewidth\":0,\"ticks\":\"\"}}],\"contour\":[{\"type\":\"contour\",\"colorbar\":{\"outlinewidth\":0,\"ticks\":\"\"},\"colorscale\":[[0.0,\"#0d0887\"],[0.1111111111111111,\"#46039f\"],[0.2222222222222222,\"#7201a8\"],[0.3333333333333333,\"#9c179e\"],[0.4444444444444444,\"#bd3786\"],[0.5555555555555556,\"#d8576b\"],[0.6666666666666666,\"#ed7953\"],[0.7777777777777778,\"#fb9f3a\"],[0.8888888888888888,\"#fdca26\"],[1.0,\"#f0f921\"]]}],\"surface\":[{\"type\":\"surface\",\"colorbar\":{\"outlinewidth\":0,\"ticks\":\"\"},\"colorscale\":[[0.0,\"#0d0887\"],[0.1111111111111111,\"#46039f\"],[0.2222222222222222,\"#7201a8\"],[0.3333333333333333,\"#9c179e\"],[0.4444444444444444,\"#bd3786\"],[0.5555555555555556,\"#d8576b\"],[0.6666666666666666,\"#ed7953\"],[0.7777777777777778,\"#fb9f3a\"],[0.8888888888888888,\"#fdca26\"],[1.0,\"#f0f921\"]]}],\"mesh3d\":[{\"type\":\"mesh3d\",\"colorbar\":{\"outlinewidth\":0,\"ticks\":\"\"}}],\"scatter\":[{\"fillpattern\":{\"fillmode\":\"overlay\",\"size\":10,\"solidity\":0.2},\"type\":\"scatter\"}],\"parcoords\":[{\"type\":\"parcoords\",\"line\":{\"colorbar\":{\"outlinewidth\":0,\"ticks\":\"\"}}}],\"scatterpolargl\":[{\"type\":\"scatterpolargl\",\"marker\":{\"colorbar\":{\"outlinewidth\":0,\"ticks\":\"\"}}}],\"bar\":[{\"error_x\":{\"color\":\"#2a3f5f\"},\"error_y\":{\"color\":\"#2a3f5f\"},\"marker\":{\"line\":{\"color\":\"#E5ECF6\",\"width\":0.5},\"pattern\":{\"fillmode\":\"overlay\",\"size\":10,\"solidity\":0.2}},\"type\":\"bar\"}],\"scattergeo\":[{\"type\":\"scattergeo\",\"marker\":{\"colorbar\":{\"outlinewidth\":0,\"ticks\":\"\"}}}],\"scatterpolar\":[{\"type\":\"scatterpolar\",\"marker\":{\"colorbar\":{\"outlinewidth\":0,\"ticks\":\"\"}}}],\"histogram\":[{\"marker\":{\"pattern\":{\"fillmode\":\"overlay\",\"size\":10,\"solidity\":0.2}},\"type\":\"histogram\"}],\"scattergl\":[{\"type\":\"scattergl\",\"marker\":{\"colorbar\":{\"outlinewidth\":0,\"ticks\":\"\"}}}],\"scatter3d\":[{\"type\":\"scatter3d\",\"line\":{\"colorbar\":{\"outlinewidth\":0,\"ticks\":\"\"}},\"marker\":{\"colorbar\":{\"outlinewidth\":0,\"ticks\":\"\"}}}],\"scattermapbox\":[{\"type\":\"scattermapbox\",\"marker\":{\"colorbar\":{\"outlinewidth\":0,\"ticks\":\"\"}}}],\"scatterternary\":[{\"type\":\"scatterternary\",\"marker\":{\"colorbar\":{\"outlinewidth\":0,\"ticks\":\"\"}}}],\"scattercarpet\":[{\"type\":\"scattercarpet\",\"marker\":{\"colorbar\":{\"outlinewidth\":0,\"ticks\":\"\"}}}],\"carpet\":[{\"aaxis\":{\"endlinecolor\":\"#2a3f5f\",\"gridcolor\":\"white\",\"linecolor\":\"white\",\"minorgridcolor\":\"white\",\"startlinecolor\":\"#2a3f5f\"},\"baxis\":{\"endlinecolor\":\"#2a3f5f\",\"gridcolor\":\"white\",\"linecolor\":\"white\",\"minorgridcolor\":\"white\",\"startlinecolor\":\"#2a3f5f\"},\"type\":\"carpet\"}],\"table\":[{\"cells\":{\"fill\":{\"color\":\"#EBF0F8\"},\"line\":{\"color\":\"white\"}},\"header\":{\"fill\":{\"color\":\"#C8D4E3\"},\"line\":{\"color\":\"white\"}},\"type\":\"table\"}],\"barpolar\":[{\"marker\":{\"line\":{\"color\":\"#E5ECF6\",\"width\":0.5},\"pattern\":{\"fillmode\":\"overlay\",\"size\":10,\"solidity\":0.2}},\"type\":\"barpolar\"}],\"pie\":[{\"automargin\":true,\"type\":\"pie\"}]},\"layout\":{\"autotypenumbers\":\"strict\",\"colorway\":[\"#636efa\",\"#EF553B\",\"#00cc96\",\"#ab63fa\",\"#FFA15A\",\"#19d3f3\",\"#FF6692\",\"#B6E880\",\"#FF97FF\",\"#FECB52\"],\"font\":{\"color\":\"#2a3f5f\"},\"hovermode\":\"closest\",\"hoverlabel\":{\"align\":\"left\"},\"paper_bgcolor\":\"white\",\"plot_bgcolor\":\"#E5ECF6\",\"polar\":{\"bgcolor\":\"#E5ECF6\",\"angularaxis\":{\"gridcolor\":\"white\",\"linecolor\":\"white\",\"ticks\":\"\"},\"radialaxis\":{\"gridcolor\":\"white\",\"linecolor\":\"white\",\"ticks\":\"\"}},\"ternary\":{\"bgcolor\":\"#E5ECF6\",\"aaxis\":{\"gridcolor\":\"white\",\"linecolor\":\"white\",\"ticks\":\"\"},\"baxis\":{\"gridcolor\":\"white\",\"linecolor\":\"white\",\"ticks\":\"\"},\"caxis\":{\"gridcolor\":\"white\",\"linecolor\":\"white\",\"ticks\":\"\"}},\"coloraxis\":{\"colorbar\":{\"outlinewidth\":0,\"ticks\":\"\"}},\"colorscale\":{\"sequential\":[[0.0,\"#0d0887\"],[0.1111111111111111,\"#46039f\"],[0.2222222222222222,\"#7201a8\"],[0.3333333333333333,\"#9c179e\"],[0.4444444444444444,\"#bd3786\"],[0.5555555555555556,\"#d8576b\"],[0.6666666666666666,\"#ed7953\"],[0.7777777777777778,\"#fb9f3a\"],[0.8888888888888888,\"#fdca26\"],[1.0,\"#f0f921\"]],\"sequentialminus\":[[0.0,\"#0d0887\"],[0.1111111111111111,\"#46039f\"],[0.2222222222222222,\"#7201a8\"],[0.3333333333333333,\"#9c179e\"],[0.4444444444444444,\"#bd3786\"],[0.5555555555555556,\"#d8576b\"],[0.6666666666666666,\"#ed7953\"],[0.7777777777777778,\"#fb9f3a\"],[0.8888888888888888,\"#fdca26\"],[1.0,\"#f0f921\"]],\"diverging\":[[0,\"#8e0152\"],[0.1,\"#c51b7d\"],[0.2,\"#de77ae\"],[0.3,\"#f1b6da\"],[0.4,\"#fde0ef\"],[0.5,\"#f7f7f7\"],[0.6,\"#e6f5d0\"],[0.7,\"#b8e186\"],[0.8,\"#7fbc41\"],[0.9,\"#4d9221\"],[1,\"#276419\"]]},\"xaxis\":{\"gridcolor\":\"white\",\"linecolor\":\"white\",\"ticks\":\"\",\"title\":{\"standoff\":15},\"zerolinecolor\":\"white\",\"automargin\":true,\"zerolinewidth\":2},\"yaxis\":{\"gridcolor\":\"white\",\"linecolor\":\"white\",\"ticks\":\"\",\"title\":{\"standoff\":15},\"zerolinecolor\":\"white\",\"automargin\":true,\"zerolinewidth\":2},\"scene\":{\"xaxis\":{\"backgroundcolor\":\"#E5ECF6\",\"gridcolor\":\"white\",\"linecolor\":\"white\",\"showbackground\":true,\"ticks\":\"\",\"zerolinecolor\":\"white\",\"gridwidth\":2},\"yaxis\":{\"backgroundcolor\":\"#E5ECF6\",\"gridcolor\":\"white\",\"linecolor\":\"white\",\"showbackground\":true,\"ticks\":\"\",\"zerolinecolor\":\"white\",\"gridwidth\":2},\"zaxis\":{\"backgroundcolor\":\"#E5ECF6\",\"gridcolor\":\"white\",\"linecolor\":\"white\",\"showbackground\":true,\"ticks\":\"\",\"zerolinecolor\":\"white\",\"gridwidth\":2}},\"shapedefaults\":{\"line\":{\"color\":\"#2a3f5f\"}},\"annotationdefaults\":{\"arrowcolor\":\"#2a3f5f\",\"arrowhead\":0,\"arrowwidth\":1},\"geo\":{\"bgcolor\":\"white\",\"landcolor\":\"#E5ECF6\",\"subunitcolor\":\"white\",\"showland\":true,\"showlakes\":true,\"lakecolor\":\"white\"},\"title\":{\"x\":0.05},\"mapbox\":{\"style\":\"light\"}}},\"xaxis\":{\"anchor\":\"y\",\"domain\":[0.0,1.0],\"title\":{\"text\":\"dispatching_base_number\"}},\"yaxis\":{\"anchor\":\"x\",\"domain\":[0.0,1.0],\"title\":{\"text\":\"active_vehicles\"}},\"legend\":{\"tracegroupgap\":0},\"margin\":{\"t\":60},\"boxmode\":\"group\"},                        {\"responsive\": true}                    ).then(function(){\n",
       "                            \n",
       "var gd = document.getElementById('0c8f244c-cf49-4555-9b4b-ccfa4dffafc7');\n",
       "var x = new MutationObserver(function (mutations, observer) {{\n",
       "        var display = window.getComputedStyle(gd).display;\n",
       "        if (!display || display === 'none') {{\n",
       "            console.log([gd, 'removed!']);\n",
       "            Plotly.purge(gd);\n",
       "            observer.disconnect();\n",
       "        }}\n",
       "}});\n",
       "\n",
       "// Listen for the removal of the full notebook cells\n",
       "var notebookContainer = gd.closest('#notebook-container');\n",
       "if (notebookContainer) {{\n",
       "    x.observe(notebookContainer, {childList: true});\n",
       "}}\n",
       "\n",
       "// Listen for the clearing of the current output cell\n",
       "var outputEl = gd.closest('.output');\n",
       "if (outputEl) {{\n",
       "    x.observe(outputEl, {childList: true});\n",
       "}}\n",
       "\n",
       "                        })                };                });            </script>        </div>"
      ]
     },
     "metadata": {},
     "output_type": "display_data"
    }
   ],
   "source": [
    "px.box(x='dispatching_base_number' , y='active_vehicles' , data_frame=uber_foil)"
   ]
  },
  {
   "cell_type": "code",
   "execution_count": 60,
   "id": "7dde084c",
   "metadata": {},
   "outputs": [
    {
     "data": {
      "application/vnd.plotly.v1+json": {
       "config": {
        "plotlyServerURL": "https://plot.ly"
       },
       "data": [
        {
         "alignmentgroup": "True",
         "box": {
          "visible": false
         },
         "hovertemplate": "dispatching_base_number=%{x}<br>active_vehicles=%{y}<extra></extra>",
         "legendgroup": "",
         "marker": {
          "color": "#636efa"
         },
         "name": "",
         "offsetgroup": "",
         "orientation": "v",
         "scalegroup": "True",
         "showlegend": false,
         "type": "violin",
         "x": [
          "B02512",
          "B02765",
          "B02764",
          "B02682",
          "B02617",
          "B02598",
          "B02598",
          "B02617",
          "B02512",
          "B02682",
          "B02765",
          "B02764",
          "B02765",
          "B02617",
          "B02598",
          "B02682",
          "B02512",
          "B02764",
          "B02512",
          "B02682",
          "B02598",
          "B02765",
          "B02617",
          "B02764",
          "B02512",
          "B02682",
          "B02617",
          "B02764",
          "B02598",
          "B02765",
          "B02764",
          "B02682",
          "B02617",
          "B02765",
          "B02512",
          "B02598",
          "B02617",
          "B02682",
          "B02764",
          "B02765",
          "B02512",
          "B02598",
          "B02765",
          "B02598",
          "B02512",
          "B02682",
          "B02764",
          "B02617",
          "B02617",
          "B02512",
          "B02764",
          "B02682",
          "B02598",
          "B02765",
          "B02682",
          "B02617",
          "B02598",
          "B02512",
          "B02764",
          "B02765",
          "B02765",
          "B02598",
          "B02682",
          "B02764",
          "B02617",
          "B02512",
          "B02764",
          "B02765",
          "B02512",
          "B02598",
          "B02682",
          "B02617",
          "B02765",
          "B02598",
          "B02617",
          "B02512",
          "B02764",
          "B02682",
          "B02764",
          "B02765",
          "B02598",
          "B02512",
          "B02617",
          "B02682",
          "B02512",
          "B02682",
          "B02617",
          "B02765",
          "B02764",
          "B02598",
          "B02617",
          "B02765",
          "B02764",
          "B02682",
          "B02512",
          "B02598",
          "B02598",
          "B02512",
          "B02682",
          "B02765",
          "B02617",
          "B02764",
          "B02512",
          "B02598",
          "B02765",
          "B02764",
          "B02682",
          "B02617",
          "B02682",
          "B02617",
          "B02765",
          "B02764",
          "B02512",
          "B02598",
          "B02598",
          "B02682",
          "B02512",
          "B02764",
          "B02765",
          "B02617",
          "B02764",
          "B02512",
          "B02682",
          "B02598",
          "B02765",
          "B02617",
          "B02617",
          "B02764",
          "B02512",
          "B02598",
          "B02682",
          "B02765",
          "B02598",
          "B02512",
          "B02765",
          "B02764",
          "B02617",
          "B02682",
          "B02598",
          "B02764",
          "B02512",
          "B02617",
          "B02682",
          "B02765",
          "B02512",
          "B02764",
          "B02765",
          "B02598",
          "B02682",
          "B02617",
          "B02617",
          "B02598",
          "B02765",
          "B02764",
          "B02682",
          "B02512",
          "B02682",
          "B02765",
          "B02617",
          "B02598",
          "B02512",
          "B02764",
          "B02764",
          "B02682",
          "B02765",
          "B02617",
          "B02598",
          "B02512",
          "B02617",
          "B02764",
          "B02682",
          "B02765",
          "B02512",
          "B02598",
          "B02512",
          "B02617",
          "B02682",
          "B02764",
          "B02765",
          "B02598",
          "B02765",
          "B02512",
          "B02617",
          "B02682",
          "B02764",
          "B02598",
          "B02598",
          "B02682",
          "B02512",
          "B02765",
          "B02617",
          "B02764",
          "B02617",
          "B02682",
          "B02765",
          "B02598",
          "B02764",
          "B02512",
          "B02765",
          "B02598",
          "B02512",
          "B02764",
          "B02617",
          "B02682",
          "B02764",
          "B02765",
          "B02512",
          "B02682",
          "B02617",
          "B02598",
          "B02617",
          "B02682",
          "B02598",
          "B02512",
          "B02765",
          "B02764",
          "B02617",
          "B02765",
          "B02598",
          "B02512",
          "B02764",
          "B02682",
          "B02598",
          "B02512",
          "B02617",
          "B02682",
          "B02764",
          "B02765",
          "B02764",
          "B02765",
          "B02598",
          "B02617",
          "B02682",
          "B02512",
          "B02617",
          "B02682",
          "B02598",
          "B02764",
          "B02512",
          "B02765",
          "B02764",
          "B02512",
          "B02617",
          "B02765",
          "B02682",
          "B02598",
          "B02617",
          "B02764",
          "B02512",
          "B02598",
          "B02765",
          "B02682",
          "B02617",
          "B02512",
          "B02682",
          "B02765",
          "B02598",
          "B02764",
          "B02617",
          "B02682",
          "B02764",
          "B02765",
          "B02512",
          "B02598",
          "B02764",
          "B02512",
          "B02598",
          "B02765",
          "B02617",
          "B02682",
          "B02682",
          "B02764",
          "B02617",
          "B02765",
          "B02512",
          "B02598",
          "B02598",
          "B02512",
          "B02617",
          "B02764",
          "B02682",
          "B02765",
          "B02764",
          "B02512",
          "B02682",
          "B02617",
          "B02598",
          "B02765",
          "B02598",
          "B02682",
          "B02617",
          "B02765",
          "B02764",
          "B02512",
          "B02598",
          "B02512",
          "B02682",
          "B02764",
          "B02765",
          "B02617",
          "B02764",
          "B02617",
          "B02598",
          "B02682",
          "B02765",
          "B02512",
          "B02598",
          "B02682",
          "B02765",
          "B02617",
          "B02512",
          "B02764",
          "B02512",
          "B02617",
          "B02682",
          "B02764",
          "B02598",
          "B02765",
          "B02598",
          "B02617",
          "B02764",
          "B02682",
          "B02765",
          "B02512",
          "B02764",
          "B02512",
          "B02598",
          "B02682",
          "B02617",
          "B02765",
          "B02512",
          "B02598",
          "B02765",
          "B02682",
          "B02617",
          "B02764",
          "B02598",
          "B02617",
          "B02682",
          "B02512",
          "B02765",
          "B02764",
          "B02765",
          "B02617",
          "B02598",
          "B02512",
          "B02764",
          "B02682",
          "B02598",
          "B02764",
          "B02617",
          "B02682",
          "B02512",
          "B02765"
         ],
         "x0": " ",
         "xaxis": "x",
         "y": [
          190,
          225,
          3427,
          945,
          1228,
          870,
          785,
          1137,
          175,
          890,
          196,
          3147,
          201,
          1188,
          818,
          915,
          173,
          3215,
          147,
          812,
          746,
          183,
          1088,
          2862,
          194,
          951,
          1218,
          3387,
          907,
          227,
          3473,
          1022,
          1336,
          234,
          218,
          933,
          1363,
          1039,
          3603,
          248,
          217,
          974,
          262,
          1070,
          238,
          1135,
          3831,
          1463,
          1455,
          224,
          3820,
          1140,
          1070,
          280,
          1057,
          1331,
          949,
          206,
          3558,
          245,
          220,
          832,
          943,
          3186,
          1228,
          162,
          3499,
          279,
          217,
          964,
          1082,
          1323,
          258,
          975,
          1342,
          234,
          3658,
          1092,
          3736,
          271,
          1030,
          233,
          1405,
          1174,
          237,
          1208,
          1457,
          270,
          3840,
          1068,
          1445,
          290,
          3975,
          1250,
          234,
          1079,
          974,
          201,
          1137,
          252,
          1306,
          3657,
          177,
          869,
          248,
          3290,
          1056,
          1223,
          883,
          992,
          238,
          2958,
          168,
          706,
          944,
          1151,
          221,
          3654,
          272,
          1350,
          3718,
          242,
          1228,
          1035,
          296,
          1429,
          1471,
          3889,
          246,
          1071,
          1295,
          295,
          1093,
          246,
          299,
          4040,
          1482,
          1330,
          945,
          3652,
          211,
          1367,
          1223,
          245,
          183,
          3300,
          226,
          829,
          1046,
          1203,
          1150,
          860,
          230,
          3012,
          1084,
          197,
          600,
          135,
          596,
          434,
          112,
          1619,
          3692,
          1235,
          286,
          1356,
          1011,
          235,
          1474,
          3959,
          1316,
          295,
          250,
          1082,
          256,
          1501,
          1384,
          4124,
          322,
          1106,
          309,
          225,
          1394,
          1321,
          3947,
          1027,
          961,
          1214,
          193,
          289,
          1355,
          3740,
          1217,
          1152,
          275,
          939,
          3270,
          227,
          299,
          991,
          257,
          3674,
          1350,
          1269,
          3856,
          309,
          244,
          1311,
          1393,
          1072,
          1524,
          1418,
          1179,
          264,
          355,
          4093,
          1526,
          385,
          1181,
          261,
          4170,
          1414,
          1031,
          211,
          1383,
          1300,
          3849,
          345,
          3422,
          313,
          923,
          1256,
          1136,
          176,
          1312,
          1241,
          976,
          3543,
          228,
          388,
          3700,
          233,
          1364,
          422,
          1281,
          1029,
          1450,
          3849,
          255,
          1115,
          450,
          1396,
          1532,
          269,
          1468,
          536,
          1181,
          4137,
          1590,
          1523,
          4395,
          599,
          281,
          1216,
          4129,
          236,
          1111,
          583,
          1486,
          1428,
          1261,
          3651,
          1293,
          521,
          210,
          1003,
          934,
          207,
          1214,
          3524,
          1164,
          508,
          3826,
          241,
          1314,
          1378,
          1066,
          578,
          1078,
          1314,
          1394,
          586,
          3842,
          228,
          1127,
          250,
          1428,
          4110,
          663,
          1452,
          4384,
          1574,
          1186,
          1497,
          736,
          272,
          1044,
          1374,
          685,
          1443,
          238,
          3981,
          199,
          1248,
          1220,
          3478,
          909,
          566,
          966,
          1332,
          3734,
          1262,
          665,
          238,
          3965,
          247,
          1061,
          1346,
          1456,
          698,
          246,
          1076,
          706,
          1395,
          1473,
          3934,
          1134,
          1539,
          1465,
          243,
          745,
          4101,
          786,
          1551,
          1114,
          272,
          4253,
          1510,
          994,
          3952,
          1372,
          1386,
          230,
          747
         ],
         "y0": " ",
         "yaxis": "y"
        }
       ],
       "layout": {
        "legend": {
         "tracegroupgap": 0
        },
        "margin": {
         "t": 60
        },
        "template": {
         "data": {
          "bar": [
           {
            "error_x": {
             "color": "#2a3f5f"
            },
            "error_y": {
             "color": "#2a3f5f"
            },
            "marker": {
             "line": {
              "color": "#E5ECF6",
              "width": 0.5
             },
             "pattern": {
              "fillmode": "overlay",
              "size": 10,
              "solidity": 0.2
             }
            },
            "type": "bar"
           }
          ],
          "barpolar": [
           {
            "marker": {
             "line": {
              "color": "#E5ECF6",
              "width": 0.5
             },
             "pattern": {
              "fillmode": "overlay",
              "size": 10,
              "solidity": 0.2
             }
            },
            "type": "barpolar"
           }
          ],
          "carpet": [
           {
            "aaxis": {
             "endlinecolor": "#2a3f5f",
             "gridcolor": "white",
             "linecolor": "white",
             "minorgridcolor": "white",
             "startlinecolor": "#2a3f5f"
            },
            "baxis": {
             "endlinecolor": "#2a3f5f",
             "gridcolor": "white",
             "linecolor": "white",
             "minorgridcolor": "white",
             "startlinecolor": "#2a3f5f"
            },
            "type": "carpet"
           }
          ],
          "choropleth": [
           {
            "colorbar": {
             "outlinewidth": 0,
             "ticks": ""
            },
            "type": "choropleth"
           }
          ],
          "contour": [
           {
            "colorbar": {
             "outlinewidth": 0,
             "ticks": ""
            },
            "colorscale": [
             [
              0,
              "#0d0887"
             ],
             [
              0.1111111111111111,
              "#46039f"
             ],
             [
              0.2222222222222222,
              "#7201a8"
             ],
             [
              0.3333333333333333,
              "#9c179e"
             ],
             [
              0.4444444444444444,
              "#bd3786"
             ],
             [
              0.5555555555555556,
              "#d8576b"
             ],
             [
              0.6666666666666666,
              "#ed7953"
             ],
             [
              0.7777777777777778,
              "#fb9f3a"
             ],
             [
              0.8888888888888888,
              "#fdca26"
             ],
             [
              1,
              "#f0f921"
             ]
            ],
            "type": "contour"
           }
          ],
          "contourcarpet": [
           {
            "colorbar": {
             "outlinewidth": 0,
             "ticks": ""
            },
            "type": "contourcarpet"
           }
          ],
          "heatmap": [
           {
            "colorbar": {
             "outlinewidth": 0,
             "ticks": ""
            },
            "colorscale": [
             [
              0,
              "#0d0887"
             ],
             [
              0.1111111111111111,
              "#46039f"
             ],
             [
              0.2222222222222222,
              "#7201a8"
             ],
             [
              0.3333333333333333,
              "#9c179e"
             ],
             [
              0.4444444444444444,
              "#bd3786"
             ],
             [
              0.5555555555555556,
              "#d8576b"
             ],
             [
              0.6666666666666666,
              "#ed7953"
             ],
             [
              0.7777777777777778,
              "#fb9f3a"
             ],
             [
              0.8888888888888888,
              "#fdca26"
             ],
             [
              1,
              "#f0f921"
             ]
            ],
            "type": "heatmap"
           }
          ],
          "heatmapgl": [
           {
            "colorbar": {
             "outlinewidth": 0,
             "ticks": ""
            },
            "colorscale": [
             [
              0,
              "#0d0887"
             ],
             [
              0.1111111111111111,
              "#46039f"
             ],
             [
              0.2222222222222222,
              "#7201a8"
             ],
             [
              0.3333333333333333,
              "#9c179e"
             ],
             [
              0.4444444444444444,
              "#bd3786"
             ],
             [
              0.5555555555555556,
              "#d8576b"
             ],
             [
              0.6666666666666666,
              "#ed7953"
             ],
             [
              0.7777777777777778,
              "#fb9f3a"
             ],
             [
              0.8888888888888888,
              "#fdca26"
             ],
             [
              1,
              "#f0f921"
             ]
            ],
            "type": "heatmapgl"
           }
          ],
          "histogram": [
           {
            "marker": {
             "pattern": {
              "fillmode": "overlay",
              "size": 10,
              "solidity": 0.2
             }
            },
            "type": "histogram"
           }
          ],
          "histogram2d": [
           {
            "colorbar": {
             "outlinewidth": 0,
             "ticks": ""
            },
            "colorscale": [
             [
              0,
              "#0d0887"
             ],
             [
              0.1111111111111111,
              "#46039f"
             ],
             [
              0.2222222222222222,
              "#7201a8"
             ],
             [
              0.3333333333333333,
              "#9c179e"
             ],
             [
              0.4444444444444444,
              "#bd3786"
             ],
             [
              0.5555555555555556,
              "#d8576b"
             ],
             [
              0.6666666666666666,
              "#ed7953"
             ],
             [
              0.7777777777777778,
              "#fb9f3a"
             ],
             [
              0.8888888888888888,
              "#fdca26"
             ],
             [
              1,
              "#f0f921"
             ]
            ],
            "type": "histogram2d"
           }
          ],
          "histogram2dcontour": [
           {
            "colorbar": {
             "outlinewidth": 0,
             "ticks": ""
            },
            "colorscale": [
             [
              0,
              "#0d0887"
             ],
             [
              0.1111111111111111,
              "#46039f"
             ],
             [
              0.2222222222222222,
              "#7201a8"
             ],
             [
              0.3333333333333333,
              "#9c179e"
             ],
             [
              0.4444444444444444,
              "#bd3786"
             ],
             [
              0.5555555555555556,
              "#d8576b"
             ],
             [
              0.6666666666666666,
              "#ed7953"
             ],
             [
              0.7777777777777778,
              "#fb9f3a"
             ],
             [
              0.8888888888888888,
              "#fdca26"
             ],
             [
              1,
              "#f0f921"
             ]
            ],
            "type": "histogram2dcontour"
           }
          ],
          "mesh3d": [
           {
            "colorbar": {
             "outlinewidth": 0,
             "ticks": ""
            },
            "type": "mesh3d"
           }
          ],
          "parcoords": [
           {
            "line": {
             "colorbar": {
              "outlinewidth": 0,
              "ticks": ""
             }
            },
            "type": "parcoords"
           }
          ],
          "pie": [
           {
            "automargin": true,
            "type": "pie"
           }
          ],
          "scatter": [
           {
            "fillpattern": {
             "fillmode": "overlay",
             "size": 10,
             "solidity": 0.2
            },
            "type": "scatter"
           }
          ],
          "scatter3d": [
           {
            "line": {
             "colorbar": {
              "outlinewidth": 0,
              "ticks": ""
             }
            },
            "marker": {
             "colorbar": {
              "outlinewidth": 0,
              "ticks": ""
             }
            },
            "type": "scatter3d"
           }
          ],
          "scattercarpet": [
           {
            "marker": {
             "colorbar": {
              "outlinewidth": 0,
              "ticks": ""
             }
            },
            "type": "scattercarpet"
           }
          ],
          "scattergeo": [
           {
            "marker": {
             "colorbar": {
              "outlinewidth": 0,
              "ticks": ""
             }
            },
            "type": "scattergeo"
           }
          ],
          "scattergl": [
           {
            "marker": {
             "colorbar": {
              "outlinewidth": 0,
              "ticks": ""
             }
            },
            "type": "scattergl"
           }
          ],
          "scattermapbox": [
           {
            "marker": {
             "colorbar": {
              "outlinewidth": 0,
              "ticks": ""
             }
            },
            "type": "scattermapbox"
           }
          ],
          "scatterpolar": [
           {
            "marker": {
             "colorbar": {
              "outlinewidth": 0,
              "ticks": ""
             }
            },
            "type": "scatterpolar"
           }
          ],
          "scatterpolargl": [
           {
            "marker": {
             "colorbar": {
              "outlinewidth": 0,
              "ticks": ""
             }
            },
            "type": "scatterpolargl"
           }
          ],
          "scatterternary": [
           {
            "marker": {
             "colorbar": {
              "outlinewidth": 0,
              "ticks": ""
             }
            },
            "type": "scatterternary"
           }
          ],
          "surface": [
           {
            "colorbar": {
             "outlinewidth": 0,
             "ticks": ""
            },
            "colorscale": [
             [
              0,
              "#0d0887"
             ],
             [
              0.1111111111111111,
              "#46039f"
             ],
             [
              0.2222222222222222,
              "#7201a8"
             ],
             [
              0.3333333333333333,
              "#9c179e"
             ],
             [
              0.4444444444444444,
              "#bd3786"
             ],
             [
              0.5555555555555556,
              "#d8576b"
             ],
             [
              0.6666666666666666,
              "#ed7953"
             ],
             [
              0.7777777777777778,
              "#fb9f3a"
             ],
             [
              0.8888888888888888,
              "#fdca26"
             ],
             [
              1,
              "#f0f921"
             ]
            ],
            "type": "surface"
           }
          ],
          "table": [
           {
            "cells": {
             "fill": {
              "color": "#EBF0F8"
             },
             "line": {
              "color": "white"
             }
            },
            "header": {
             "fill": {
              "color": "#C8D4E3"
             },
             "line": {
              "color": "white"
             }
            },
            "type": "table"
           }
          ]
         },
         "layout": {
          "annotationdefaults": {
           "arrowcolor": "#2a3f5f",
           "arrowhead": 0,
           "arrowwidth": 1
          },
          "autotypenumbers": "strict",
          "coloraxis": {
           "colorbar": {
            "outlinewidth": 0,
            "ticks": ""
           }
          },
          "colorscale": {
           "diverging": [
            [
             0,
             "#8e0152"
            ],
            [
             0.1,
             "#c51b7d"
            ],
            [
             0.2,
             "#de77ae"
            ],
            [
             0.3,
             "#f1b6da"
            ],
            [
             0.4,
             "#fde0ef"
            ],
            [
             0.5,
             "#f7f7f7"
            ],
            [
             0.6,
             "#e6f5d0"
            ],
            [
             0.7,
             "#b8e186"
            ],
            [
             0.8,
             "#7fbc41"
            ],
            [
             0.9,
             "#4d9221"
            ],
            [
             1,
             "#276419"
            ]
           ],
           "sequential": [
            [
             0,
             "#0d0887"
            ],
            [
             0.1111111111111111,
             "#46039f"
            ],
            [
             0.2222222222222222,
             "#7201a8"
            ],
            [
             0.3333333333333333,
             "#9c179e"
            ],
            [
             0.4444444444444444,
             "#bd3786"
            ],
            [
             0.5555555555555556,
             "#d8576b"
            ],
            [
             0.6666666666666666,
             "#ed7953"
            ],
            [
             0.7777777777777778,
             "#fb9f3a"
            ],
            [
             0.8888888888888888,
             "#fdca26"
            ],
            [
             1,
             "#f0f921"
            ]
           ],
           "sequentialminus": [
            [
             0,
             "#0d0887"
            ],
            [
             0.1111111111111111,
             "#46039f"
            ],
            [
             0.2222222222222222,
             "#7201a8"
            ],
            [
             0.3333333333333333,
             "#9c179e"
            ],
            [
             0.4444444444444444,
             "#bd3786"
            ],
            [
             0.5555555555555556,
             "#d8576b"
            ],
            [
             0.6666666666666666,
             "#ed7953"
            ],
            [
             0.7777777777777778,
             "#fb9f3a"
            ],
            [
             0.8888888888888888,
             "#fdca26"
            ],
            [
             1,
             "#f0f921"
            ]
           ]
          },
          "colorway": [
           "#636efa",
           "#EF553B",
           "#00cc96",
           "#ab63fa",
           "#FFA15A",
           "#19d3f3",
           "#FF6692",
           "#B6E880",
           "#FF97FF",
           "#FECB52"
          ],
          "font": {
           "color": "#2a3f5f"
          },
          "geo": {
           "bgcolor": "white",
           "lakecolor": "white",
           "landcolor": "#E5ECF6",
           "showlakes": true,
           "showland": true,
           "subunitcolor": "white"
          },
          "hoverlabel": {
           "align": "left"
          },
          "hovermode": "closest",
          "mapbox": {
           "style": "light"
          },
          "paper_bgcolor": "white",
          "plot_bgcolor": "#E5ECF6",
          "polar": {
           "angularaxis": {
            "gridcolor": "white",
            "linecolor": "white",
            "ticks": ""
           },
           "bgcolor": "#E5ECF6",
           "radialaxis": {
            "gridcolor": "white",
            "linecolor": "white",
            "ticks": ""
           }
          },
          "scene": {
           "xaxis": {
            "backgroundcolor": "#E5ECF6",
            "gridcolor": "white",
            "gridwidth": 2,
            "linecolor": "white",
            "showbackground": true,
            "ticks": "",
            "zerolinecolor": "white"
           },
           "yaxis": {
            "backgroundcolor": "#E5ECF6",
            "gridcolor": "white",
            "gridwidth": 2,
            "linecolor": "white",
            "showbackground": true,
            "ticks": "",
            "zerolinecolor": "white"
           },
           "zaxis": {
            "backgroundcolor": "#E5ECF6",
            "gridcolor": "white",
            "gridwidth": 2,
            "linecolor": "white",
            "showbackground": true,
            "ticks": "",
            "zerolinecolor": "white"
           }
          },
          "shapedefaults": {
           "line": {
            "color": "#2a3f5f"
           }
          },
          "ternary": {
           "aaxis": {
            "gridcolor": "white",
            "linecolor": "white",
            "ticks": ""
           },
           "baxis": {
            "gridcolor": "white",
            "linecolor": "white",
            "ticks": ""
           },
           "bgcolor": "#E5ECF6",
           "caxis": {
            "gridcolor": "white",
            "linecolor": "white",
            "ticks": ""
           }
          },
          "title": {
           "x": 0.05
          },
          "xaxis": {
           "automargin": true,
           "gridcolor": "white",
           "linecolor": "white",
           "ticks": "",
           "title": {
            "standoff": 15
           },
           "zerolinecolor": "white",
           "zerolinewidth": 2
          },
          "yaxis": {
           "automargin": true,
           "gridcolor": "white",
           "linecolor": "white",
           "ticks": "",
           "title": {
            "standoff": 15
           },
           "zerolinecolor": "white",
           "zerolinewidth": 2
          }
         }
        },
        "violinmode": "group",
        "xaxis": {
         "anchor": "y",
         "domain": [
          0,
          1
         ],
         "title": {
          "text": "dispatching_base_number"
         }
        },
        "yaxis": {
         "anchor": "x",
         "domain": [
          0,
          1
         ],
         "title": {
          "text": "active_vehicles"
         }
        }
       }
      },
      "text/html": [
       "<div>                            <div id=\"fbbbaa68-0175-4ba3-b5ab-b35cf7d56093\" class=\"plotly-graph-div\" style=\"height:525px; width:100%;\"></div>            <script type=\"text/javascript\">                require([\"plotly\"], function(Plotly) {                    window.PLOTLYENV=window.PLOTLYENV || {};                                    if (document.getElementById(\"fbbbaa68-0175-4ba3-b5ab-b35cf7d56093\")) {                    Plotly.newPlot(                        \"fbbbaa68-0175-4ba3-b5ab-b35cf7d56093\",                        [{\"alignmentgroup\":\"True\",\"box\":{\"visible\":false},\"hovertemplate\":\"dispatching_base_number=%{x}<br>active_vehicles=%{y}<extra></extra>\",\"legendgroup\":\"\",\"marker\":{\"color\":\"#636efa\"},\"name\":\"\",\"offsetgroup\":\"\",\"orientation\":\"v\",\"scalegroup\":\"True\",\"showlegend\":false,\"x\":[\"B02512\",\"B02765\",\"B02764\",\"B02682\",\"B02617\",\"B02598\",\"B02598\",\"B02617\",\"B02512\",\"B02682\",\"B02765\",\"B02764\",\"B02765\",\"B02617\",\"B02598\",\"B02682\",\"B02512\",\"B02764\",\"B02512\",\"B02682\",\"B02598\",\"B02765\",\"B02617\",\"B02764\",\"B02512\",\"B02682\",\"B02617\",\"B02764\",\"B02598\",\"B02765\",\"B02764\",\"B02682\",\"B02617\",\"B02765\",\"B02512\",\"B02598\",\"B02617\",\"B02682\",\"B02764\",\"B02765\",\"B02512\",\"B02598\",\"B02765\",\"B02598\",\"B02512\",\"B02682\",\"B02764\",\"B02617\",\"B02617\",\"B02512\",\"B02764\",\"B02682\",\"B02598\",\"B02765\",\"B02682\",\"B02617\",\"B02598\",\"B02512\",\"B02764\",\"B02765\",\"B02765\",\"B02598\",\"B02682\",\"B02764\",\"B02617\",\"B02512\",\"B02764\",\"B02765\",\"B02512\",\"B02598\",\"B02682\",\"B02617\",\"B02765\",\"B02598\",\"B02617\",\"B02512\",\"B02764\",\"B02682\",\"B02764\",\"B02765\",\"B02598\",\"B02512\",\"B02617\",\"B02682\",\"B02512\",\"B02682\",\"B02617\",\"B02765\",\"B02764\",\"B02598\",\"B02617\",\"B02765\",\"B02764\",\"B02682\",\"B02512\",\"B02598\",\"B02598\",\"B02512\",\"B02682\",\"B02765\",\"B02617\",\"B02764\",\"B02512\",\"B02598\",\"B02765\",\"B02764\",\"B02682\",\"B02617\",\"B02682\",\"B02617\",\"B02765\",\"B02764\",\"B02512\",\"B02598\",\"B02598\",\"B02682\",\"B02512\",\"B02764\",\"B02765\",\"B02617\",\"B02764\",\"B02512\",\"B02682\",\"B02598\",\"B02765\",\"B02617\",\"B02617\",\"B02764\",\"B02512\",\"B02598\",\"B02682\",\"B02765\",\"B02598\",\"B02512\",\"B02765\",\"B02764\",\"B02617\",\"B02682\",\"B02598\",\"B02764\",\"B02512\",\"B02617\",\"B02682\",\"B02765\",\"B02512\",\"B02764\",\"B02765\",\"B02598\",\"B02682\",\"B02617\",\"B02617\",\"B02598\",\"B02765\",\"B02764\",\"B02682\",\"B02512\",\"B02682\",\"B02765\",\"B02617\",\"B02598\",\"B02512\",\"B02764\",\"B02764\",\"B02682\",\"B02765\",\"B02617\",\"B02598\",\"B02512\",\"B02617\",\"B02764\",\"B02682\",\"B02765\",\"B02512\",\"B02598\",\"B02512\",\"B02617\",\"B02682\",\"B02764\",\"B02765\",\"B02598\",\"B02765\",\"B02512\",\"B02617\",\"B02682\",\"B02764\",\"B02598\",\"B02598\",\"B02682\",\"B02512\",\"B02765\",\"B02617\",\"B02764\",\"B02617\",\"B02682\",\"B02765\",\"B02598\",\"B02764\",\"B02512\",\"B02765\",\"B02598\",\"B02512\",\"B02764\",\"B02617\",\"B02682\",\"B02764\",\"B02765\",\"B02512\",\"B02682\",\"B02617\",\"B02598\",\"B02617\",\"B02682\",\"B02598\",\"B02512\",\"B02765\",\"B02764\",\"B02617\",\"B02765\",\"B02598\",\"B02512\",\"B02764\",\"B02682\",\"B02598\",\"B02512\",\"B02617\",\"B02682\",\"B02764\",\"B02765\",\"B02764\",\"B02765\",\"B02598\",\"B02617\",\"B02682\",\"B02512\",\"B02617\",\"B02682\",\"B02598\",\"B02764\",\"B02512\",\"B02765\",\"B02764\",\"B02512\",\"B02617\",\"B02765\",\"B02682\",\"B02598\",\"B02617\",\"B02764\",\"B02512\",\"B02598\",\"B02765\",\"B02682\",\"B02617\",\"B02512\",\"B02682\",\"B02765\",\"B02598\",\"B02764\",\"B02617\",\"B02682\",\"B02764\",\"B02765\",\"B02512\",\"B02598\",\"B02764\",\"B02512\",\"B02598\",\"B02765\",\"B02617\",\"B02682\",\"B02682\",\"B02764\",\"B02617\",\"B02765\",\"B02512\",\"B02598\",\"B02598\",\"B02512\",\"B02617\",\"B02764\",\"B02682\",\"B02765\",\"B02764\",\"B02512\",\"B02682\",\"B02617\",\"B02598\",\"B02765\",\"B02598\",\"B02682\",\"B02617\",\"B02765\",\"B02764\",\"B02512\",\"B02598\",\"B02512\",\"B02682\",\"B02764\",\"B02765\",\"B02617\",\"B02764\",\"B02617\",\"B02598\",\"B02682\",\"B02765\",\"B02512\",\"B02598\",\"B02682\",\"B02765\",\"B02617\",\"B02512\",\"B02764\",\"B02512\",\"B02617\",\"B02682\",\"B02764\",\"B02598\",\"B02765\",\"B02598\",\"B02617\",\"B02764\",\"B02682\",\"B02765\",\"B02512\",\"B02764\",\"B02512\",\"B02598\",\"B02682\",\"B02617\",\"B02765\",\"B02512\",\"B02598\",\"B02765\",\"B02682\",\"B02617\",\"B02764\",\"B02598\",\"B02617\",\"B02682\",\"B02512\",\"B02765\",\"B02764\",\"B02765\",\"B02617\",\"B02598\",\"B02512\",\"B02764\",\"B02682\",\"B02598\",\"B02764\",\"B02617\",\"B02682\",\"B02512\",\"B02765\"],\"x0\":\" \",\"xaxis\":\"x\",\"y\":[190,225,3427,945,1228,870,785,1137,175,890,196,3147,201,1188,818,915,173,3215,147,812,746,183,1088,2862,194,951,1218,3387,907,227,3473,1022,1336,234,218,933,1363,1039,3603,248,217,974,262,1070,238,1135,3831,1463,1455,224,3820,1140,1070,280,1057,1331,949,206,3558,245,220,832,943,3186,1228,162,3499,279,217,964,1082,1323,258,975,1342,234,3658,1092,3736,271,1030,233,1405,1174,237,1208,1457,270,3840,1068,1445,290,3975,1250,234,1079,974,201,1137,252,1306,3657,177,869,248,3290,1056,1223,883,992,238,2958,168,706,944,1151,221,3654,272,1350,3718,242,1228,1035,296,1429,1471,3889,246,1071,1295,295,1093,246,299,4040,1482,1330,945,3652,211,1367,1223,245,183,3300,226,829,1046,1203,1150,860,230,3012,1084,197,600,135,596,434,112,1619,3692,1235,286,1356,1011,235,1474,3959,1316,295,250,1082,256,1501,1384,4124,322,1106,309,225,1394,1321,3947,1027,961,1214,193,289,1355,3740,1217,1152,275,939,3270,227,299,991,257,3674,1350,1269,3856,309,244,1311,1393,1072,1524,1418,1179,264,355,4093,1526,385,1181,261,4170,1414,1031,211,1383,1300,3849,345,3422,313,923,1256,1136,176,1312,1241,976,3543,228,388,3700,233,1364,422,1281,1029,1450,3849,255,1115,450,1396,1532,269,1468,536,1181,4137,1590,1523,4395,599,281,1216,4129,236,1111,583,1486,1428,1261,3651,1293,521,210,1003,934,207,1214,3524,1164,508,3826,241,1314,1378,1066,578,1078,1314,1394,586,3842,228,1127,250,1428,4110,663,1452,4384,1574,1186,1497,736,272,1044,1374,685,1443,238,3981,199,1248,1220,3478,909,566,966,1332,3734,1262,665,238,3965,247,1061,1346,1456,698,246,1076,706,1395,1473,3934,1134,1539,1465,243,745,4101,786,1551,1114,272,4253,1510,994,3952,1372,1386,230,747],\"y0\":\" \",\"yaxis\":\"y\",\"type\":\"violin\"}],                        {\"template\":{\"data\":{\"histogram2dcontour\":[{\"type\":\"histogram2dcontour\",\"colorbar\":{\"outlinewidth\":0,\"ticks\":\"\"},\"colorscale\":[[0.0,\"#0d0887\"],[0.1111111111111111,\"#46039f\"],[0.2222222222222222,\"#7201a8\"],[0.3333333333333333,\"#9c179e\"],[0.4444444444444444,\"#bd3786\"],[0.5555555555555556,\"#d8576b\"],[0.6666666666666666,\"#ed7953\"],[0.7777777777777778,\"#fb9f3a\"],[0.8888888888888888,\"#fdca26\"],[1.0,\"#f0f921\"]]}],\"choropleth\":[{\"type\":\"choropleth\",\"colorbar\":{\"outlinewidth\":0,\"ticks\":\"\"}}],\"histogram2d\":[{\"type\":\"histogram2d\",\"colorbar\":{\"outlinewidth\":0,\"ticks\":\"\"},\"colorscale\":[[0.0,\"#0d0887\"],[0.1111111111111111,\"#46039f\"],[0.2222222222222222,\"#7201a8\"],[0.3333333333333333,\"#9c179e\"],[0.4444444444444444,\"#bd3786\"],[0.5555555555555556,\"#d8576b\"],[0.6666666666666666,\"#ed7953\"],[0.7777777777777778,\"#fb9f3a\"],[0.8888888888888888,\"#fdca26\"],[1.0,\"#f0f921\"]]}],\"heatmap\":[{\"type\":\"heatmap\",\"colorbar\":{\"outlinewidth\":0,\"ticks\":\"\"},\"colorscale\":[[0.0,\"#0d0887\"],[0.1111111111111111,\"#46039f\"],[0.2222222222222222,\"#7201a8\"],[0.3333333333333333,\"#9c179e\"],[0.4444444444444444,\"#bd3786\"],[0.5555555555555556,\"#d8576b\"],[0.6666666666666666,\"#ed7953\"],[0.7777777777777778,\"#fb9f3a\"],[0.8888888888888888,\"#fdca26\"],[1.0,\"#f0f921\"]]}],\"heatmapgl\":[{\"type\":\"heatmapgl\",\"colorbar\":{\"outlinewidth\":0,\"ticks\":\"\"},\"colorscale\":[[0.0,\"#0d0887\"],[0.1111111111111111,\"#46039f\"],[0.2222222222222222,\"#7201a8\"],[0.3333333333333333,\"#9c179e\"],[0.4444444444444444,\"#bd3786\"],[0.5555555555555556,\"#d8576b\"],[0.6666666666666666,\"#ed7953\"],[0.7777777777777778,\"#fb9f3a\"],[0.8888888888888888,\"#fdca26\"],[1.0,\"#f0f921\"]]}],\"contourcarpet\":[{\"type\":\"contourcarpet\",\"colorbar\":{\"outlinewidth\":0,\"ticks\":\"\"}}],\"contour\":[{\"type\":\"contour\",\"colorbar\":{\"outlinewidth\":0,\"ticks\":\"\"},\"colorscale\":[[0.0,\"#0d0887\"],[0.1111111111111111,\"#46039f\"],[0.2222222222222222,\"#7201a8\"],[0.3333333333333333,\"#9c179e\"],[0.4444444444444444,\"#bd3786\"],[0.5555555555555556,\"#d8576b\"],[0.6666666666666666,\"#ed7953\"],[0.7777777777777778,\"#fb9f3a\"],[0.8888888888888888,\"#fdca26\"],[1.0,\"#f0f921\"]]}],\"surface\":[{\"type\":\"surface\",\"colorbar\":{\"outlinewidth\":0,\"ticks\":\"\"},\"colorscale\":[[0.0,\"#0d0887\"],[0.1111111111111111,\"#46039f\"],[0.2222222222222222,\"#7201a8\"],[0.3333333333333333,\"#9c179e\"],[0.4444444444444444,\"#bd3786\"],[0.5555555555555556,\"#d8576b\"],[0.6666666666666666,\"#ed7953\"],[0.7777777777777778,\"#fb9f3a\"],[0.8888888888888888,\"#fdca26\"],[1.0,\"#f0f921\"]]}],\"mesh3d\":[{\"type\":\"mesh3d\",\"colorbar\":{\"outlinewidth\":0,\"ticks\":\"\"}}],\"scatter\":[{\"fillpattern\":{\"fillmode\":\"overlay\",\"size\":10,\"solidity\":0.2},\"type\":\"scatter\"}],\"parcoords\":[{\"type\":\"parcoords\",\"line\":{\"colorbar\":{\"outlinewidth\":0,\"ticks\":\"\"}}}],\"scatterpolargl\":[{\"type\":\"scatterpolargl\",\"marker\":{\"colorbar\":{\"outlinewidth\":0,\"ticks\":\"\"}}}],\"bar\":[{\"error_x\":{\"color\":\"#2a3f5f\"},\"error_y\":{\"color\":\"#2a3f5f\"},\"marker\":{\"line\":{\"color\":\"#E5ECF6\",\"width\":0.5},\"pattern\":{\"fillmode\":\"overlay\",\"size\":10,\"solidity\":0.2}},\"type\":\"bar\"}],\"scattergeo\":[{\"type\":\"scattergeo\",\"marker\":{\"colorbar\":{\"outlinewidth\":0,\"ticks\":\"\"}}}],\"scatterpolar\":[{\"type\":\"scatterpolar\",\"marker\":{\"colorbar\":{\"outlinewidth\":0,\"ticks\":\"\"}}}],\"histogram\":[{\"marker\":{\"pattern\":{\"fillmode\":\"overlay\",\"size\":10,\"solidity\":0.2}},\"type\":\"histogram\"}],\"scattergl\":[{\"type\":\"scattergl\",\"marker\":{\"colorbar\":{\"outlinewidth\":0,\"ticks\":\"\"}}}],\"scatter3d\":[{\"type\":\"scatter3d\",\"line\":{\"colorbar\":{\"outlinewidth\":0,\"ticks\":\"\"}},\"marker\":{\"colorbar\":{\"outlinewidth\":0,\"ticks\":\"\"}}}],\"scattermapbox\":[{\"type\":\"scattermapbox\",\"marker\":{\"colorbar\":{\"outlinewidth\":0,\"ticks\":\"\"}}}],\"scatterternary\":[{\"type\":\"scatterternary\",\"marker\":{\"colorbar\":{\"outlinewidth\":0,\"ticks\":\"\"}}}],\"scattercarpet\":[{\"type\":\"scattercarpet\",\"marker\":{\"colorbar\":{\"outlinewidth\":0,\"ticks\":\"\"}}}],\"carpet\":[{\"aaxis\":{\"endlinecolor\":\"#2a3f5f\",\"gridcolor\":\"white\",\"linecolor\":\"white\",\"minorgridcolor\":\"white\",\"startlinecolor\":\"#2a3f5f\"},\"baxis\":{\"endlinecolor\":\"#2a3f5f\",\"gridcolor\":\"white\",\"linecolor\":\"white\",\"minorgridcolor\":\"white\",\"startlinecolor\":\"#2a3f5f\"},\"type\":\"carpet\"}],\"table\":[{\"cells\":{\"fill\":{\"color\":\"#EBF0F8\"},\"line\":{\"color\":\"white\"}},\"header\":{\"fill\":{\"color\":\"#C8D4E3\"},\"line\":{\"color\":\"white\"}},\"type\":\"table\"}],\"barpolar\":[{\"marker\":{\"line\":{\"color\":\"#E5ECF6\",\"width\":0.5},\"pattern\":{\"fillmode\":\"overlay\",\"size\":10,\"solidity\":0.2}},\"type\":\"barpolar\"}],\"pie\":[{\"automargin\":true,\"type\":\"pie\"}]},\"layout\":{\"autotypenumbers\":\"strict\",\"colorway\":[\"#636efa\",\"#EF553B\",\"#00cc96\",\"#ab63fa\",\"#FFA15A\",\"#19d3f3\",\"#FF6692\",\"#B6E880\",\"#FF97FF\",\"#FECB52\"],\"font\":{\"color\":\"#2a3f5f\"},\"hovermode\":\"closest\",\"hoverlabel\":{\"align\":\"left\"},\"paper_bgcolor\":\"white\",\"plot_bgcolor\":\"#E5ECF6\",\"polar\":{\"bgcolor\":\"#E5ECF6\",\"angularaxis\":{\"gridcolor\":\"white\",\"linecolor\":\"white\",\"ticks\":\"\"},\"radialaxis\":{\"gridcolor\":\"white\",\"linecolor\":\"white\",\"ticks\":\"\"}},\"ternary\":{\"bgcolor\":\"#E5ECF6\",\"aaxis\":{\"gridcolor\":\"white\",\"linecolor\":\"white\",\"ticks\":\"\"},\"baxis\":{\"gridcolor\":\"white\",\"linecolor\":\"white\",\"ticks\":\"\"},\"caxis\":{\"gridcolor\":\"white\",\"linecolor\":\"white\",\"ticks\":\"\"}},\"coloraxis\":{\"colorbar\":{\"outlinewidth\":0,\"ticks\":\"\"}},\"colorscale\":{\"sequential\":[[0.0,\"#0d0887\"],[0.1111111111111111,\"#46039f\"],[0.2222222222222222,\"#7201a8\"],[0.3333333333333333,\"#9c179e\"],[0.4444444444444444,\"#bd3786\"],[0.5555555555555556,\"#d8576b\"],[0.6666666666666666,\"#ed7953\"],[0.7777777777777778,\"#fb9f3a\"],[0.8888888888888888,\"#fdca26\"],[1.0,\"#f0f921\"]],\"sequentialminus\":[[0.0,\"#0d0887\"],[0.1111111111111111,\"#46039f\"],[0.2222222222222222,\"#7201a8\"],[0.3333333333333333,\"#9c179e\"],[0.4444444444444444,\"#bd3786\"],[0.5555555555555556,\"#d8576b\"],[0.6666666666666666,\"#ed7953\"],[0.7777777777777778,\"#fb9f3a\"],[0.8888888888888888,\"#fdca26\"],[1.0,\"#f0f921\"]],\"diverging\":[[0,\"#8e0152\"],[0.1,\"#c51b7d\"],[0.2,\"#de77ae\"],[0.3,\"#f1b6da\"],[0.4,\"#fde0ef\"],[0.5,\"#f7f7f7\"],[0.6,\"#e6f5d0\"],[0.7,\"#b8e186\"],[0.8,\"#7fbc41\"],[0.9,\"#4d9221\"],[1,\"#276419\"]]},\"xaxis\":{\"gridcolor\":\"white\",\"linecolor\":\"white\",\"ticks\":\"\",\"title\":{\"standoff\":15},\"zerolinecolor\":\"white\",\"automargin\":true,\"zerolinewidth\":2},\"yaxis\":{\"gridcolor\":\"white\",\"linecolor\":\"white\",\"ticks\":\"\",\"title\":{\"standoff\":15},\"zerolinecolor\":\"white\",\"automargin\":true,\"zerolinewidth\":2},\"scene\":{\"xaxis\":{\"backgroundcolor\":\"#E5ECF6\",\"gridcolor\":\"white\",\"linecolor\":\"white\",\"showbackground\":true,\"ticks\":\"\",\"zerolinecolor\":\"white\",\"gridwidth\":2},\"yaxis\":{\"backgroundcolor\":\"#E5ECF6\",\"gridcolor\":\"white\",\"linecolor\":\"white\",\"showbackground\":true,\"ticks\":\"\",\"zerolinecolor\":\"white\",\"gridwidth\":2},\"zaxis\":{\"backgroundcolor\":\"#E5ECF6\",\"gridcolor\":\"white\",\"linecolor\":\"white\",\"showbackground\":true,\"ticks\":\"\",\"zerolinecolor\":\"white\",\"gridwidth\":2}},\"shapedefaults\":{\"line\":{\"color\":\"#2a3f5f\"}},\"annotationdefaults\":{\"arrowcolor\":\"#2a3f5f\",\"arrowhead\":0,\"arrowwidth\":1},\"geo\":{\"bgcolor\":\"white\",\"landcolor\":\"#E5ECF6\",\"subunitcolor\":\"white\",\"showland\":true,\"showlakes\":true,\"lakecolor\":\"white\"},\"title\":{\"x\":0.05},\"mapbox\":{\"style\":\"light\"}}},\"xaxis\":{\"anchor\":\"y\",\"domain\":[0.0,1.0],\"title\":{\"text\":\"dispatching_base_number\"}},\"yaxis\":{\"anchor\":\"x\",\"domain\":[0.0,1.0],\"title\":{\"text\":\"active_vehicles\"}},\"legend\":{\"tracegroupgap\":0},\"margin\":{\"t\":60},\"violinmode\":\"group\"},                        {\"responsive\": true}                    ).then(function(){\n",
       "                            \n",
       "var gd = document.getElementById('fbbbaa68-0175-4ba3-b5ab-b35cf7d56093');\n",
       "var x = new MutationObserver(function (mutations, observer) {{\n",
       "        var display = window.getComputedStyle(gd).display;\n",
       "        if (!display || display === 'none') {{\n",
       "            console.log([gd, 'removed!']);\n",
       "            Plotly.purge(gd);\n",
       "            observer.disconnect();\n",
       "        }}\n",
       "}});\n",
       "\n",
       "// Listen for the removal of the full notebook cells\n",
       "var notebookContainer = gd.closest('#notebook-container');\n",
       "if (notebookContainer) {{\n",
       "    x.observe(notebookContainer, {childList: true});\n",
       "}}\n",
       "\n",
       "// Listen for the clearing of the current output cell\n",
       "var outputEl = gd.closest('.output');\n",
       "if (outputEl) {{\n",
       "    x.observe(outputEl, {childList: true});\n",
       "}}\n",
       "\n",
       "                        })                };                });            </script>        </div>"
      ]
     },
     "metadata": {},
     "output_type": "display_data"
    }
   ],
   "source": [
    "px.violin(x='dispatching_base_number' , y='active_vehicles' , data_frame=uber_foil)"
   ]
  },
  {
   "cell_type": "markdown",
   "id": "93480bac",
   "metadata": {},
   "source": [
    "# 6.. Concat all datasets"
   ]
  },
  {
   "cell_type": "code",
   "execution_count": 86,
   "id": "0a9340a6",
   "metadata": {},
   "outputs": [
    {
     "data": {
      "text/plain": [
       "['uber-raw-data-apr14.csv',\n",
       " 'uber-raw-data-aug14.csv',\n",
       " 'uber-raw-data-jul14.csv',\n",
       " 'uber-raw-data-jun14.csv',\n",
       " 'uber-raw-data-may14.csv',\n",
       " 'uber-raw-data-sep14.csv']"
      ]
     },
     "execution_count": 86,
     "metadata": {},
     "output_type": "execute_result"
    }
   ],
   "source": [
    "files = os.listdir(\"C:/Users/Dell/Downloads/UberAnalysis/Datasets\")\n",
    "files = files[-8:]\n",
    "files.remove('uber-raw-data-janjune-15_sample.csv')\n",
    "files.remove(\"uber-raw-data-janjune-15.csv\")\n",
    "files"
   ]
  },
  {
   "cell_type": "code",
   "execution_count": 148,
   "id": "27a1c2ae",
   "metadata": {},
   "outputs": [
    {
     "name": "stdout",
     "output_type": "stream",
     "text": [
      "C:/Users/Dell/Downloads/UberAnalysis/Datasets/uber-raw-data-apr14.csv\n",
      "C:/Users/Dell/Downloads/UberAnalysis/Datasets/uber-raw-data-aug14.csv\n",
      "C:/Users/Dell/Downloads/UberAnalysis/Datasets/uber-raw-data-jul14.csv\n",
      "C:/Users/Dell/Downloads/UberAnalysis/Datasets/uber-raw-data-jun14.csv\n",
      "C:/Users/Dell/Downloads/UberAnalysis/Datasets/uber-raw-data-may14.csv\n",
      "C:/Users/Dell/Downloads/UberAnalysis/Datasets/uber-raw-data-sep14.csv\n"
     ]
    },
    {
     "data": {
      "text/html": [
       "<div>\n",
       "<style scoped>\n",
       "    .dataframe tbody tr th:only-of-type {\n",
       "        vertical-align: middle;\n",
       "    }\n",
       "\n",
       "    .dataframe tbody tr th {\n",
       "        vertical-align: top;\n",
       "    }\n",
       "\n",
       "    .dataframe thead th {\n",
       "        text-align: right;\n",
       "    }\n",
       "</style>\n",
       "<table border=\"1\" class=\"dataframe\">\n",
       "  <thead>\n",
       "    <tr style=\"text-align: right;\">\n",
       "      <th></th>\n",
       "      <th>Date/Time</th>\n",
       "      <th>Lat</th>\n",
       "      <th>Lon</th>\n",
       "      <th>Base</th>\n",
       "    </tr>\n",
       "  </thead>\n",
       "  <tbody>\n",
       "    <tr>\n",
       "      <th>0</th>\n",
       "      <td>9/1/2014 0:01:00</td>\n",
       "      <td>40.2201</td>\n",
       "      <td>-74.0021</td>\n",
       "      <td>B02512</td>\n",
       "    </tr>\n",
       "    <tr>\n",
       "      <th>1</th>\n",
       "      <td>9/1/2014 0:01:00</td>\n",
       "      <td>40.7500</td>\n",
       "      <td>-74.0027</td>\n",
       "      <td>B02512</td>\n",
       "    </tr>\n",
       "    <tr>\n",
       "      <th>2</th>\n",
       "      <td>9/1/2014 0:03:00</td>\n",
       "      <td>40.7559</td>\n",
       "      <td>-73.9864</td>\n",
       "      <td>B02512</td>\n",
       "    </tr>\n",
       "    <tr>\n",
       "      <th>3</th>\n",
       "      <td>9/1/2014 0:06:00</td>\n",
       "      <td>40.7450</td>\n",
       "      <td>-73.9889</td>\n",
       "      <td>B02512</td>\n",
       "    </tr>\n",
       "    <tr>\n",
       "      <th>4</th>\n",
       "      <td>9/1/2014 0:11:00</td>\n",
       "      <td>40.8145</td>\n",
       "      <td>-73.9444</td>\n",
       "      <td>B02512</td>\n",
       "    </tr>\n",
       "  </tbody>\n",
       "</table>\n",
       "</div>"
      ],
      "text/plain": [
       "          Date/Time      Lat      Lon    Base\n",
       "0  9/1/2014 0:01:00  40.2201 -74.0021  B02512\n",
       "1  9/1/2014 0:01:00  40.7500 -74.0027  B02512\n",
       "2  9/1/2014 0:03:00  40.7559 -73.9864  B02512\n",
       "3  9/1/2014 0:06:00  40.7450 -73.9889  B02512\n",
       "4  9/1/2014 0:11:00  40.8145 -73.9444  B02512"
      ]
     },
     "execution_count": 148,
     "metadata": {},
     "output_type": "execute_result"
    }
   ],
   "source": [
    "#blank dataframe\n",
    "final = pd.DataFrame()\n",
    "\n",
    "path = \"C:/Users/Dell/Downloads/UberAnalysis/Datasets\"\n",
    "\n",
    "for file in files :\n",
    "    print(path+'/'+file)\n",
    "    current_df = pd.read_csv(path+'/'+file)\n",
    "    final = pd.concat([current_df , final])\n",
    "    \n",
    "final.head()"
   ]
  },
  {
   "cell_type": "code",
   "execution_count": 149,
   "id": "dd650be4",
   "metadata": {
    "scrolled": true
   },
   "outputs": [
    {
     "data": {
      "text/plain": [
       "(4534327, 4)"
      ]
     },
     "execution_count": 149,
     "metadata": {},
     "output_type": "execute_result"
    }
   ],
   "source": [
    "final.shape"
   ]
  },
  {
   "cell_type": "code",
   "execution_count": 150,
   "id": "c09689c7",
   "metadata": {},
   "outputs": [
    {
     "data": {
      "text/plain": [
       "82581"
      ]
     },
     "execution_count": 150,
     "metadata": {},
     "output_type": "execute_result"
    }
   ],
   "source": [
    "### checkduplicate\n",
    "final.duplicated().sum()"
   ]
  },
  {
   "cell_type": "code",
   "execution_count": 151,
   "id": "3b1a562f",
   "metadata": {},
   "outputs": [],
   "source": [
    "## drop duplicate rows\n",
    "final.drop_duplicates(inplace=True)"
   ]
  },
  {
   "cell_type": "code",
   "execution_count": 152,
   "id": "3f880ded",
   "metadata": {
    "scrolled": true
   },
   "outputs": [
    {
     "data": {
      "text/plain": [
       "(4451746, 4)"
      ]
     },
     "execution_count": 152,
     "metadata": {},
     "output_type": "execute_result"
    }
   ],
   "source": [
    "final.shape"
   ]
  },
  {
   "cell_type": "code",
   "execution_count": 153,
   "id": "6097440f",
   "metadata": {},
   "outputs": [
    {
     "data": {
      "text/plain": [
       "0"
      ]
     },
     "execution_count": 153,
     "metadata": {},
     "output_type": "execute_result"
    }
   ],
   "source": [
    "final.duplicated().sum()"
   ]
  },
  {
   "cell_type": "code",
   "execution_count": 95,
   "id": "bf3052ec",
   "metadata": {},
   "outputs": [
    {
     "data": {
      "text/html": [
       "<div>\n",
       "<style scoped>\n",
       "    .dataframe tbody tr th:only-of-type {\n",
       "        vertical-align: middle;\n",
       "    }\n",
       "\n",
       "    .dataframe tbody tr th {\n",
       "        vertical-align: top;\n",
       "    }\n",
       "\n",
       "    .dataframe thead th {\n",
       "        text-align: right;\n",
       "    }\n",
       "</style>\n",
       "<table border=\"1\" class=\"dataframe\">\n",
       "  <thead>\n",
       "    <tr style=\"text-align: right;\">\n",
       "      <th></th>\n",
       "      <th>Date/Time</th>\n",
       "      <th>Lat</th>\n",
       "      <th>Lon</th>\n",
       "      <th>Base</th>\n",
       "    </tr>\n",
       "  </thead>\n",
       "  <tbody>\n",
       "    <tr>\n",
       "      <th>0</th>\n",
       "      <td>9/1/2014 0:01:00</td>\n",
       "      <td>40.2201</td>\n",
       "      <td>-74.0021</td>\n",
       "      <td>B02512</td>\n",
       "    </tr>\n",
       "    <tr>\n",
       "      <th>1</th>\n",
       "      <td>9/1/2014 0:01:00</td>\n",
       "      <td>40.7500</td>\n",
       "      <td>-74.0027</td>\n",
       "      <td>B02512</td>\n",
       "    </tr>\n",
       "    <tr>\n",
       "      <th>2</th>\n",
       "      <td>9/1/2014 0:03:00</td>\n",
       "      <td>40.7559</td>\n",
       "      <td>-73.9864</td>\n",
       "      <td>B02512</td>\n",
       "    </tr>\n",
       "    <tr>\n",
       "      <th>3</th>\n",
       "      <td>9/1/2014 0:06:00</td>\n",
       "      <td>40.7450</td>\n",
       "      <td>-73.9889</td>\n",
       "      <td>B02512</td>\n",
       "    </tr>\n",
       "    <tr>\n",
       "      <th>4</th>\n",
       "      <td>9/1/2014 0:11:00</td>\n",
       "      <td>40.8145</td>\n",
       "      <td>-73.9444</td>\n",
       "      <td>B02512</td>\n",
       "    </tr>\n",
       "  </tbody>\n",
       "</table>\n",
       "</div>"
      ],
      "text/plain": [
       "          Date/Time      Lat      Lon    Base\n",
       "0  9/1/2014 0:01:00  40.2201 -74.0021  B02512\n",
       "1  9/1/2014 0:01:00  40.7500 -74.0027  B02512\n",
       "2  9/1/2014 0:03:00  40.7559 -73.9864  B02512\n",
       "3  9/1/2014 0:06:00  40.7450 -73.9889  B02512\n",
       "4  9/1/2014 0:11:00  40.8145 -73.9444  B02512"
      ]
     },
     "execution_count": 95,
     "metadata": {},
     "output_type": "execute_result"
    }
   ],
   "source": [
    "final.head()"
   ]
  },
  {
   "cell_type": "markdown",
   "id": "bf3c1a48",
   "metadata": {},
   "source": [
    "## Dataset Information : "
   ]
  },
  {
   "cell_type": "markdown",
   "id": "376bcbbf",
   "metadata": {},
   "source": [
    "### The dataset contains information about the Datetime, Latitude, Longitude and Base of each uber ride that happened in the month of July 2014 at New York City, USA\n",
    "\n",
    "##### Date/Time : The date and time of the Uber pickup\n",
    "\n",
    "##### Lat : The latitude of the Uber pickup\n",
    "\n",
    "##### Lon : The longitude of the Uber pickup\n",
    "\n",
    "##### Base : The TLC base company code affiliated with the Uber pickup\n",
    "\n",
    "    The Base codes are for the following Uber bases:\n",
    "    B02512 : Unter\n",
    "    B02598 : Hinter\n",
    "    B02617 : Weiter\n",
    "    B02682 : Schmecken\n",
    "    B02764 : Danach-NY\n"
   ]
  },
  {
   "cell_type": "markdown",
   "id": "9bff93c5",
   "metadata": {},
   "source": [
    "# 7. What locations of New York City we are getting rush ??"
   ]
  },
  {
   "cell_type": "code",
   "execution_count": 147,
   "id": "3479be72",
   "metadata": {},
   "outputs": [],
   "source": [
    "rush_uber = final.groupby(['Lat' , 'Lon'] , as_index=False).size()"
   ]
  },
  {
   "cell_type": "code",
   "execution_count": 125,
   "id": "c980f9cd",
   "metadata": {
    "scrolled": false
   },
   "outputs": [
    {
     "data": {
      "text/html": [
       "<div>\n",
       "<style scoped>\n",
       "    .dataframe tbody tr th:only-of-type {\n",
       "        vertical-align: middle;\n",
       "    }\n",
       "\n",
       "    .dataframe tbody tr th {\n",
       "        vertical-align: top;\n",
       "    }\n",
       "\n",
       "    .dataframe thead th {\n",
       "        text-align: right;\n",
       "    }\n",
       "</style>\n",
       "<table border=\"1\" class=\"dataframe\">\n",
       "  <thead>\n",
       "    <tr style=\"text-align: right;\">\n",
       "      <th></th>\n",
       "      <th>Lat</th>\n",
       "      <th>Lon</th>\n",
       "      <th>size</th>\n",
       "    </tr>\n",
       "  </thead>\n",
       "  <tbody>\n",
       "    <tr>\n",
       "      <th>0</th>\n",
       "      <td>39.6569</td>\n",
       "      <td>-74.2258</td>\n",
       "      <td>1</td>\n",
       "    </tr>\n",
       "    <tr>\n",
       "      <th>1</th>\n",
       "      <td>39.6686</td>\n",
       "      <td>-74.1607</td>\n",
       "      <td>1</td>\n",
       "    </tr>\n",
       "    <tr>\n",
       "      <th>2</th>\n",
       "      <td>39.7214</td>\n",
       "      <td>-74.2446</td>\n",
       "      <td>1</td>\n",
       "    </tr>\n",
       "    <tr>\n",
       "      <th>3</th>\n",
       "      <td>39.8416</td>\n",
       "      <td>-74.1512</td>\n",
       "      <td>1</td>\n",
       "    </tr>\n",
       "    <tr>\n",
       "      <th>4</th>\n",
       "      <td>39.9055</td>\n",
       "      <td>-74.0791</td>\n",
       "      <td>1</td>\n",
       "    </tr>\n",
       "    <tr>\n",
       "      <th>5</th>\n",
       "      <td>39.9196</td>\n",
       "      <td>-74.1112</td>\n",
       "      <td>1</td>\n",
       "    </tr>\n",
       "  </tbody>\n",
       "</table>\n",
       "</div>"
      ],
      "text/plain": [
       "       Lat      Lon  size\n",
       "0  39.6569 -74.2258     1\n",
       "1  39.6686 -74.1607     1\n",
       "2  39.7214 -74.2446     1\n",
       "3  39.8416 -74.1512     1\n",
       "4  39.9055 -74.0791     1\n",
       "5  39.9196 -74.1112     1"
      ]
     },
     "execution_count": 125,
     "metadata": {},
     "output_type": "execute_result"
    }
   ],
   "source": [
    "rush_uber.head(6)"
   ]
  },
  {
   "cell_type": "code",
   "execution_count": 126,
   "id": "4a89a8cd",
   "metadata": {},
   "outputs": [
    {
     "data": {
      "text/plain": [
       "Lat     float64\n",
       "Lon     float64\n",
       "size      int64\n",
       "dtype: object"
      ]
     },
     "execution_count": 126,
     "metadata": {},
     "output_type": "execute_result"
    }
   ],
   "source": [
    "rush_uber.dtypes"
   ]
  },
  {
   "cell_type": "code",
   "execution_count": 127,
   "id": "36977eae",
   "metadata": {},
   "outputs": [],
   "source": [
    "rush_uber[\"size\"] = rush_uber[\"size\"].astype(\"int\")"
   ]
  },
  {
   "cell_type": "code",
   "execution_count": 128,
   "id": "fbf21a1f",
   "metadata": {},
   "outputs": [
    {
     "data": {
      "text/plain": [
       "Lat     float64\n",
       "Lon     float64\n",
       "size      int32\n",
       "dtype: object"
      ]
     },
     "execution_count": 128,
     "metadata": {},
     "output_type": "execute_result"
    }
   ],
   "source": [
    "rush_uber.dtypes"
   ]
  },
  {
   "cell_type": "code",
   "execution_count": 131,
   "id": "25887093",
   "metadata": {},
   "outputs": [],
   "source": [
    "import folium\n",
    "from folium.plugins import HeatMap"
   ]
  },
  {
   "cell_type": "code",
   "execution_count": 132,
   "id": "26ee8be2",
   "metadata": {},
   "outputs": [
    {
     "data": {
      "text/html": [
       "<div style=\"width:100%;\"><div style=\"position:relative;width:100%;height:0;padding-bottom:60%;\"><span style=\"color:#565656\">Make this Notebook Trusted to load map: File -> Trust Notebook</span><iframe srcdoc=\"&lt;!DOCTYPE html&gt;\n",
       "&lt;html&gt;\n",
       "&lt;head&gt;\n",
       "    \n",
       "    &lt;meta http-equiv=&quot;content-type&quot; content=&quot;text/html; charset=UTF-8&quot; /&gt;\n",
       "    &lt;script&gt;L_PREFER_CANVAS = false; L_NO_TOUCH = false; L_DISABLE_3D = false;&lt;/script&gt;\n",
       "    &lt;script src=&quot;https://cdn.jsdelivr.net/npm/leaflet@1.2.0/dist/leaflet.js&quot;&gt;&lt;/script&gt;\n",
       "    &lt;script src=&quot;https://ajax.googleapis.com/ajax/libs/jquery/1.11.1/jquery.min.js&quot;&gt;&lt;/script&gt;\n",
       "    &lt;script src=&quot;https://maxcdn.bootstrapcdn.com/bootstrap/3.2.0/js/bootstrap.min.js&quot;&gt;&lt;/script&gt;\n",
       "    &lt;script src=&quot;https://cdnjs.cloudflare.com/ajax/libs/Leaflet.awesome-markers/2.0.2/leaflet.awesome-markers.js&quot;&gt;&lt;/script&gt;\n",
       "    &lt;link rel=&quot;stylesheet&quot; href=&quot;https://cdn.jsdelivr.net/npm/leaflet@1.2.0/dist/leaflet.css&quot;/&gt;\n",
       "    &lt;link rel=&quot;stylesheet&quot; href=&quot;https://maxcdn.bootstrapcdn.com/bootstrap/3.2.0/css/bootstrap.min.css&quot;/&gt;\n",
       "    &lt;link rel=&quot;stylesheet&quot; href=&quot;https://maxcdn.bootstrapcdn.com/bootstrap/3.2.0/css/bootstrap-theme.min.css&quot;/&gt;\n",
       "    &lt;link rel=&quot;stylesheet&quot; href=&quot;https://maxcdn.bootstrapcdn.com/font-awesome/4.6.3/css/font-awesome.min.css&quot;/&gt;\n",
       "    &lt;link rel=&quot;stylesheet&quot; href=&quot;https://cdnjs.cloudflare.com/ajax/libs/Leaflet.awesome-markers/2.0.2/leaflet.awesome-markers.css&quot;/&gt;\n",
       "    &lt;link rel=&quot;stylesheet&quot; href=&quot;https://rawgit.com/python-visualization/folium/master/folium/templates/leaflet.awesome.rotate.css&quot;/&gt;\n",
       "    &lt;style&gt;html, body {width: 100%;height: 100%;margin: 0;padding: 0;}&lt;/style&gt;\n",
       "    &lt;style&gt;#map {position:absolute;top:0;bottom:0;right:0;left:0;}&lt;/style&gt;\n",
       "    \n",
       "            &lt;style&gt; #map_b580f240724b33fd854a08e356488b6c {\n",
       "                position : relative;\n",
       "                width : 100.0%;\n",
       "                height: 100.0%;\n",
       "                left: 0.0%;\n",
       "                top: 0.0%;\n",
       "                }\n",
       "            &lt;/style&gt;\n",
       "        \n",
       "&lt;/head&gt;\n",
       "&lt;body&gt;\n",
       "    \n",
       "    \n",
       "            &lt;div class=&quot;folium-map&quot; id=&quot;map_b580f240724b33fd854a08e356488b6c&quot; &gt;&lt;/div&gt;\n",
       "        \n",
       "&lt;/body&gt;\n",
       "&lt;script&gt;\n",
       "    \n",
       "    \n",
       "\n",
       "            \n",
       "                var bounds = null;\n",
       "            \n",
       "\n",
       "            var map_b580f240724b33fd854a08e356488b6c = L.map(\n",
       "                                  &#x27;map_b580f240724b33fd854a08e356488b6c&#x27;,\n",
       "                                  {center: [0,0],\n",
       "                                  zoom: 1,\n",
       "                                  maxBounds: bounds,\n",
       "                                  layers: [],\n",
       "                                  worldCopyJump: false,\n",
       "                                  crs: L.CRS.EPSG3857\n",
       "                                 });\n",
       "            \n",
       "        \n",
       "    \n",
       "            var tile_layer_b2b1bf29ffa54dd733ce98e19f7d9bf6 = L.tileLayer(\n",
       "                &#x27;https://{s}.tile.openstreetmap.org/{z}/{x}/{y}.png&#x27;,\n",
       "                {\n",
       "  &quot;attribution&quot;: null,\n",
       "  &quot;detectRetina&quot;: false,\n",
       "  &quot;maxZoom&quot;: 18,\n",
       "  &quot;minZoom&quot;: 1,\n",
       "  &quot;noWrap&quot;: false,\n",
       "  &quot;subdomains&quot;: &quot;abc&quot;\n",
       "}\n",
       "                ).addTo(map_b580f240724b33fd854a08e356488b6c);\n",
       "        \n",
       "&lt;/script&gt;\n",
       "&lt;/html&gt;\" style=\"position:absolute;width:100%;height:100%;left:0;top:0;border:none !important;\" allowfullscreen webkitallowfullscreen mozallowfullscreen></iframe></div></div>"
      ],
      "text/plain": [
       "<folium.folium.Map at 0x255b3d87f10>"
      ]
     },
     "execution_count": 132,
     "metadata": {},
     "output_type": "execute_result"
    }
   ],
   "source": [
    "basemap = folium.Map()\n",
    "\n",
    "HeatMap(rush_uber).add_to(basemap)"
   ]
  },
  {
   "cell_type": "markdown",
   "id": "ae6b2c33",
   "metadata": {},
   "source": [
    "  We can see a number of hot spots here. Midtown Manhattan is clearly a huge bright spot\n",
    "    & these are made from Midtown to Lower Manhattan followed by Upper Manhattan and the Heights of Brooklyn."
   ]
  },
  {
   "cell_type": "markdown",
   "id": "9ab455a4",
   "metadata": {},
   "source": [
    "#  Examine rush on Hour and Weekday ( Perform Pair wise Analysis )"
   ]
  },
  {
   "cell_type": "code",
   "execution_count": 154,
   "id": "c4328cc9",
   "metadata": {},
   "outputs": [
    {
     "data": {
      "text/plain": [
       "Index(['Date/Time', 'Lat', 'Lon', 'Base'], dtype='object')"
      ]
     },
     "execution_count": 154,
     "metadata": {},
     "output_type": "execute_result"
    }
   ],
   "source": [
    "final.columns"
   ]
  },
  {
   "cell_type": "code",
   "execution_count": 155,
   "id": "31480ae9",
   "metadata": {},
   "outputs": [
    {
     "data": {
      "text/html": [
       "<div>\n",
       "<style scoped>\n",
       "    .dataframe tbody tr th:only-of-type {\n",
       "        vertical-align: middle;\n",
       "    }\n",
       "\n",
       "    .dataframe tbody tr th {\n",
       "        vertical-align: top;\n",
       "    }\n",
       "\n",
       "    .dataframe thead th {\n",
       "        text-align: right;\n",
       "    }\n",
       "</style>\n",
       "<table border=\"1\" class=\"dataframe\">\n",
       "  <thead>\n",
       "    <tr style=\"text-align: right;\">\n",
       "      <th></th>\n",
       "      <th>Date/Time</th>\n",
       "      <th>Lat</th>\n",
       "      <th>Lon</th>\n",
       "      <th>Base</th>\n",
       "    </tr>\n",
       "  </thead>\n",
       "  <tbody>\n",
       "    <tr>\n",
       "      <th>0</th>\n",
       "      <td>9/1/2014 0:01:00</td>\n",
       "      <td>40.2201</td>\n",
       "      <td>-74.0021</td>\n",
       "      <td>B02512</td>\n",
       "    </tr>\n",
       "    <tr>\n",
       "      <th>1</th>\n",
       "      <td>9/1/2014 0:01:00</td>\n",
       "      <td>40.7500</td>\n",
       "      <td>-74.0027</td>\n",
       "      <td>B02512</td>\n",
       "    </tr>\n",
       "    <tr>\n",
       "      <th>2</th>\n",
       "      <td>9/1/2014 0:03:00</td>\n",
       "      <td>40.7559</td>\n",
       "      <td>-73.9864</td>\n",
       "      <td>B02512</td>\n",
       "    </tr>\n",
       "  </tbody>\n",
       "</table>\n",
       "</div>"
      ],
      "text/plain": [
       "          Date/Time      Lat      Lon    Base\n",
       "0  9/1/2014 0:01:00  40.2201 -74.0021  B02512\n",
       "1  9/1/2014 0:01:00  40.7500 -74.0027  B02512\n",
       "2  9/1/2014 0:03:00  40.7559 -73.9864  B02512"
      ]
     },
     "execution_count": 155,
     "metadata": {},
     "output_type": "execute_result"
    }
   ],
   "source": [
    "final.head(3)"
   ]
  },
  {
   "cell_type": "code",
   "execution_count": 156,
   "id": "c8bcaffd",
   "metadata": {},
   "outputs": [
    {
     "data": {
      "text/plain": [
       "Date/Time     object\n",
       "Lat          float64\n",
       "Lon          float64\n",
       "Base          object\n",
       "dtype: object"
      ]
     },
     "execution_count": 156,
     "metadata": {},
     "output_type": "execute_result"
    }
   ],
   "source": [
    "final.dtypes"
   ]
  },
  {
   "cell_type": "code",
   "execution_count": 157,
   "id": "971ef81c",
   "metadata": {},
   "outputs": [
    {
     "data": {
      "text/plain": [
       "0    9/1/2014 0:01:00\n",
       "0    5/1/2014 0:02:00\n",
       "0    6/1/2014 0:00:00\n",
       "0    7/1/2014 0:03:00\n",
       "0    8/1/2014 0:03:00\n",
       "0    4/1/2014 0:11:00\n",
       "Name: Date/Time, dtype: object"
      ]
     },
     "execution_count": 157,
     "metadata": {},
     "output_type": "execute_result"
    }
   ],
   "source": [
    "final['Date/Time'][0]"
   ]
  },
  {
   "cell_type": "code",
   "execution_count": 158,
   "id": "c25864d1",
   "metadata": {},
   "outputs": [],
   "source": [
    "### converting 'Date/Time' feature into date-time..\n",
    "\n",
    "final['Date/Time'] = pd.to_datetime(final['Date/Time'] , format=\"%m/%d/%Y %H:%M:%S\")"
   ]
  },
  {
   "cell_type": "code",
   "execution_count": 159,
   "id": "276206fb",
   "metadata": {},
   "outputs": [
    {
     "data": {
      "text/plain": [
       "dtype('<M8[ns]')"
      ]
     },
     "execution_count": 159,
     "metadata": {},
     "output_type": "execute_result"
    }
   ],
   "source": [
    "final['Date/Time'].dtype"
   ]
  },
  {
   "cell_type": "code",
   "execution_count": 160,
   "id": "1ced316b",
   "metadata": {},
   "outputs": [],
   "source": [
    "### extracting 'weekday' & 'hour' from 'Date/Time' feature..\n",
    "\n",
    "final['day'] = final['Date/Time'].dt.day\n",
    "final['hour'] = final['Date/Time'].dt.hour"
   ]
  },
  {
   "cell_type": "code",
   "execution_count": 161,
   "id": "172fa835",
   "metadata": {},
   "outputs": [
    {
     "data": {
      "text/html": [
       "<div>\n",
       "<style scoped>\n",
       "    .dataframe tbody tr th:only-of-type {\n",
       "        vertical-align: middle;\n",
       "    }\n",
       "\n",
       "    .dataframe tbody tr th {\n",
       "        vertical-align: top;\n",
       "    }\n",
       "\n",
       "    .dataframe thead th {\n",
       "        text-align: right;\n",
       "    }\n",
       "</style>\n",
       "<table border=\"1\" class=\"dataframe\">\n",
       "  <thead>\n",
       "    <tr style=\"text-align: right;\">\n",
       "      <th></th>\n",
       "      <th>Date/Time</th>\n",
       "      <th>Lat</th>\n",
       "      <th>Lon</th>\n",
       "      <th>Base</th>\n",
       "      <th>day</th>\n",
       "      <th>hour</th>\n",
       "    </tr>\n",
       "  </thead>\n",
       "  <tbody>\n",
       "    <tr>\n",
       "      <th>0</th>\n",
       "      <td>2014-09-01 00:01:00</td>\n",
       "      <td>40.2201</td>\n",
       "      <td>-74.0021</td>\n",
       "      <td>B02512</td>\n",
       "      <td>1</td>\n",
       "      <td>0</td>\n",
       "    </tr>\n",
       "    <tr>\n",
       "      <th>1</th>\n",
       "      <td>2014-09-01 00:01:00</td>\n",
       "      <td>40.7500</td>\n",
       "      <td>-74.0027</td>\n",
       "      <td>B02512</td>\n",
       "      <td>1</td>\n",
       "      <td>0</td>\n",
       "    </tr>\n",
       "    <tr>\n",
       "      <th>2</th>\n",
       "      <td>2014-09-01 00:03:00</td>\n",
       "      <td>40.7559</td>\n",
       "      <td>-73.9864</td>\n",
       "      <td>B02512</td>\n",
       "      <td>1</td>\n",
       "      <td>0</td>\n",
       "    </tr>\n",
       "    <tr>\n",
       "      <th>3</th>\n",
       "      <td>2014-09-01 00:06:00</td>\n",
       "      <td>40.7450</td>\n",
       "      <td>-73.9889</td>\n",
       "      <td>B02512</td>\n",
       "      <td>1</td>\n",
       "      <td>0</td>\n",
       "    </tr>\n",
       "  </tbody>\n",
       "</table>\n",
       "</div>"
      ],
      "text/plain": [
       "            Date/Time      Lat      Lon    Base  day  hour\n",
       "0 2014-09-01 00:01:00  40.2201 -74.0021  B02512    1     0\n",
       "1 2014-09-01 00:01:00  40.7500 -74.0027  B02512    1     0\n",
       "2 2014-09-01 00:03:00  40.7559 -73.9864  B02512    1     0\n",
       "3 2014-09-01 00:06:00  40.7450 -73.9889  B02512    1     0"
      ]
     },
     "execution_count": 161,
     "metadata": {},
     "output_type": "execute_result"
    }
   ],
   "source": [
    "final.head(4)"
   ]
  },
  {
   "cell_type": "code",
   "execution_count": 162,
   "id": "9b71cff3",
   "metadata": {},
   "outputs": [],
   "source": [
    "pivot = final.groupby(['day' , 'hour']).size().unstack()"
   ]
  },
  {
   "cell_type": "code",
   "execution_count": 163,
   "id": "95729ae4",
   "metadata": {},
   "outputs": [
    {
     "data": {
      "text/html": [
       "<div>\n",
       "<style scoped>\n",
       "    .dataframe tbody tr th:only-of-type {\n",
       "        vertical-align: middle;\n",
       "    }\n",
       "\n",
       "    .dataframe tbody tr th {\n",
       "        vertical-align: top;\n",
       "    }\n",
       "\n",
       "    .dataframe thead th {\n",
       "        text-align: right;\n",
       "    }\n",
       "</style>\n",
       "<table border=\"1\" class=\"dataframe\">\n",
       "  <thead>\n",
       "    <tr style=\"text-align: right;\">\n",
       "      <th>hour</th>\n",
       "      <th>0</th>\n",
       "      <th>1</th>\n",
       "      <th>2</th>\n",
       "      <th>3</th>\n",
       "      <th>4</th>\n",
       "      <th>5</th>\n",
       "      <th>6</th>\n",
       "      <th>7</th>\n",
       "      <th>8</th>\n",
       "      <th>9</th>\n",
       "      <th>...</th>\n",
       "      <th>14</th>\n",
       "      <th>15</th>\n",
       "      <th>16</th>\n",
       "      <th>17</th>\n",
       "      <th>18</th>\n",
       "      <th>19</th>\n",
       "      <th>20</th>\n",
       "      <th>21</th>\n",
       "      <th>22</th>\n",
       "      <th>23</th>\n",
       "    </tr>\n",
       "    <tr>\n",
       "      <th>day</th>\n",
       "      <th></th>\n",
       "      <th></th>\n",
       "      <th></th>\n",
       "      <th></th>\n",
       "      <th></th>\n",
       "      <th></th>\n",
       "      <th></th>\n",
       "      <th></th>\n",
       "      <th></th>\n",
       "      <th></th>\n",
       "      <th></th>\n",
       "      <th></th>\n",
       "      <th></th>\n",
       "      <th></th>\n",
       "      <th></th>\n",
       "      <th></th>\n",
       "      <th></th>\n",
       "      <th></th>\n",
       "      <th></th>\n",
       "      <th></th>\n",
       "      <th></th>\n",
       "    </tr>\n",
       "  </thead>\n",
       "  <tbody>\n",
       "    <tr>\n",
       "      <th>1</th>\n",
       "      <td>3178</td>\n",
       "      <td>1944</td>\n",
       "      <td>1256</td>\n",
       "      <td>1308</td>\n",
       "      <td>1429</td>\n",
       "      <td>2126</td>\n",
       "      <td>3664</td>\n",
       "      <td>5380</td>\n",
       "      <td>5292</td>\n",
       "      <td>4617</td>\n",
       "      <td>...</td>\n",
       "      <td>6933</td>\n",
       "      <td>7910</td>\n",
       "      <td>8633</td>\n",
       "      <td>9511</td>\n",
       "      <td>8604</td>\n",
       "      <td>8001</td>\n",
       "      <td>7315</td>\n",
       "      <td>7803</td>\n",
       "      <td>6268</td>\n",
       "      <td>4050</td>\n",
       "    </tr>\n",
       "    <tr>\n",
       "      <th>2</th>\n",
       "      <td>2435</td>\n",
       "      <td>1569</td>\n",
       "      <td>1087</td>\n",
       "      <td>1414</td>\n",
       "      <td>1876</td>\n",
       "      <td>2812</td>\n",
       "      <td>4920</td>\n",
       "      <td>6544</td>\n",
       "      <td>6310</td>\n",
       "      <td>4712</td>\n",
       "      <td>...</td>\n",
       "      <td>6904</td>\n",
       "      <td>8449</td>\n",
       "      <td>10109</td>\n",
       "      <td>11100</td>\n",
       "      <td>11123</td>\n",
       "      <td>9474</td>\n",
       "      <td>8759</td>\n",
       "      <td>8357</td>\n",
       "      <td>6998</td>\n",
       "      <td>5160</td>\n",
       "    </tr>\n",
       "    <tr>\n",
       "      <th>3</th>\n",
       "      <td>3354</td>\n",
       "      <td>2142</td>\n",
       "      <td>1407</td>\n",
       "      <td>1467</td>\n",
       "      <td>1550</td>\n",
       "      <td>2387</td>\n",
       "      <td>4241</td>\n",
       "      <td>5663</td>\n",
       "      <td>5386</td>\n",
       "      <td>4657</td>\n",
       "      <td>...</td>\n",
       "      <td>7226</td>\n",
       "      <td>8850</td>\n",
       "      <td>10314</td>\n",
       "      <td>10491</td>\n",
       "      <td>11239</td>\n",
       "      <td>9599</td>\n",
       "      <td>9026</td>\n",
       "      <td>8531</td>\n",
       "      <td>7142</td>\n",
       "      <td>4686</td>\n",
       "    </tr>\n",
       "    <tr>\n",
       "      <th>4</th>\n",
       "      <td>2897</td>\n",
       "      <td>1688</td>\n",
       "      <td>1199</td>\n",
       "      <td>1424</td>\n",
       "      <td>1696</td>\n",
       "      <td>2581</td>\n",
       "      <td>4592</td>\n",
       "      <td>6029</td>\n",
       "      <td>5704</td>\n",
       "      <td>4744</td>\n",
       "      <td>...</td>\n",
       "      <td>7158</td>\n",
       "      <td>8515</td>\n",
       "      <td>9492</td>\n",
       "      <td>10357</td>\n",
       "      <td>10259</td>\n",
       "      <td>9097</td>\n",
       "      <td>8358</td>\n",
       "      <td>8649</td>\n",
       "      <td>7706</td>\n",
       "      <td>5130</td>\n",
       "    </tr>\n",
       "    <tr>\n",
       "      <th>5</th>\n",
       "      <td>2733</td>\n",
       "      <td>1541</td>\n",
       "      <td>1030</td>\n",
       "      <td>1253</td>\n",
       "      <td>1617</td>\n",
       "      <td>2900</td>\n",
       "      <td>4814</td>\n",
       "      <td>6261</td>\n",
       "      <td>6469</td>\n",
       "      <td>5530</td>\n",
       "      <td>...</td>\n",
       "      <td>6955</td>\n",
       "      <td>8312</td>\n",
       "      <td>9609</td>\n",
       "      <td>10699</td>\n",
       "      <td>10170</td>\n",
       "      <td>9430</td>\n",
       "      <td>9354</td>\n",
       "      <td>9610</td>\n",
       "      <td>8853</td>\n",
       "      <td>6518</td>\n",
       "    </tr>\n",
       "    <tr>\n",
       "      <th>6</th>\n",
       "      <td>4537</td>\n",
       "      <td>2864</td>\n",
       "      <td>1864</td>\n",
       "      <td>1555</td>\n",
       "      <td>1551</td>\n",
       "      <td>2162</td>\n",
       "      <td>3642</td>\n",
       "      <td>4766</td>\n",
       "      <td>4942</td>\n",
       "      <td>4401</td>\n",
       "      <td>...</td>\n",
       "      <td>7235</td>\n",
       "      <td>8612</td>\n",
       "      <td>9444</td>\n",
       "      <td>9929</td>\n",
       "      <td>9263</td>\n",
       "      <td>8405</td>\n",
       "      <td>8117</td>\n",
       "      <td>8567</td>\n",
       "      <td>7852</td>\n",
       "      <td>5946</td>\n",
       "    </tr>\n",
       "    <tr>\n",
       "      <th>7</th>\n",
       "      <td>3645</td>\n",
       "      <td>2296</td>\n",
       "      <td>1507</td>\n",
       "      <td>1597</td>\n",
       "      <td>1763</td>\n",
       "      <td>2422</td>\n",
       "      <td>4102</td>\n",
       "      <td>5575</td>\n",
       "      <td>5376</td>\n",
       "      <td>4639</td>\n",
       "      <td>...</td>\n",
       "      <td>7276</td>\n",
       "      <td>8474</td>\n",
       "      <td>10393</td>\n",
       "      <td>11013</td>\n",
       "      <td>10573</td>\n",
       "      <td>9472</td>\n",
       "      <td>8691</td>\n",
       "      <td>8525</td>\n",
       "      <td>7194</td>\n",
       "      <td>4801</td>\n",
       "    </tr>\n",
       "    <tr>\n",
       "      <th>8</th>\n",
       "      <td>2830</td>\n",
       "      <td>1646</td>\n",
       "      <td>1123</td>\n",
       "      <td>1483</td>\n",
       "      <td>1889</td>\n",
       "      <td>3224</td>\n",
       "      <td>5431</td>\n",
       "      <td>7361</td>\n",
       "      <td>7357</td>\n",
       "      <td>5703</td>\n",
       "      <td>...</td>\n",
       "      <td>7240</td>\n",
       "      <td>8775</td>\n",
       "      <td>9851</td>\n",
       "      <td>10673</td>\n",
       "      <td>9687</td>\n",
       "      <td>8796</td>\n",
       "      <td>8604</td>\n",
       "      <td>8367</td>\n",
       "      <td>6795</td>\n",
       "      <td>4256</td>\n",
       "    </tr>\n",
       "    <tr>\n",
       "      <th>9</th>\n",
       "      <td>2657</td>\n",
       "      <td>1724</td>\n",
       "      <td>1222</td>\n",
       "      <td>1480</td>\n",
       "      <td>1871</td>\n",
       "      <td>3168</td>\n",
       "      <td>5802</td>\n",
       "      <td>7592</td>\n",
       "      <td>7519</td>\n",
       "      <td>5895</td>\n",
       "      <td>...</td>\n",
       "      <td>7877</td>\n",
       "      <td>9220</td>\n",
       "      <td>10270</td>\n",
       "      <td>11910</td>\n",
       "      <td>11449</td>\n",
       "      <td>9804</td>\n",
       "      <td>8909</td>\n",
       "      <td>8665</td>\n",
       "      <td>7499</td>\n",
       "      <td>5203</td>\n",
       "    </tr>\n",
       "    <tr>\n",
       "      <th>10</th>\n",
       "      <td>3296</td>\n",
       "      <td>2126</td>\n",
       "      <td>1464</td>\n",
       "      <td>1434</td>\n",
       "      <td>1591</td>\n",
       "      <td>2594</td>\n",
       "      <td>4664</td>\n",
       "      <td>6046</td>\n",
       "      <td>6158</td>\n",
       "      <td>5072</td>\n",
       "      <td>...</td>\n",
       "      <td>7612</td>\n",
       "      <td>9578</td>\n",
       "      <td>11045</td>\n",
       "      <td>11875</td>\n",
       "      <td>10934</td>\n",
       "      <td>9613</td>\n",
       "      <td>9687</td>\n",
       "      <td>9240</td>\n",
       "      <td>7766</td>\n",
       "      <td>5496</td>\n",
       "    </tr>\n",
       "    <tr>\n",
       "      <th>11</th>\n",
       "      <td>3036</td>\n",
       "      <td>1665</td>\n",
       "      <td>1095</td>\n",
       "      <td>1424</td>\n",
       "      <td>1842</td>\n",
       "      <td>2520</td>\n",
       "      <td>4954</td>\n",
       "      <td>6876</td>\n",
       "      <td>6871</td>\n",
       "      <td>5396</td>\n",
       "      <td>...</td>\n",
       "      <td>7503</td>\n",
       "      <td>8920</td>\n",
       "      <td>10125</td>\n",
       "      <td>10898</td>\n",
       "      <td>10361</td>\n",
       "      <td>9327</td>\n",
       "      <td>8824</td>\n",
       "      <td>8730</td>\n",
       "      <td>7771</td>\n",
       "      <td>5360</td>\n",
       "    </tr>\n",
       "    <tr>\n",
       "      <th>12</th>\n",
       "      <td>3227</td>\n",
       "      <td>2147</td>\n",
       "      <td>1393</td>\n",
       "      <td>1362</td>\n",
       "      <td>1757</td>\n",
       "      <td>2710</td>\n",
       "      <td>4576</td>\n",
       "      <td>6250</td>\n",
       "      <td>6231</td>\n",
       "      <td>5177</td>\n",
       "      <td>...</td>\n",
       "      <td>7743</td>\n",
       "      <td>9390</td>\n",
       "      <td>10734</td>\n",
       "      <td>11713</td>\n",
       "      <td>12216</td>\n",
       "      <td>10393</td>\n",
       "      <td>9965</td>\n",
       "      <td>10310</td>\n",
       "      <td>9992</td>\n",
       "      <td>7945</td>\n",
       "    </tr>\n",
       "    <tr>\n",
       "      <th>13</th>\n",
       "      <td>5408</td>\n",
       "      <td>3509</td>\n",
       "      <td>2262</td>\n",
       "      <td>1832</td>\n",
       "      <td>1705</td>\n",
       "      <td>2327</td>\n",
       "      <td>4196</td>\n",
       "      <td>5685</td>\n",
       "      <td>6060</td>\n",
       "      <td>5631</td>\n",
       "      <td>...</td>\n",
       "      <td>8200</td>\n",
       "      <td>9264</td>\n",
       "      <td>10534</td>\n",
       "      <td>11826</td>\n",
       "      <td>11450</td>\n",
       "      <td>9921</td>\n",
       "      <td>8705</td>\n",
       "      <td>8423</td>\n",
       "      <td>7363</td>\n",
       "      <td>5936</td>\n",
       "    </tr>\n",
       "    <tr>\n",
       "      <th>14</th>\n",
       "      <td>3748</td>\n",
       "      <td>2349</td>\n",
       "      <td>1605</td>\n",
       "      <td>1656</td>\n",
       "      <td>1756</td>\n",
       "      <td>2629</td>\n",
       "      <td>4257</td>\n",
       "      <td>5781</td>\n",
       "      <td>5520</td>\n",
       "      <td>4824</td>\n",
       "      <td>...</td>\n",
       "      <td>6963</td>\n",
       "      <td>8192</td>\n",
       "      <td>9511</td>\n",
       "      <td>10115</td>\n",
       "      <td>9553</td>\n",
       "      <td>9146</td>\n",
       "      <td>9182</td>\n",
       "      <td>8589</td>\n",
       "      <td>6891</td>\n",
       "      <td>4460</td>\n",
       "    </tr>\n",
       "    <tr>\n",
       "      <th>15</th>\n",
       "      <td>2497</td>\n",
       "      <td>1515</td>\n",
       "      <td>1087</td>\n",
       "      <td>1381</td>\n",
       "      <td>1862</td>\n",
       "      <td>2980</td>\n",
       "      <td>5050</td>\n",
       "      <td>6837</td>\n",
       "      <td>6729</td>\n",
       "      <td>5201</td>\n",
       "      <td>...</td>\n",
       "      <td>7633</td>\n",
       "      <td>8505</td>\n",
       "      <td>10285</td>\n",
       "      <td>11959</td>\n",
       "      <td>11728</td>\n",
       "      <td>11032</td>\n",
       "      <td>10509</td>\n",
       "      <td>9105</td>\n",
       "      <td>7153</td>\n",
       "      <td>4480</td>\n",
       "    </tr>\n",
       "    <tr>\n",
       "      <th>16</th>\n",
       "      <td>2547</td>\n",
       "      <td>1585</td>\n",
       "      <td>1119</td>\n",
       "      <td>1395</td>\n",
       "      <td>1818</td>\n",
       "      <td>2966</td>\n",
       "      <td>5558</td>\n",
       "      <td>7517</td>\n",
       "      <td>7495</td>\n",
       "      <td>5958</td>\n",
       "      <td>...</td>\n",
       "      <td>7597</td>\n",
       "      <td>9290</td>\n",
       "      <td>10804</td>\n",
       "      <td>11773</td>\n",
       "      <td>10855</td>\n",
       "      <td>10924</td>\n",
       "      <td>10142</td>\n",
       "      <td>10374</td>\n",
       "      <td>8094</td>\n",
       "      <td>5380</td>\n",
       "    </tr>\n",
       "    <tr>\n",
       "      <th>17</th>\n",
       "      <td>3155</td>\n",
       "      <td>2048</td>\n",
       "      <td>1500</td>\n",
       "      <td>1488</td>\n",
       "      <td>1897</td>\n",
       "      <td>2741</td>\n",
       "      <td>4562</td>\n",
       "      <td>6315</td>\n",
       "      <td>5882</td>\n",
       "      <td>4934</td>\n",
       "      <td>...</td>\n",
       "      <td>7472</td>\n",
       "      <td>8997</td>\n",
       "      <td>10323</td>\n",
       "      <td>11236</td>\n",
       "      <td>11089</td>\n",
       "      <td>9919</td>\n",
       "      <td>9935</td>\n",
       "      <td>9823</td>\n",
       "      <td>8362</td>\n",
       "      <td>5699</td>\n",
       "    </tr>\n",
       "    <tr>\n",
       "      <th>18</th>\n",
       "      <td>3390</td>\n",
       "      <td>2135</td>\n",
       "      <td>1332</td>\n",
       "      <td>1626</td>\n",
       "      <td>1892</td>\n",
       "      <td>2959</td>\n",
       "      <td>4688</td>\n",
       "      <td>6618</td>\n",
       "      <td>6451</td>\n",
       "      <td>5377</td>\n",
       "      <td>...</td>\n",
       "      <td>7534</td>\n",
       "      <td>9040</td>\n",
       "      <td>10274</td>\n",
       "      <td>10692</td>\n",
       "      <td>10338</td>\n",
       "      <td>9551</td>\n",
       "      <td>9310</td>\n",
       "      <td>9285</td>\n",
       "      <td>8015</td>\n",
       "      <td>5492</td>\n",
       "    </tr>\n",
       "    <tr>\n",
       "      <th>19</th>\n",
       "      <td>3217</td>\n",
       "      <td>2188</td>\n",
       "      <td>1604</td>\n",
       "      <td>1675</td>\n",
       "      <td>1810</td>\n",
       "      <td>2639</td>\n",
       "      <td>4733</td>\n",
       "      <td>6159</td>\n",
       "      <td>6014</td>\n",
       "      <td>5006</td>\n",
       "      <td>...</td>\n",
       "      <td>7374</td>\n",
       "      <td>8898</td>\n",
       "      <td>9893</td>\n",
       "      <td>10741</td>\n",
       "      <td>10429</td>\n",
       "      <td>9701</td>\n",
       "      <td>10051</td>\n",
       "      <td>10049</td>\n",
       "      <td>9090</td>\n",
       "      <td>6666</td>\n",
       "    </tr>\n",
       "    <tr>\n",
       "      <th>20</th>\n",
       "      <td>4475</td>\n",
       "      <td>3190</td>\n",
       "      <td>2100</td>\n",
       "      <td>1858</td>\n",
       "      <td>1618</td>\n",
       "      <td>2143</td>\n",
       "      <td>3584</td>\n",
       "      <td>4900</td>\n",
       "      <td>5083</td>\n",
       "      <td>4765</td>\n",
       "      <td>...</td>\n",
       "      <td>7462</td>\n",
       "      <td>8630</td>\n",
       "      <td>9448</td>\n",
       "      <td>10046</td>\n",
       "      <td>9272</td>\n",
       "      <td>8592</td>\n",
       "      <td>8614</td>\n",
       "      <td>8703</td>\n",
       "      <td>7787</td>\n",
       "      <td>5907</td>\n",
       "    </tr>\n",
       "    <tr>\n",
       "      <th>21</th>\n",
       "      <td>4294</td>\n",
       "      <td>3194</td>\n",
       "      <td>1972</td>\n",
       "      <td>1727</td>\n",
       "      <td>1926</td>\n",
       "      <td>2615</td>\n",
       "      <td>4185</td>\n",
       "      <td>5727</td>\n",
       "      <td>5529</td>\n",
       "      <td>4707</td>\n",
       "      <td>...</td>\n",
       "      <td>7064</td>\n",
       "      <td>8127</td>\n",
       "      <td>9483</td>\n",
       "      <td>9817</td>\n",
       "      <td>9291</td>\n",
       "      <td>8317</td>\n",
       "      <td>8107</td>\n",
       "      <td>8245</td>\n",
       "      <td>7362</td>\n",
       "      <td>5231</td>\n",
       "    </tr>\n",
       "    <tr>\n",
       "      <th>22</th>\n",
       "      <td>2787</td>\n",
       "      <td>1637</td>\n",
       "      <td>1175</td>\n",
       "      <td>1468</td>\n",
       "      <td>1934</td>\n",
       "      <td>3151</td>\n",
       "      <td>5204</td>\n",
       "      <td>6872</td>\n",
       "      <td>6850</td>\n",
       "      <td>5198</td>\n",
       "      <td>...</td>\n",
       "      <td>7337</td>\n",
       "      <td>9148</td>\n",
       "      <td>10574</td>\n",
       "      <td>10962</td>\n",
       "      <td>9884</td>\n",
       "      <td>8980</td>\n",
       "      <td>8772</td>\n",
       "      <td>8430</td>\n",
       "      <td>6784</td>\n",
       "      <td>4530</td>\n",
       "    </tr>\n",
       "    <tr>\n",
       "      <th>23</th>\n",
       "      <td>2546</td>\n",
       "      <td>1580</td>\n",
       "      <td>1136</td>\n",
       "      <td>1429</td>\n",
       "      <td>1957</td>\n",
       "      <td>3132</td>\n",
       "      <td>5204</td>\n",
       "      <td>6890</td>\n",
       "      <td>6436</td>\n",
       "      <td>5177</td>\n",
       "      <td>...</td>\n",
       "      <td>7575</td>\n",
       "      <td>9309</td>\n",
       "      <td>9980</td>\n",
       "      <td>10341</td>\n",
       "      <td>10823</td>\n",
       "      <td>11347</td>\n",
       "      <td>11447</td>\n",
       "      <td>10347</td>\n",
       "      <td>8637</td>\n",
       "      <td>5577</td>\n",
       "    </tr>\n",
       "    <tr>\n",
       "      <th>24</th>\n",
       "      <td>3200</td>\n",
       "      <td>2055</td>\n",
       "      <td>1438</td>\n",
       "      <td>1493</td>\n",
       "      <td>1798</td>\n",
       "      <td>2754</td>\n",
       "      <td>4484</td>\n",
       "      <td>6013</td>\n",
       "      <td>5913</td>\n",
       "      <td>5146</td>\n",
       "      <td>...</td>\n",
       "      <td>7083</td>\n",
       "      <td>8706</td>\n",
       "      <td>10366</td>\n",
       "      <td>10786</td>\n",
       "      <td>9772</td>\n",
       "      <td>9080</td>\n",
       "      <td>9213</td>\n",
       "      <td>8831</td>\n",
       "      <td>7480</td>\n",
       "      <td>4456</td>\n",
       "    </tr>\n",
       "    <tr>\n",
       "      <th>25</th>\n",
       "      <td>2405</td>\n",
       "      <td>1499</td>\n",
       "      <td>1072</td>\n",
       "      <td>1439</td>\n",
       "      <td>1943</td>\n",
       "      <td>2973</td>\n",
       "      <td>5356</td>\n",
       "      <td>7627</td>\n",
       "      <td>7078</td>\n",
       "      <td>5994</td>\n",
       "      <td>...</td>\n",
       "      <td>7298</td>\n",
       "      <td>8732</td>\n",
       "      <td>9922</td>\n",
       "      <td>10504</td>\n",
       "      <td>10673</td>\n",
       "      <td>9048</td>\n",
       "      <td>8751</td>\n",
       "      <td>9508</td>\n",
       "      <td>8522</td>\n",
       "      <td>6605</td>\n",
       "    </tr>\n",
       "    <tr>\n",
       "      <th>26</th>\n",
       "      <td>3810</td>\n",
       "      <td>3065</td>\n",
       "      <td>2046</td>\n",
       "      <td>1806</td>\n",
       "      <td>1730</td>\n",
       "      <td>2337</td>\n",
       "      <td>3776</td>\n",
       "      <td>5172</td>\n",
       "      <td>5071</td>\n",
       "      <td>4808</td>\n",
       "      <td>...</td>\n",
       "      <td>7269</td>\n",
       "      <td>8815</td>\n",
       "      <td>9885</td>\n",
       "      <td>10697</td>\n",
       "      <td>10867</td>\n",
       "      <td>10122</td>\n",
       "      <td>9820</td>\n",
       "      <td>10441</td>\n",
       "      <td>9486</td>\n",
       "      <td>7593</td>\n",
       "    </tr>\n",
       "    <tr>\n",
       "      <th>27</th>\n",
       "      <td>5196</td>\n",
       "      <td>3635</td>\n",
       "      <td>2352</td>\n",
       "      <td>2055</td>\n",
       "      <td>1723</td>\n",
       "      <td>2336</td>\n",
       "      <td>3539</td>\n",
       "      <td>4937</td>\n",
       "      <td>5053</td>\n",
       "      <td>4771</td>\n",
       "      <td>...</td>\n",
       "      <td>7519</td>\n",
       "      <td>8803</td>\n",
       "      <td>9793</td>\n",
       "      <td>9838</td>\n",
       "      <td>9228</td>\n",
       "      <td>8267</td>\n",
       "      <td>7908</td>\n",
       "      <td>8507</td>\n",
       "      <td>7720</td>\n",
       "      <td>6046</td>\n",
       "    </tr>\n",
       "    <tr>\n",
       "      <th>28</th>\n",
       "      <td>4123</td>\n",
       "      <td>2646</td>\n",
       "      <td>1843</td>\n",
       "      <td>1802</td>\n",
       "      <td>1883</td>\n",
       "      <td>2793</td>\n",
       "      <td>4290</td>\n",
       "      <td>5715</td>\n",
       "      <td>5671</td>\n",
       "      <td>5206</td>\n",
       "      <td>...</td>\n",
       "      <td>7341</td>\n",
       "      <td>8584</td>\n",
       "      <td>9671</td>\n",
       "      <td>9975</td>\n",
       "      <td>9132</td>\n",
       "      <td>8255</td>\n",
       "      <td>8309</td>\n",
       "      <td>7949</td>\n",
       "      <td>6411</td>\n",
       "      <td>4461</td>\n",
       "    </tr>\n",
       "    <tr>\n",
       "      <th>29</th>\n",
       "      <td>2678</td>\n",
       "      <td>1827</td>\n",
       "      <td>1409</td>\n",
       "      <td>1678</td>\n",
       "      <td>1948</td>\n",
       "      <td>3056</td>\n",
       "      <td>5213</td>\n",
       "      <td>6852</td>\n",
       "      <td>6695</td>\n",
       "      <td>5481</td>\n",
       "      <td>...</td>\n",
       "      <td>7630</td>\n",
       "      <td>9249</td>\n",
       "      <td>10105</td>\n",
       "      <td>11113</td>\n",
       "      <td>10411</td>\n",
       "      <td>9301</td>\n",
       "      <td>9270</td>\n",
       "      <td>9114</td>\n",
       "      <td>6992</td>\n",
       "      <td>4323</td>\n",
       "    </tr>\n",
       "    <tr>\n",
       "      <th>30</th>\n",
       "      <td>2401</td>\n",
       "      <td>1510</td>\n",
       "      <td>1112</td>\n",
       "      <td>1403</td>\n",
       "      <td>1841</td>\n",
       "      <td>3216</td>\n",
       "      <td>5757</td>\n",
       "      <td>7596</td>\n",
       "      <td>7611</td>\n",
       "      <td>6064</td>\n",
       "      <td>...</td>\n",
       "      <td>8396</td>\n",
       "      <td>10243</td>\n",
       "      <td>11554</td>\n",
       "      <td>12126</td>\n",
       "      <td>12561</td>\n",
       "      <td>11024</td>\n",
       "      <td>10836</td>\n",
       "      <td>10042</td>\n",
       "      <td>8275</td>\n",
       "      <td>4723</td>\n",
       "    </tr>\n",
       "    <tr>\n",
       "      <th>31</th>\n",
       "      <td>2174</td>\n",
       "      <td>1394</td>\n",
       "      <td>1087</td>\n",
       "      <td>919</td>\n",
       "      <td>773</td>\n",
       "      <td>997</td>\n",
       "      <td>1561</td>\n",
       "      <td>2169</td>\n",
       "      <td>2410</td>\n",
       "      <td>2525</td>\n",
       "      <td>...</td>\n",
       "      <td>4104</td>\n",
       "      <td>5099</td>\n",
       "      <td>5386</td>\n",
       "      <td>5308</td>\n",
       "      <td>5350</td>\n",
       "      <td>4898</td>\n",
       "      <td>4819</td>\n",
       "      <td>5064</td>\n",
       "      <td>5164</td>\n",
       "      <td>3961</td>\n",
       "    </tr>\n",
       "  </tbody>\n",
       "</table>\n",
       "<p>31 rows × 24 columns</p>\n",
       "</div>"
      ],
      "text/plain": [
       "hour    0     1     2     3     4     5     6     7     8     9   ...    14  \\\n",
       "day                                                               ...         \n",
       "1     3178  1944  1256  1308  1429  2126  3664  5380  5292  4617  ...  6933   \n",
       "2     2435  1569  1087  1414  1876  2812  4920  6544  6310  4712  ...  6904   \n",
       "3     3354  2142  1407  1467  1550  2387  4241  5663  5386  4657  ...  7226   \n",
       "4     2897  1688  1199  1424  1696  2581  4592  6029  5704  4744  ...  7158   \n",
       "5     2733  1541  1030  1253  1617  2900  4814  6261  6469  5530  ...  6955   \n",
       "6     4537  2864  1864  1555  1551  2162  3642  4766  4942  4401  ...  7235   \n",
       "7     3645  2296  1507  1597  1763  2422  4102  5575  5376  4639  ...  7276   \n",
       "8     2830  1646  1123  1483  1889  3224  5431  7361  7357  5703  ...  7240   \n",
       "9     2657  1724  1222  1480  1871  3168  5802  7592  7519  5895  ...  7877   \n",
       "10    3296  2126  1464  1434  1591  2594  4664  6046  6158  5072  ...  7612   \n",
       "11    3036  1665  1095  1424  1842  2520  4954  6876  6871  5396  ...  7503   \n",
       "12    3227  2147  1393  1362  1757  2710  4576  6250  6231  5177  ...  7743   \n",
       "13    5408  3509  2262  1832  1705  2327  4196  5685  6060  5631  ...  8200   \n",
       "14    3748  2349  1605  1656  1756  2629  4257  5781  5520  4824  ...  6963   \n",
       "15    2497  1515  1087  1381  1862  2980  5050  6837  6729  5201  ...  7633   \n",
       "16    2547  1585  1119  1395  1818  2966  5558  7517  7495  5958  ...  7597   \n",
       "17    3155  2048  1500  1488  1897  2741  4562  6315  5882  4934  ...  7472   \n",
       "18    3390  2135  1332  1626  1892  2959  4688  6618  6451  5377  ...  7534   \n",
       "19    3217  2188  1604  1675  1810  2639  4733  6159  6014  5006  ...  7374   \n",
       "20    4475  3190  2100  1858  1618  2143  3584  4900  5083  4765  ...  7462   \n",
       "21    4294  3194  1972  1727  1926  2615  4185  5727  5529  4707  ...  7064   \n",
       "22    2787  1637  1175  1468  1934  3151  5204  6872  6850  5198  ...  7337   \n",
       "23    2546  1580  1136  1429  1957  3132  5204  6890  6436  5177  ...  7575   \n",
       "24    3200  2055  1438  1493  1798  2754  4484  6013  5913  5146  ...  7083   \n",
       "25    2405  1499  1072  1439  1943  2973  5356  7627  7078  5994  ...  7298   \n",
       "26    3810  3065  2046  1806  1730  2337  3776  5172  5071  4808  ...  7269   \n",
       "27    5196  3635  2352  2055  1723  2336  3539  4937  5053  4771  ...  7519   \n",
       "28    4123  2646  1843  1802  1883  2793  4290  5715  5671  5206  ...  7341   \n",
       "29    2678  1827  1409  1678  1948  3056  5213  6852  6695  5481  ...  7630   \n",
       "30    2401  1510  1112  1403  1841  3216  5757  7596  7611  6064  ...  8396   \n",
       "31    2174  1394  1087   919   773   997  1561  2169  2410  2525  ...  4104   \n",
       "\n",
       "hour     15     16     17     18     19     20     21    22    23  \n",
       "day                                                                \n",
       "1      7910   8633   9511   8604   8001   7315   7803  6268  4050  \n",
       "2      8449  10109  11100  11123   9474   8759   8357  6998  5160  \n",
       "3      8850  10314  10491  11239   9599   9026   8531  7142  4686  \n",
       "4      8515   9492  10357  10259   9097   8358   8649  7706  5130  \n",
       "5      8312   9609  10699  10170   9430   9354   9610  8853  6518  \n",
       "6      8612   9444   9929   9263   8405   8117   8567  7852  5946  \n",
       "7      8474  10393  11013  10573   9472   8691   8525  7194  4801  \n",
       "8      8775   9851  10673   9687   8796   8604   8367  6795  4256  \n",
       "9      9220  10270  11910  11449   9804   8909   8665  7499  5203  \n",
       "10     9578  11045  11875  10934   9613   9687   9240  7766  5496  \n",
       "11     8920  10125  10898  10361   9327   8824   8730  7771  5360  \n",
       "12     9390  10734  11713  12216  10393   9965  10310  9992  7945  \n",
       "13     9264  10534  11826  11450   9921   8705   8423  7363  5936  \n",
       "14     8192   9511  10115   9553   9146   9182   8589  6891  4460  \n",
       "15     8505  10285  11959  11728  11032  10509   9105  7153  4480  \n",
       "16     9290  10804  11773  10855  10924  10142  10374  8094  5380  \n",
       "17     8997  10323  11236  11089   9919   9935   9823  8362  5699  \n",
       "18     9040  10274  10692  10338   9551   9310   9285  8015  5492  \n",
       "19     8898   9893  10741  10429   9701  10051  10049  9090  6666  \n",
       "20     8630   9448  10046   9272   8592   8614   8703  7787  5907  \n",
       "21     8127   9483   9817   9291   8317   8107   8245  7362  5231  \n",
       "22     9148  10574  10962   9884   8980   8772   8430  6784  4530  \n",
       "23     9309   9980  10341  10823  11347  11447  10347  8637  5577  \n",
       "24     8706  10366  10786   9772   9080   9213   8831  7480  4456  \n",
       "25     8732   9922  10504  10673   9048   8751   9508  8522  6605  \n",
       "26     8815   9885  10697  10867  10122   9820  10441  9486  7593  \n",
       "27     8803   9793   9838   9228   8267   7908   8507  7720  6046  \n",
       "28     8584   9671   9975   9132   8255   8309   7949  6411  4461  \n",
       "29     9249  10105  11113  10411   9301   9270   9114  6992  4323  \n",
       "30    10243  11554  12126  12561  11024  10836  10042  8275  4723  \n",
       "31     5099   5386   5308   5350   4898   4819   5064  5164  3961  \n",
       "\n",
       "[31 rows x 24 columns]"
      ]
     },
     "execution_count": 163,
     "metadata": {},
     "output_type": "execute_result"
    }
   ],
   "source": [
    "pivot\n"
   ]
  },
  {
   "cell_type": "code",
   "execution_count": 164,
   "id": "bd936f47",
   "metadata": {},
   "outputs": [
    {
     "data": {
      "text/html": [
       "<style type=\"text/css\">\n",
       "#T_ee5c2_row0_col0, #T_ee5c2_row8_col23, #T_ee5c2_row23_col2 {\n",
       "  background-color: #bcc7e1;\n",
       "  color: #000000;\n",
       "}\n",
       "#T_ee5c2_row0_col1 {\n",
       "  background-color: #d2d2e7;\n",
       "  color: #000000;\n",
       "}\n",
       "#T_ee5c2_row0_col2 {\n",
       "  background-color: #e2dfee;\n",
       "  color: #000000;\n",
       "}\n",
       "#T_ee5c2_row0_col3 {\n",
       "  background-color: #b1c2de;\n",
       "  color: #000000;\n",
       "}\n",
       "#T_ee5c2_row0_col4, #T_ee5c2_row0_col8 {\n",
       "  background-color: #5a9ec9;\n",
       "  color: #f1f1f1;\n",
       "}\n",
       "#T_ee5c2_row0_col5, #T_ee5c2_row23_col3, #T_ee5c2_row25_col0, #T_ee5c2_row26_col7 {\n",
       "  background-color: #71a8ce;\n",
       "  color: #f1f1f1;\n",
       "}\n",
       "#T_ee5c2_row0_col6, #T_ee5c2_row8_col3, #T_ee5c2_row12_col23, #T_ee5c2_row20_col20 {\n",
       "  background-color: #76aad0;\n",
       "  color: #f1f1f1;\n",
       "}\n",
       "#T_ee5c2_row0_col7, #T_ee5c2_row0_col11, #T_ee5c2_row12_col20, #T_ee5c2_row20_col15 {\n",
       "  background-color: #4897c4;\n",
       "  color: #f1f1f1;\n",
       "}\n",
       "#T_ee5c2_row0_col9, #T_ee5c2_row17_col22, #T_ee5c2_row20_col21, #T_ee5c2_row24_col20 {\n",
       "  background-color: #4697c4;\n",
       "  color: #f1f1f1;\n",
       "}\n",
       "#T_ee5c2_row0_col10, #T_ee5c2_row1_col20, #T_ee5c2_row6_col3, #T_ee5c2_row6_col9, #T_ee5c2_row12_col5, #T_ee5c2_row21_col20 {\n",
       "  background-color: #4496c3;\n",
       "  color: #f1f1f1;\n",
       "}\n",
       "#T_ee5c2_row0_col12, #T_ee5c2_row6_col8 {\n",
       "  background-color: #529bc7;\n",
       "  color: #f1f1f1;\n",
       "}\n",
       "#T_ee5c2_row0_col13, #T_ee5c2_row2_col20, #T_ee5c2_row3_col8, #T_ee5c2_row3_col10, #T_ee5c2_row13_col6, #T_ee5c2_row13_col12, #T_ee5c2_row19_col9, #T_ee5c2_row21_col19, #T_ee5c2_row26_col9 {\n",
       "  background-color: #328dbf;\n",
       "  color: #f1f1f1;\n",
       "}\n",
       "#T_ee5c2_row0_col14, #T_ee5c2_row2_col4, #T_ee5c2_row5_col4, #T_ee5c2_row5_col16, #T_ee5c2_row13_col19, #T_ee5c2_row13_col20, #T_ee5c2_row19_col16 {\n",
       "  background-color: #2987bc;\n",
       "  color: #f1f1f1;\n",
       "}\n",
       "#T_ee5c2_row0_col15, #T_ee5c2_row5_col19, #T_ee5c2_row19_col18, #T_ee5c2_row19_col22, #T_ee5c2_row20_col18 {\n",
       "  background-color: #5ea0ca;\n",
       "  color: #f1f1f1;\n",
       "}\n",
       "#T_ee5c2_row0_col16, #T_ee5c2_row3_col22, #T_ee5c2_row27_col18, #T_ee5c2_row27_col20 {\n",
       "  background-color: #67a4cc;\n",
       "  color: #f1f1f1;\n",
       "}\n",
       "#T_ee5c2_row0_col17, #T_ee5c2_row7_col21, #T_ee5c2_row8_col20, #T_ee5c2_row20_col9, #T_ee5c2_row27_col2 {\n",
       "  background-color: #3b92c1;\n",
       "  color: #f1f1f1;\n",
       "}\n",
       "#T_ee5c2_row0_col18 {\n",
       "  background-color: #88b1d4;\n",
       "  color: #000000;\n",
       "}\n",
       "#T_ee5c2_row0_col19, #T_ee5c2_row2_col3, #T_ee5c2_row8_col22, #T_ee5c2_row21_col3 {\n",
       "  background-color: #7bacd1;\n",
       "  color: #f1f1f1;\n",
       "}\n",
       "#T_ee5c2_row0_col20, #T_ee5c2_row17_col0, #T_ee5c2_row28_col22 {\n",
       "  background-color: #a5bddb;\n",
       "  color: #000000;\n",
       "}\n",
       "#T_ee5c2_row0_col21, #T_ee5c2_row25_col8, #T_ee5c2_row26_col8 {\n",
       "  background-color: #6fa7ce;\n",
       "  color: #f1f1f1;\n",
       "}\n",
       "#T_ee5c2_row0_col22, #T_ee5c2_row17_col2 {\n",
       "  background-color: #d5d5e8;\n",
       "  color: #000000;\n",
       "}\n",
       "#T_ee5c2_row0_col23 {\n",
       "  background-color: #fcf4fa;\n",
       "  color: #000000;\n",
       "}\n",
       "#T_ee5c2_row1_col0, #T_ee5c2_row22_col2 {\n",
       "  background-color: #f3edf5;\n",
       "  color: #000000;\n",
       "}\n",
       "#T_ee5c2_row1_col1 {\n",
       "  background-color: #f4edf6;\n",
       "  color: #000000;\n",
       "}\n",
       "#T_ee5c2_row1_col2, #T_ee5c2_row10_col2, #T_ee5c2_row14_col2, #T_ee5c2_row24_col1, #T_ee5c2_row30_col2 {\n",
       "  background-color: #f8f1f8;\n",
       "  color: #000000;\n",
       "}\n",
       "#T_ee5c2_row1_col3, #T_ee5c2_row13_col2, #T_ee5c2_row16_col23, #T_ee5c2_row18_col2 {\n",
       "  background-color: #8eb3d5;\n",
       "  color: #000000;\n",
       "}\n",
       "#T_ee5c2_row1_col4, #T_ee5c2_row12_col2 {\n",
       "  background-color: #034a74;\n",
       "  color: #f1f1f1;\n",
       "}\n",
       "#T_ee5c2_row1_col5, #T_ee5c2_row14_col10, #T_ee5c2_row15_col11, #T_ee5c2_row15_col14, #T_ee5c2_row15_col15, #T_ee5c2_row16_col13, #T_ee5c2_row17_col7, #T_ee5c2_row18_col22 {\n",
       "  background-color: #04649e;\n",
       "  color: #f1f1f1;\n",
       "}\n",
       "#T_ee5c2_row1_col6, #T_ee5c2_row4_col17, #T_ee5c2_row8_col13, #T_ee5c2_row8_col16, #T_ee5c2_row10_col14, #T_ee5c2_row17_col16, #T_ee5c2_row17_col17, #T_ee5c2_row18_col20, #T_ee5c2_row21_col10, #T_ee5c2_row24_col12, #T_ee5c2_row25_col17 {\n",
       "  background-color: #0569a4;\n",
       "  color: #f1f1f1;\n",
       "}\n",
       "#T_ee5c2_row1_col7, #T_ee5c2_row8_col15, #T_ee5c2_row12_col3, #T_ee5c2_row15_col20, #T_ee5c2_row19_col1, #T_ee5c2_row19_col12, #T_ee5c2_row20_col1, #T_ee5c2_row23_col17, #T_ee5c2_row26_col4 {\n",
       "  background-color: #0567a1;\n",
       "  color: #f1f1f1;\n",
       "}\n",
       "#T_ee5c2_row1_col8, #T_ee5c2_row4_col7, #T_ee5c2_row11_col7, #T_ee5c2_row11_col9, #T_ee5c2_row18_col6, #T_ee5c2_row22_col9 {\n",
       "  background-color: #0570b0;\n",
       "  color: #f1f1f1;\n",
       "}\n",
       "#T_ee5c2_row1_col9, #T_ee5c2_row20_col6 {\n",
       "  background-color: #3991c1;\n",
       "  color: #f1f1f1;\n",
       "}\n",
       "#T_ee5c2_row1_col10, #T_ee5c2_row1_col14, #T_ee5c2_row5_col1, #T_ee5c2_row5_col10, #T_ee5c2_row6_col15, #T_ee5c2_row13_col21, #T_ee5c2_row20_col0, #T_ee5c2_row23_col12, #T_ee5c2_row28_col12 {\n",
       "  background-color: #2a88bc;\n",
       "  color: #f1f1f1;\n",
       "}\n",
       "#T_ee5c2_row1_col11, #T_ee5c2_row3_col11, #T_ee5c2_row13_col7, #T_ee5c2_row14_col15, #T_ee5c2_row16_col22, #T_ee5c2_row20_col17, #T_ee5c2_row23_col20, #T_ee5c2_row24_col23 {\n",
       "  background-color: #2786bb;\n",
       "  color: #f1f1f1;\n",
       "}\n",
       "#T_ee5c2_row1_col12, #T_ee5c2_row4_col23, #T_ee5c2_row6_col21, #T_ee5c2_row12_col7, #T_ee5c2_row24_col19, #T_ee5c2_row27_col6, #T_ee5c2_row29_col22 {\n",
       "  background-color: #2f8bbe;\n",
       "  color: #f1f1f1;\n",
       "}\n",
       "#T_ee5c2_row1_col13, #T_ee5c2_row4_col13, #T_ee5c2_row15_col22 {\n",
       "  background-color: #3f93c2;\n",
       "  color: #f1f1f1;\n",
       "}\n",
       "#T_ee5c2_row1_col15, #T_ee5c2_row2_col10, #T_ee5c2_row3_col19, #T_ee5c2_row5_col21, #T_ee5c2_row13_col3, #T_ee5c2_row13_col9, #T_ee5c2_row20_col7, #T_ee5c2_row23_col19, #T_ee5c2_row27_col7 {\n",
       "  background-color: #2c89bd;\n",
       "  color: #f1f1f1;\n",
       "}\n",
       "#T_ee5c2_row1_col16, #T_ee5c2_row4_col6, #T_ee5c2_row10_col16, #T_ee5c2_row11_col5, #T_ee5c2_row11_col11, #T_ee5c2_row17_col15, #T_ee5c2_row25_col2, #T_ee5c2_row26_col10 {\n",
       "  background-color: #056dab;\n",
       "  color: #f1f1f1;\n",
       "}\n",
       "#T_ee5c2_row1_col17, #T_ee5c2_row4_col9, #T_ee5c2_row11_col14, #T_ee5c2_row19_col13, #T_ee5c2_row28_col17 {\n",
       "  background-color: #045e94;\n",
       "  color: #f1f1f1;\n",
       "}\n",
       "#T_ee5c2_row1_col18, #T_ee5c2_row2_col16, #T_ee5c2_row10_col6, #T_ee5c2_row10_col11, #T_ee5c2_row11_col13, #T_ee5c2_row16_col16, #T_ee5c2_row17_col14 {\n",
       "  background-color: #0567a2;\n",
       "  color: #f1f1f1;\n",
       "}\n",
       "#T_ee5c2_row1_col19, #T_ee5c2_row2_col13, #T_ee5c2_row3_col7, #T_ee5c2_row6_col19, #T_ee5c2_row9_col7, #T_ee5c2_row11_col6, #T_ee5c2_row16_col6 {\n",
       "  background-color: #157ab5;\n",
       "  color: #f1f1f1;\n",
       "}\n",
       "#T_ee5c2_row1_col21, #T_ee5c2_row23_col18 {\n",
       "  background-color: #3d93c2;\n",
       "  color: #f1f1f1;\n",
       "}\n",
       "#T_ee5c2_row1_col22 {\n",
       "  background-color: #a4bcda;\n",
       "  color: #000000;\n",
       "}\n",
       "#T_ee5c2_row1_col23, #T_ee5c2_row16_col0 {\n",
       "  background-color: #bfc9e1;\n",
       "  color: #000000;\n",
       "}\n",
       "#T_ee5c2_row2_col0 {\n",
       "  background-color: #a9bfdc;\n",
       "  color: #000000;\n",
       "}\n",
       "#T_ee5c2_row2_col1, #T_ee5c2_row21_col22 {\n",
       "  background-color: #b4c4df;\n",
       "  color: #000000;\n",
       "}\n",
       "#T_ee5c2_row2_col2, #T_ee5c2_row28_col2 {\n",
       "  background-color: #c4cbe3;\n",
       "  color: #000000;\n",
       "}\n",
       "#T_ee5c2_row2_col5, #T_ee5c2_row4_col15, #T_ee5c2_row6_col7, #T_ee5c2_row12_col6, #T_ee5c2_row12_col21, #T_ee5c2_row13_col13, #T_ee5c2_row17_col3 {\n",
       "  background-color: #3790c0;\n",
       "  color: #f1f1f1;\n",
       "}\n",
       "#T_ee5c2_row2_col6, #T_ee5c2_row5_col2 {\n",
       "  background-color: #348ebf;\n",
       "  color: #f1f1f1;\n",
       "}\n",
       "#T_ee5c2_row2_col7, #T_ee5c2_row6_col5, #T_ee5c2_row26_col21 {\n",
       "  background-color: #308cbe;\n",
       "  color: #f1f1f1;\n",
       "}\n",
       "#T_ee5c2_row2_col8, #T_ee5c2_row7_col20, #T_ee5c2_row19_col19, #T_ee5c2_row19_col20 {\n",
       "  background-color: #509ac6;\n",
       "  color: #f1f1f1;\n",
       "}\n",
       "#T_ee5c2_row2_col9, #T_ee5c2_row4_col12, #T_ee5c2_row7_col19, #T_ee5c2_row10_col20, #T_ee5c2_row25_col5, #T_ee5c2_row27_col0 {\n",
       "  background-color: #4094c3;\n",
       "  color: #f1f1f1;\n",
       "}\n",
       "#T_ee5c2_row2_col11, #T_ee5c2_row9_col4, #T_ee5c2_row20_col14, #T_ee5c2_row23_col6 {\n",
       "  background-color: #1c7fb8;\n",
       "  color: #f1f1f1;\n",
       "}\n",
       "#T_ee5c2_row2_col12, #T_ee5c2_row4_col19, #T_ee5c2_row12_col8, #T_ee5c2_row18_col9, #T_ee5c2_row23_col15, #T_ee5c2_row23_col21, #T_ee5c2_row25_col12, #T_ee5c2_row28_col18 {\n",
       "  background-color: #187cb6;\n",
       "  color: #f1f1f1;\n",
       "}\n",
       "#T_ee5c2_row2_col14, #T_ee5c2_row2_col15, #T_ee5c2_row2_col19, #T_ee5c2_row3_col13, #T_ee5c2_row5_col14, #T_ee5c2_row7_col12, #T_ee5c2_row25_col10, #T_ee5c2_row25_col13, #T_ee5c2_row25_col16, #T_ee5c2_row27_col12 {\n",
       "  background-color: #0d75b3;\n",
       "  color: #f1f1f1;\n",
       "}\n",
       "#T_ee5c2_row2_col17, #T_ee5c2_row8_col19, #T_ee5c2_row16_col7, #T_ee5c2_row18_col12, #T_ee5c2_row22_col18 {\n",
       "  background-color: #056ead;\n",
       "  color: #f1f1f1;\n",
       "}\n",
       "#T_ee5c2_row2_col18, #T_ee5c2_row9_col13, #T_ee5c2_row9_col14, #T_ee5c2_row10_col17, #T_ee5c2_row17_col11, #T_ee5c2_row22_col15 {\n",
       "  background-color: #04649d;\n",
       "  color: #f1f1f1;\n",
       "}\n",
       "#T_ee5c2_row2_col21, #T_ee5c2_row3_col12, #T_ee5c2_row25_col9 {\n",
       "  background-color: #2d8abd;\n",
       "  color: #f1f1f1;\n",
       "}\n",
       "#T_ee5c2_row2_col22, #T_ee5c2_row14_col3 {\n",
       "  background-color: #99b8d8;\n",
       "  color: #000000;\n",
       "}\n",
       "#T_ee5c2_row2_col23 {\n",
       "  background-color: #e0dded;\n",
       "  color: #000000;\n",
       "}\n",
       "#T_ee5c2_row3_col0 {\n",
       "  background-color: #d6d6e9;\n",
       "  color: #000000;\n",
       "}\n",
       "#T_ee5c2_row3_col1, #T_ee5c2_row14_col23 {\n",
       "  background-color: #ebe6f2;\n",
       "  color: #000000;\n",
       "}\n",
       "#T_ee5c2_row3_col2, #T_ee5c2_row13_col23, #T_ee5c2_row27_col23 {\n",
       "  background-color: #ece7f2;\n",
       "  color: #000000;\n",
       "}\n",
       "#T_ee5c2_row3_col3, #T_ee5c2_row10_col3 {\n",
       "  background-color: #8bb2d4;\n",
       "  color: #000000;\n",
       "}\n",
       "#T_ee5c2_row3_col4, #T_ee5c2_row4_col8, #T_ee5c2_row12_col19, #T_ee5c2_row16_col19, #T_ee5c2_row18_col13, #T_ee5c2_row25_col3, #T_ee5c2_row28_col10 {\n",
       "  background-color: #056ba7;\n",
       "  color: #f1f1f1;\n",
       "}\n",
       "#T_ee5c2_row3_col5, #T_ee5c2_row3_col6, #T_ee5c2_row3_col14, #T_ee5c2_row4_col4, #T_ee5c2_row5_col12, #T_ee5c2_row7_col15, #T_ee5c2_row16_col10, #T_ee5c2_row19_col0, #T_ee5c2_row19_col4, #T_ee5c2_row20_col2, #T_ee5c2_row20_col3, #T_ee5c2_row26_col16 {\n",
       "  background-color: #1379b5;\n",
       "  color: #f1f1f1;\n",
       "}\n",
       "#T_ee5c2_row3_col9, #T_ee5c2_row21_col18, #T_ee5c2_row21_col21, #T_ee5c2_row27_col8 {\n",
       "  background-color: #358fc0;\n",
       "  color: #f1f1f1;\n",
       "}\n",
       "#T_ee5c2_row3_col15, #T_ee5c2_row3_col16, #T_ee5c2_row3_col21, #T_ee5c2_row4_col14, #T_ee5c2_row13_col14, #T_ee5c2_row16_col8, #T_ee5c2_row18_col3, #T_ee5c2_row20_col16, #T_ee5c2_row26_col17 {\n",
       "  background-color: #2685bb;\n",
       "  color: #f1f1f1;\n",
       "}\n",
       "#T_ee5c2_row3_col17, #T_ee5c2_row6_col13, #T_ee5c2_row6_col14, #T_ee5c2_row15_col12, #T_ee5c2_row18_col10, #T_ee5c2_row18_col15, #T_ee5c2_row23_col9 {\n",
       "  background-color: #0872b1;\n",
       "  color: #f1f1f1;\n",
       "}\n",
       "#T_ee5c2_row3_col18, #T_ee5c2_row5_col15, #T_ee5c2_row10_col21, #T_ee5c2_row16_col9, #T_ee5c2_row28_col19 {\n",
       "  background-color: #2081b9;\n",
       "  color: #f1f1f1;\n",
       "}\n",
       "#T_ee5c2_row3_col20 {\n",
       "  background-color: #63a2cb;\n",
       "  color: #f1f1f1;\n",
       "}\n",
       "#T_ee5c2_row3_col23, #T_ee5c2_row4_col3, #T_ee5c2_row23_col1 {\n",
       "  background-color: #c1cae2;\n",
       "  color: #000000;\n",
       "}\n",
       "#T_ee5c2_row4_col0 {\n",
       "  background-color: #e1dfed;\n",
       "  color: #000000;\n",
       "}\n",
       "#T_ee5c2_row4_col1 {\n",
       "  background-color: #f5eff6;\n",
       "  color: #000000;\n",
       "}\n",
       "#T_ee5c2_row4_col2, #T_ee5c2_row30_col0, #T_ee5c2_row30_col1, #T_ee5c2_row30_col3, #T_ee5c2_row30_col4, #T_ee5c2_row30_col5, #T_ee5c2_row30_col6, #T_ee5c2_row30_col7, #T_ee5c2_row30_col8, #T_ee5c2_row30_col9, #T_ee5c2_row30_col10, #T_ee5c2_row30_col11, #T_ee5c2_row30_col12, #T_ee5c2_row30_col13, #T_ee5c2_row30_col14, #T_ee5c2_row30_col15, #T_ee5c2_row30_col16, #T_ee5c2_row30_col17, #T_ee5c2_row30_col18, #T_ee5c2_row30_col19, #T_ee5c2_row30_col20, #T_ee5c2_row30_col21, #T_ee5c2_row30_col22, #T_ee5c2_row30_col23 {\n",
       "  background-color: #fff7fb;\n",
       "  color: #000000;\n",
       "}\n",
       "#T_ee5c2_row4_col5, #T_ee5c2_row11_col19, #T_ee5c2_row12_col12, #T_ee5c2_row14_col7, #T_ee5c2_row21_col8 {\n",
       "  background-color: #045e93;\n",
       "  color: #f1f1f1;\n",
       "}\n",
       "#T_ee5c2_row4_col10, #T_ee5c2_row5_col13, #T_ee5c2_row14_col21, #T_ee5c2_row19_col10, #T_ee5c2_row21_col14, #T_ee5c2_row28_col21 {\n",
       "  background-color: #056faf;\n",
       "  color: #f1f1f1;\n",
       "}\n",
       "#T_ee5c2_row4_col11, #T_ee5c2_row23_col8 {\n",
       "  background-color: #2383ba;\n",
       "  color: #f1f1f1;\n",
       "}\n",
       "#T_ee5c2_row4_col16, #T_ee5c2_row4_col20, #T_ee5c2_row6_col10, #T_ee5c2_row10_col5, #T_ee5c2_row10_col19, #T_ee5c2_row13_col10, #T_ee5c2_row19_col15, #T_ee5c2_row20_col10, #T_ee5c2_row27_col17 {\n",
       "  background-color: #1e80b8;\n",
       "  color: #f1f1f1;\n",
       "}\n",
       "#T_ee5c2_row4_col18, #T_ee5c2_row8_col21, #T_ee5c2_row13_col16, #T_ee5c2_row28_col3, #T_ee5c2_row28_col20 {\n",
       "  background-color: #2484ba;\n",
       "  color: #f1f1f1;\n",
       "}\n",
       "#T_ee5c2_row4_col21, #T_ee5c2_row8_col18, #T_ee5c2_row12_col18 {\n",
       "  background-color: #045f95;\n",
       "  color: #f1f1f1;\n",
       "}\n",
       "#T_ee5c2_row4_col22, #T_ee5c2_row7_col13, #T_ee5c2_row15_col18, #T_ee5c2_row16_col11, #T_ee5c2_row18_col14, #T_ee5c2_row22_col11, #T_ee5c2_row23_col11, #T_ee5c2_row24_col17, #T_ee5c2_row25_col18, #T_ee5c2_row28_col13, #T_ee5c2_row28_col16 {\n",
       "  background-color: #056dac;\n",
       "  color: #f1f1f1;\n",
       "}\n",
       "#T_ee5c2_row5_col0, #T_ee5c2_row7_col14, #T_ee5c2_row8_col12, #T_ee5c2_row9_col6, #T_ee5c2_row9_col19, #T_ee5c2_row13_col5, #T_ee5c2_row17_col12, #T_ee5c2_row18_col7, #T_ee5c2_row18_col16, #T_ee5c2_row22_col10 {\n",
       "  background-color: #0c74b2;\n",
       "  color: #f1f1f1;\n",
       "}\n",
       "#T_ee5c2_row5_col3, #T_ee5c2_row27_col1 {\n",
       "  background-color: #569dc8;\n",
       "  color: #f1f1f1;\n",
       "}\n",
       "#T_ee5c2_row5_col5, #T_ee5c2_row25_col6, #T_ee5c2_row26_col19, #T_ee5c2_row26_col23, #T_ee5c2_row27_col19 {\n",
       "  background-color: #69a5cc;\n",
       "  color: #f1f1f1;\n",
       "}\n",
       "#T_ee5c2_row5_col6, #T_ee5c2_row19_col23 {\n",
       "  background-color: #78abd0;\n",
       "  color: #f1f1f1;\n",
       "}\n",
       "#T_ee5c2_row5_col7 {\n",
       "  background-color: #7eadd1;\n",
       "  color: #f1f1f1;\n",
       "}\n",
       "#T_ee5c2_row5_col8, #T_ee5c2_row13_col0 {\n",
       "  background-color: #79abd0;\n",
       "  color: #f1f1f1;\n",
       "}\n",
       "#T_ee5c2_row5_col9, #T_ee5c2_row20_col19, #T_ee5c2_row26_col22 {\n",
       "  background-color: #65a3cb;\n",
       "  color: #f1f1f1;\n",
       "}\n",
       "#T_ee5c2_row5_col11, #T_ee5c2_row6_col18, #T_ee5c2_row7_col16, #T_ee5c2_row20_col5, #T_ee5c2_row20_col12, #T_ee5c2_row25_col11 {\n",
       "  background-color: #0f76b3;\n",
       "  color: #f1f1f1;\n",
       "}\n",
       "#T_ee5c2_row5_col17, #T_ee5c2_row17_col20, #T_ee5c2_row18_col23, #T_ee5c2_row19_col21, #T_ee5c2_row23_col13, #T_ee5c2_row27_col15 {\n",
       "  background-color: #2182b9;\n",
       "  color: #f1f1f1;\n",
       "}\n",
       "#T_ee5c2_row5_col18, #T_ee5c2_row10_col22 {\n",
       "  background-color: #60a1ca;\n",
       "  color: #f1f1f1;\n",
       "}\n",
       "#T_ee5c2_row5_col20, #T_ee5c2_row5_col23, #T_ee5c2_row7_col3 {\n",
       "  background-color: #75a9cf;\n",
       "  color: #f1f1f1;\n",
       "}\n",
       "#T_ee5c2_row5_col22 {\n",
       "  background-color: #589ec8;\n",
       "  color: #f1f1f1;\n",
       "}\n",
       "#T_ee5c2_row6_col0, #T_ee5c2_row9_col3, #T_ee5c2_row12_col22, #T_ee5c2_row20_col22 {\n",
       "  background-color: #86b0d3;\n",
       "  color: #000000;\n",
       "}\n",
       "#T_ee5c2_row6_col1, #T_ee5c2_row22_col23 {\n",
       "  background-color: #9ab8d8;\n",
       "  color: #000000;\n",
       "}\n",
       "#T_ee5c2_row6_col2 {\n",
       "  background-color: #abbfdc;\n",
       "  color: #000000;\n",
       "}\n",
       "#T_ee5c2_row6_col4, #T_ee5c2_row6_col17, #T_ee5c2_row24_col10 {\n",
       "  background-color: #046097;\n",
       "  color: #f1f1f1;\n",
       "}\n",
       "#T_ee5c2_row6_col6, #T_ee5c2_row7_col18, #T_ee5c2_row13_col8, #T_ee5c2_row13_col15, #T_ee5c2_row20_col8, #T_ee5c2_row26_col5 {\n",
       "  background-color: #4295c3;\n",
       "  color: #f1f1f1;\n",
       "}\n",
       "#T_ee5c2_row6_col11, #T_ee5c2_row9_col8, #T_ee5c2_row9_col9, #T_ee5c2_row17_col19, #T_ee5c2_row22_col22, #T_ee5c2_row25_col15, #T_ee5c2_row26_col15, #T_ee5c2_row28_col11 {\n",
       "  background-color: #1077b4;\n",
       "  color: #f1f1f1;\n",
       "}\n",
       "#T_ee5c2_row6_col12, #T_ee5c2_row10_col18, #T_ee5c2_row17_col18, #T_ee5c2_row18_col8, #T_ee5c2_row19_col17, #T_ee5c2_row23_col14, #T_ee5c2_row27_col16 {\n",
       "  background-color: #1b7eb7;\n",
       "  color: #f1f1f1;\n",
       "}\n",
       "#T_ee5c2_row6_col16, #T_ee5c2_row10_col9, #T_ee5c2_row12_col15, #T_ee5c2_row19_col2, #T_ee5c2_row22_col14, #T_ee5c2_row25_col19 {\n",
       "  background-color: #05659f;\n",
       "  color: #f1f1f1;\n",
       "}\n",
       "#T_ee5c2_row6_col20, #T_ee5c2_row13_col18 {\n",
       "  background-color: #4a98c5;\n",
       "  color: #f1f1f1;\n",
       "}\n",
       "#T_ee5c2_row6_col22, #T_ee5c2_row15_col3 {\n",
       "  background-color: #94b6d7;\n",
       "  color: #000000;\n",
       "}\n",
       "#T_ee5c2_row6_col23 {\n",
       "  background-color: #d9d8ea;\n",
       "  color: #000000;\n",
       "}\n",
       "#T_ee5c2_row7_col0 {\n",
       "  background-color: #dbdaeb;\n",
       "  color: #000000;\n",
       "}\n",
       "#T_ee5c2_row7_col1, #T_ee5c2_row21_col2 {\n",
       "  background-color: #eee9f3;\n",
       "  color: #000000;\n",
       "}\n",
       "#T_ee5c2_row7_col2, #T_ee5c2_row7_col23, #T_ee5c2_row24_col0 {\n",
       "  background-color: #f4eef6;\n",
       "  color: #000000;\n",
       "}\n",
       "#T_ee5c2_row7_col4, #T_ee5c2_row12_col1, #T_ee5c2_row15_col6, #T_ee5c2_row17_col4 {\n",
       "  background-color: #03476f;\n",
       "  color: #f1f1f1;\n",
       "}\n",
       "#T_ee5c2_row7_col5, #T_ee5c2_row8_col6, #T_ee5c2_row11_col22, #T_ee5c2_row11_col23, #T_ee5c2_row12_col0, #T_ee5c2_row22_col4, #T_ee5c2_row22_col19, #T_ee5c2_row22_col20, #T_ee5c2_row24_col7, #T_ee5c2_row25_col21, #T_ee5c2_row26_col1, #T_ee5c2_row26_col2, #T_ee5c2_row26_col3, #T_ee5c2_row29_col5, #T_ee5c2_row29_col8, #T_ee5c2_row29_col9, #T_ee5c2_row29_col10, #T_ee5c2_row29_col11, #T_ee5c2_row29_col12, #T_ee5c2_row29_col13, #T_ee5c2_row29_col14, #T_ee5c2_row29_col15, #T_ee5c2_row29_col16, #T_ee5c2_row29_col17, #T_ee5c2_row29_col18 {\n",
       "  background-color: #023858;\n",
       "  color: #f1f1f1;\n",
       "}\n",
       "#T_ee5c2_row7_col6, #T_ee5c2_row25_col23 {\n",
       "  background-color: #034f7d;\n",
       "  color: #f1f1f1;\n",
       "}\n",
       "#T_ee5c2_row7_col7, #T_ee5c2_row7_col8, #T_ee5c2_row8_col9, #T_ee5c2_row11_col18, #T_ee5c2_row14_col19, #T_ee5c2_row16_col4, #T_ee5c2_row29_col19 {\n",
       "  background-color: #03456c;\n",
       "  color: #f1f1f1;\n",
       "}\n",
       "#T_ee5c2_row7_col9, #T_ee5c2_row15_col10, #T_ee5c2_row24_col6, #T_ee5c2_row24_col8, #T_ee5c2_row25_col22 {\n",
       "  background-color: #045483;\n",
       "  color: #f1f1f1;\n",
       "}\n",
       "#T_ee5c2_row7_col10, #T_ee5c2_row9_col11, #T_ee5c2_row14_col16, #T_ee5c2_row16_col18, #T_ee5c2_row18_col17, #T_ee5c2_row26_col14 {\n",
       "  background-color: #0568a3;\n",
       "  color: #f1f1f1;\n",
       "}\n",
       "#T_ee5c2_row7_col11, #T_ee5c2_row9_col18, #T_ee5c2_row9_col21, #T_ee5c2_row10_col10, #T_ee5c2_row11_col20, #T_ee5c2_row17_col8, #T_ee5c2_row21_col11, #T_ee5c2_row22_col8, #T_ee5c2_row27_col3 {\n",
       "  background-color: #056ba9;\n",
       "  color: #f1f1f1;\n",
       "}\n",
       "#T_ee5c2_row7_col17, #T_ee5c2_row12_col4, #T_ee5c2_row21_col15, #T_ee5c2_row23_col5 {\n",
       "  background-color: #0569a5;\n",
       "  color: #f1f1f1;\n",
       "}\n",
       "#T_ee5c2_row7_col22, #T_ee5c2_row11_col1 {\n",
       "  background-color: #b3c3de;\n",
       "  color: #000000;\n",
       "}\n",
       "#T_ee5c2_row8_col0, #T_ee5c2_row8_col1, #T_ee5c2_row8_col2 {\n",
       "  background-color: #e7e3f0;\n",
       "  color: #000000;\n",
       "}\n",
       "#T_ee5c2_row8_col4, #T_ee5c2_row18_col21, #T_ee5c2_row29_col21 {\n",
       "  background-color: #034b76;\n",
       "  color: #f1f1f1;\n",
       "}\n",
       "#T_ee5c2_row8_col5, #T_ee5c2_row11_col21, #T_ee5c2_row14_col17, #T_ee5c2_row20_col4 {\n",
       "  background-color: #023e62;\n",
       "  color: #f1f1f1;\n",
       "}\n",
       "#T_ee5c2_row8_col7, #T_ee5c2_row28_col4, #T_ee5c2_row29_col7 {\n",
       "  background-color: #02395a;\n",
       "  color: #f1f1f1;\n",
       "}\n",
       "#T_ee5c2_row8_col8, #T_ee5c2_row21_col4, #T_ee5c2_row22_col21 {\n",
       "  background-color: #023c5f;\n",
       "  color: #f1f1f1;\n",
       "}\n",
       "#T_ee5c2_row8_col10, #T_ee5c2_row11_col4, #T_ee5c2_row13_col4, #T_ee5c2_row14_col8, #T_ee5c2_row21_col17, #T_ee5c2_row26_col12 {\n",
       "  background-color: #046299;\n",
       "  color: #f1f1f1;\n",
       "}\n",
       "#T_ee5c2_row8_col11, #T_ee5c2_row10_col13, #T_ee5c2_row17_col9, #T_ee5c2_row23_col16, #T_ee5c2_row25_col4, #T_ee5c2_row27_col5, #T_ee5c2_row28_col15 {\n",
       "  background-color: #0566a0;\n",
       "  color: #f1f1f1;\n",
       "}\n",
       "#T_ee5c2_row8_col14, #T_ee5c2_row15_col4, #T_ee5c2_row17_col5 {\n",
       "  background-color: #04588a;\n",
       "  color: #f1f1f1;\n",
       "}\n",
       "#T_ee5c2_row8_col17, #T_ee5c2_row21_col5 {\n",
       "  background-color: #034165;\n",
       "  color: #f1f1f1;\n",
       "}\n",
       "#T_ee5c2_row9_col0 {\n",
       "  background-color: #b0c2de;\n",
       "  color: #000000;\n",
       "}\n",
       "#T_ee5c2_row9_col1, #T_ee5c2_row11_col0 {\n",
       "  background-color: #b7c5df;\n",
       "  color: #000000;\n",
       "}\n",
       "#T_ee5c2_row9_col2, #T_ee5c2_row17_col1 {\n",
       "  background-color: #b5c4df;\n",
       "  color: #000000;\n",
       "}\n",
       "#T_ee5c2_row9_col5, #T_ee5c2_row27_col13 {\n",
       "  background-color: #1278b4;\n",
       "  color: #f1f1f1;\n",
       "}\n",
       "#T_ee5c2_row9_col10, #T_ee5c2_row13_col11, #T_ee5c2_row13_col17, #T_ee5c2_row18_col18, #T_ee5c2_row20_col13, #T_ee5c2_row23_col7, #T_ee5c2_row24_col15 {\n",
       "  background-color: #167bb6;\n",
       "  color: #f1f1f1;\n",
       "}\n",
       "#T_ee5c2_row9_col12, #T_ee5c2_row9_col20, #T_ee5c2_row10_col12, #T_ee5c2_row11_col8, #T_ee5c2_row14_col12, #T_ee5c2_row15_col13, #T_ee5c2_row17_col6, #T_ee5c2_row18_col5, #T_ee5c2_row20_col11, #T_ee5c2_row21_col12, #T_ee5c2_row22_col12, #T_ee5c2_row22_col17, #T_ee5c2_row24_col13, #T_ee5c2_row24_col16, #T_ee5c2_row24_col18, #T_ee5c2_row25_col14 {\n",
       "  background-color: #0a73b2;\n",
       "  color: #f1f1f1;\n",
       "}\n",
       "#T_ee5c2_row9_col15, #T_ee5c2_row16_col17, #T_ee5c2_row19_col11 {\n",
       "  background-color: #045b8e;\n",
       "  color: #f1f1f1;\n",
       "}\n",
       "#T_ee5c2_row9_col16 {\n",
       "  background-color: #034e7b;\n",
       "  color: #f1f1f1;\n",
       "}\n",
       "#T_ee5c2_row9_col17 {\n",
       "  background-color: #034267;\n",
       "  color: #f1f1f1;\n",
       "}\n",
       "#T_ee5c2_row9_col22, #T_ee5c2_row26_col18, #T_ee5c2_row27_col21 {\n",
       "  background-color: #62a2cb;\n",
       "  color: #f1f1f1;\n",
       "}\n",
       "#T_ee5c2_row9_col23, #T_ee5c2_row17_col23 {\n",
       "  background-color: #a2bcda;\n",
       "  color: #000000;\n",
       "}\n",
       "#T_ee5c2_row10_col0 {\n",
       "  background-color: #cacee5;\n",
       "  color: #000000;\n",
       "}\n",
       "#T_ee5c2_row10_col1 {\n",
       "  background-color: #ede8f3;\n",
       "  color: #000000;\n",
       "}\n",
       "#T_ee5c2_row10_col4 {\n",
       "  background-color: #045280;\n",
       "  color: #f1f1f1;\n",
       "}\n",
       "#T_ee5c2_row10_col7, #T_ee5c2_row21_col7, #T_ee5c2_row28_col6 {\n",
       "  background-color: #045c90;\n",
       "  color: #f1f1f1;\n",
       "}\n",
       "#T_ee5c2_row10_col8, #T_ee5c2_row12_col13, #T_ee5c2_row14_col20, #T_ee5c2_row21_col6, #T_ee5c2_row22_col6, #T_ee5c2_row28_col7 {\n",
       "  background-color: #045d92;\n",
       "  color: #f1f1f1;\n",
       "}\n",
       "#T_ee5c2_row10_col15, #T_ee5c2_row18_col11, #T_ee5c2_row18_col19, #T_ee5c2_row22_col13, #T_ee5c2_row22_col16, #T_ee5c2_row24_col14, #T_ee5c2_row25_col1 {\n",
       "  background-color: #0771b1;\n",
       "  color: #f1f1f1;\n",
       "}\n",
       "#T_ee5c2_row10_col23 {\n",
       "  background-color: #afc1dd;\n",
       "  color: #000000;\n",
       "}\n",
       "#T_ee5c2_row11_col2 {\n",
       "  background-color: #c8cde4;\n",
       "  color: #000000;\n",
       "}\n",
       "#T_ee5c2_row11_col3 {\n",
       "  background-color: #a1bbda;\n",
       "  color: #000000;\n",
       "}\n",
       "#T_ee5c2_row11_col10, #T_ee5c2_row11_col12, #T_ee5c2_row14_col9, #T_ee5c2_row16_col15, #T_ee5c2_row17_col10, #T_ee5c2_row21_col9, #T_ee5c2_row25_col20, #T_ee5c2_row27_col9, #T_ee5c2_row27_col14 {\n",
       "  background-color: #056fae;\n",
       "  color: #f1f1f1;\n",
       "}\n",
       "#T_ee5c2_row11_col15, #T_ee5c2_row12_col16, #T_ee5c2_row28_col9 {\n",
       "  background-color: #046198;\n",
       "  color: #f1f1f1;\n",
       "}\n",
       "#T_ee5c2_row11_col16, #T_ee5c2_row22_col7, #T_ee5c2_row23_col4 {\n",
       "  background-color: #045b8f;\n",
       "  color: #f1f1f1;\n",
       "}\n",
       "#T_ee5c2_row11_col17, #T_ee5c2_row27_col4 {\n",
       "  background-color: #034871;\n",
       "  color: #f1f1f1;\n",
       "}\n",
       "#T_ee5c2_row12_col9, #T_ee5c2_row15_col16, #T_ee5c2_row18_col4 {\n",
       "  background-color: #04598c;\n",
       "  color: #f1f1f1;\n",
       "}\n",
       "#T_ee5c2_row12_col10, #T_ee5c2_row21_col16 {\n",
       "  background-color: #046096;\n",
       "  color: #f1f1f1;\n",
       "}\n",
       "#T_ee5c2_row12_col11, #T_ee5c2_row14_col5, #T_ee5c2_row24_col5 {\n",
       "  background-color: #045687;\n",
       "  color: #f1f1f1;\n",
       "}\n",
       "#T_ee5c2_row12_col14, #T_ee5c2_row12_col17 {\n",
       "  background-color: #03446a;\n",
       "  color: #f1f1f1;\n",
       "}\n",
       "#T_ee5c2_row13_col1, #T_ee5c2_row29_col3 {\n",
       "  background-color: #91b5d6;\n",
       "  color: #000000;\n",
       "}\n",
       "#T_ee5c2_row13_col22, #T_ee5c2_row15_col23, #T_ee5c2_row16_col2 {\n",
       "  background-color: #acc0dd;\n",
       "  color: #000000;\n",
       "}\n",
       "#T_ee5c2_row14_col0 {\n",
       "  background-color: #f0eaf4;\n",
       "  color: #000000;\n",
       "}\n",
       "#T_ee5c2_row14_col1, #T_ee5c2_row29_col1 {\n",
       "  background-color: #f7f0f7;\n",
       "  color: #000000;\n",
       "}\n",
       "#T_ee5c2_row14_col4 {\n",
       "  background-color: #034d79;\n",
       "  color: #f1f1f1;\n",
       "}\n",
       "#T_ee5c2_row14_col6, #T_ee5c2_row14_col14, #T_ee5c2_row24_col11, #T_ee5c2_row27_col11, #T_ee5c2_row28_col8, #T_ee5c2_row28_col14 {\n",
       "  background-color: #04639b;\n",
       "  color: #f1f1f1;\n",
       "}\n",
       "#T_ee5c2_row14_col11, #T_ee5c2_row19_col3, #T_ee5c2_row24_col21 {\n",
       "  background-color: #04629a;\n",
       "  color: #f1f1f1;\n",
       "}\n",
       "#T_ee5c2_row14_col13, #T_ee5c2_row15_col19, #T_ee5c2_row26_col0 {\n",
       "  background-color: #034973;\n",
       "  color: #f1f1f1;\n",
       "}\n",
       "#T_ee5c2_row14_col18, #T_ee5c2_row15_col5, #T_ee5c2_row16_col21 {\n",
       "  background-color: #045788;\n",
       "  color: #f1f1f1;\n",
       "}\n",
       "#T_ee5c2_row14_col22 {\n",
       "  background-color: #97b7d7;\n",
       "  color: #000000;\n",
       "}\n",
       "#T_ee5c2_row15_col0, #T_ee5c2_row22_col0 {\n",
       "  background-color: #eee8f3;\n",
       "  color: #000000;\n",
       "}\n",
       "#T_ee5c2_row15_col1, #T_ee5c2_row22_col1 {\n",
       "  background-color: #f2ecf5;\n",
       "  color: #000000;\n",
       "}\n",
       "#T_ee5c2_row15_col2, #T_ee5c2_row29_col0 {\n",
       "  background-color: #f5eef6;\n",
       "  color: #000000;\n",
       "}\n",
       "#T_ee5c2_row15_col7, #T_ee5c2_row15_col8, #T_ee5c2_row24_col9 {\n",
       "  background-color: #023d60;\n",
       "  color: #f1f1f1;\n",
       "}\n",
       "#T_ee5c2_row15_col9 {\n",
       "  background-color: #023f64;\n",
       "  color: #f1f1f1;\n",
       "}\n",
       "#T_ee5c2_row15_col17 {\n",
       "  background-color: #03466e;\n",
       "  color: #f1f1f1;\n",
       "}\n",
       "#T_ee5c2_row15_col21, #T_ee5c2_row24_col4 {\n",
       "  background-color: #023b5d;\n",
       "  color: #f1f1f1;\n",
       "}\n",
       "#T_ee5c2_row16_col1 {\n",
       "  background-color: #c2cbe2;\n",
       "  color: #000000;\n",
       "}\n",
       "#T_ee5c2_row16_col3, #T_ee5c2_row19_col7 {\n",
       "  background-color: #73a9cf;\n",
       "  color: #f1f1f1;\n",
       "}\n",
       "#T_ee5c2_row16_col5, #T_ee5c2_row16_col14, #T_ee5c2_row17_col13, #T_ee5c2_row17_col21, #T_ee5c2_row19_col14, #T_ee5c2_row27_col10 {\n",
       "  background-color: #056aa6;\n",
       "  color: #f1f1f1;\n",
       "}\n",
       "#T_ee5c2_row16_col12, #T_ee5c2_row16_col20, #T_ee5c2_row21_col13 {\n",
       "  background-color: #056caa;\n",
       "  color: #f1f1f1;\n",
       "}\n",
       "#T_ee5c2_row18_col0 {\n",
       "  background-color: #b8c6e0;\n",
       "  color: #000000;\n",
       "}\n",
       "#T_ee5c2_row18_col1 {\n",
       "  background-color: #adc1dd;\n",
       "  color: #000000;\n",
       "}\n",
       "#T_ee5c2_row19_col5, #T_ee5c2_row19_col8 {\n",
       "  background-color: #6da6cd;\n",
       "  color: #f1f1f1;\n",
       "}\n",
       "#T_ee5c2_row19_col6, #T_ee5c2_row23_col22 {\n",
       "  background-color: #7dacd1;\n",
       "  color: #f1f1f1;\n",
       "}\n",
       "#T_ee5c2_row20_col23, #T_ee5c2_row23_col0 {\n",
       "  background-color: #b9c6e0;\n",
       "  color: #000000;\n",
       "}\n",
       "#T_ee5c2_row21_col0, #T_ee5c2_row29_col23 {\n",
       "  background-color: #dedcec;\n",
       "  color: #000000;\n",
       "}\n",
       "#T_ee5c2_row21_col1 {\n",
       "  background-color: #efe9f3;\n",
       "  color: #000000;\n",
       "}\n",
       "#T_ee5c2_row21_col23 {\n",
       "  background-color: #e8e4f0;\n",
       "  color: #000000;\n",
       "}\n",
       "#T_ee5c2_row22_col3 {\n",
       "  background-color: #89b1d4;\n",
       "  color: #000000;\n",
       "}\n",
       "#T_ee5c2_row22_col5 {\n",
       "  background-color: #034369;\n",
       "  color: #f1f1f1;\n",
       "}\n",
       "#T_ee5c2_row23_col10, #T_ee5c2_row24_col22 {\n",
       "  background-color: #197db7;\n",
       "  color: #f1f1f1;\n",
       "}\n",
       "#T_ee5c2_row23_col23 {\n",
       "  background-color: #ede7f2;\n",
       "  color: #000000;\n",
       "}\n",
       "#T_ee5c2_row24_col2 {\n",
       "  background-color: #faf3f9;\n",
       "  color: #000000;\n",
       "}\n",
       "#T_ee5c2_row24_col3 {\n",
       "  background-color: #84b0d3;\n",
       "  color: #f1f1f1;\n",
       "}\n",
       "#T_ee5c2_row25_col7 {\n",
       "  background-color: #5c9fc9;\n",
       "  color: #f1f1f1;\n",
       "}\n",
       "#T_ee5c2_row26_col6, #T_ee5c2_row26_col20 {\n",
       "  background-color: #81aed2;\n",
       "  color: #f1f1f1;\n",
       "}\n",
       "#T_ee5c2_row26_col11, #T_ee5c2_row26_col13 {\n",
       "  background-color: #045585;\n",
       "  color: #f1f1f1;\n",
       "}\n",
       "#T_ee5c2_row27_col22 {\n",
       "  background-color: #cdd0e5;\n",
       "  color: #000000;\n",
       "}\n",
       "#T_ee5c2_row28_col0 {\n",
       "  background-color: #e6e2ef;\n",
       "  color: #000000;\n",
       "}\n",
       "#T_ee5c2_row28_col1 {\n",
       "  background-color: #dddbec;\n",
       "  color: #000000;\n",
       "}\n",
       "#T_ee5c2_row28_col5 {\n",
       "  background-color: #034c78;\n",
       "  color: #f1f1f1;\n",
       "}\n",
       "#T_ee5c2_row28_col23 {\n",
       "  background-color: #f1ebf5;\n",
       "  color: #000000;\n",
       "}\n",
       "#T_ee5c2_row29_col2 {\n",
       "  background-color: #f6eff7;\n",
       "  color: #000000;\n",
       "}\n",
       "#T_ee5c2_row29_col4 {\n",
       "  background-color: #045382;\n",
       "  color: #f1f1f1;\n",
       "}\n",
       "#T_ee5c2_row29_col6 {\n",
       "  background-color: #023a5b;\n",
       "  color: #f1f1f1;\n",
       "}\n",
       "#T_ee5c2_row29_col20 {\n",
       "  background-color: #03517e;\n",
       "  color: #f1f1f1;\n",
       "}\n",
       "</style>\n",
       "<table id=\"T_ee5c2\">\n",
       "  <thead>\n",
       "    <tr>\n",
       "      <th class=\"index_name level0\" >hour</th>\n",
       "      <th id=\"T_ee5c2_level0_col0\" class=\"col_heading level0 col0\" >0</th>\n",
       "      <th id=\"T_ee5c2_level0_col1\" class=\"col_heading level0 col1\" >1</th>\n",
       "      <th id=\"T_ee5c2_level0_col2\" class=\"col_heading level0 col2\" >2</th>\n",
       "      <th id=\"T_ee5c2_level0_col3\" class=\"col_heading level0 col3\" >3</th>\n",
       "      <th id=\"T_ee5c2_level0_col4\" class=\"col_heading level0 col4\" >4</th>\n",
       "      <th id=\"T_ee5c2_level0_col5\" class=\"col_heading level0 col5\" >5</th>\n",
       "      <th id=\"T_ee5c2_level0_col6\" class=\"col_heading level0 col6\" >6</th>\n",
       "      <th id=\"T_ee5c2_level0_col7\" class=\"col_heading level0 col7\" >7</th>\n",
       "      <th id=\"T_ee5c2_level0_col8\" class=\"col_heading level0 col8\" >8</th>\n",
       "      <th id=\"T_ee5c2_level0_col9\" class=\"col_heading level0 col9\" >9</th>\n",
       "      <th id=\"T_ee5c2_level0_col10\" class=\"col_heading level0 col10\" >10</th>\n",
       "      <th id=\"T_ee5c2_level0_col11\" class=\"col_heading level0 col11\" >11</th>\n",
       "      <th id=\"T_ee5c2_level0_col12\" class=\"col_heading level0 col12\" >12</th>\n",
       "      <th id=\"T_ee5c2_level0_col13\" class=\"col_heading level0 col13\" >13</th>\n",
       "      <th id=\"T_ee5c2_level0_col14\" class=\"col_heading level0 col14\" >14</th>\n",
       "      <th id=\"T_ee5c2_level0_col15\" class=\"col_heading level0 col15\" >15</th>\n",
       "      <th id=\"T_ee5c2_level0_col16\" class=\"col_heading level0 col16\" >16</th>\n",
       "      <th id=\"T_ee5c2_level0_col17\" class=\"col_heading level0 col17\" >17</th>\n",
       "      <th id=\"T_ee5c2_level0_col18\" class=\"col_heading level0 col18\" >18</th>\n",
       "      <th id=\"T_ee5c2_level0_col19\" class=\"col_heading level0 col19\" >19</th>\n",
       "      <th id=\"T_ee5c2_level0_col20\" class=\"col_heading level0 col20\" >20</th>\n",
       "      <th id=\"T_ee5c2_level0_col21\" class=\"col_heading level0 col21\" >21</th>\n",
       "      <th id=\"T_ee5c2_level0_col22\" class=\"col_heading level0 col22\" >22</th>\n",
       "      <th id=\"T_ee5c2_level0_col23\" class=\"col_heading level0 col23\" >23</th>\n",
       "    </tr>\n",
       "    <tr>\n",
       "      <th class=\"index_name level0\" >day</th>\n",
       "      <th class=\"blank col0\" >&nbsp;</th>\n",
       "      <th class=\"blank col1\" >&nbsp;</th>\n",
       "      <th class=\"blank col2\" >&nbsp;</th>\n",
       "      <th class=\"blank col3\" >&nbsp;</th>\n",
       "      <th class=\"blank col4\" >&nbsp;</th>\n",
       "      <th class=\"blank col5\" >&nbsp;</th>\n",
       "      <th class=\"blank col6\" >&nbsp;</th>\n",
       "      <th class=\"blank col7\" >&nbsp;</th>\n",
       "      <th class=\"blank col8\" >&nbsp;</th>\n",
       "      <th class=\"blank col9\" >&nbsp;</th>\n",
       "      <th class=\"blank col10\" >&nbsp;</th>\n",
       "      <th class=\"blank col11\" >&nbsp;</th>\n",
       "      <th class=\"blank col12\" >&nbsp;</th>\n",
       "      <th class=\"blank col13\" >&nbsp;</th>\n",
       "      <th class=\"blank col14\" >&nbsp;</th>\n",
       "      <th class=\"blank col15\" >&nbsp;</th>\n",
       "      <th class=\"blank col16\" >&nbsp;</th>\n",
       "      <th class=\"blank col17\" >&nbsp;</th>\n",
       "      <th class=\"blank col18\" >&nbsp;</th>\n",
       "      <th class=\"blank col19\" >&nbsp;</th>\n",
       "      <th class=\"blank col20\" >&nbsp;</th>\n",
       "      <th class=\"blank col21\" >&nbsp;</th>\n",
       "      <th class=\"blank col22\" >&nbsp;</th>\n",
       "      <th class=\"blank col23\" >&nbsp;</th>\n",
       "    </tr>\n",
       "  </thead>\n",
       "  <tbody>\n",
       "    <tr>\n",
       "      <th id=\"T_ee5c2_level0_row0\" class=\"row_heading level0 row0\" >1</th>\n",
       "      <td id=\"T_ee5c2_row0_col0\" class=\"data row0 col0\" >3178</td>\n",
       "      <td id=\"T_ee5c2_row0_col1\" class=\"data row0 col1\" >1944</td>\n",
       "      <td id=\"T_ee5c2_row0_col2\" class=\"data row0 col2\" >1256</td>\n",
       "      <td id=\"T_ee5c2_row0_col3\" class=\"data row0 col3\" >1308</td>\n",
       "      <td id=\"T_ee5c2_row0_col4\" class=\"data row0 col4\" >1429</td>\n",
       "      <td id=\"T_ee5c2_row0_col5\" class=\"data row0 col5\" >2126</td>\n",
       "      <td id=\"T_ee5c2_row0_col6\" class=\"data row0 col6\" >3664</td>\n",
       "      <td id=\"T_ee5c2_row0_col7\" class=\"data row0 col7\" >5380</td>\n",
       "      <td id=\"T_ee5c2_row0_col8\" class=\"data row0 col8\" >5292</td>\n",
       "      <td id=\"T_ee5c2_row0_col9\" class=\"data row0 col9\" >4617</td>\n",
       "      <td id=\"T_ee5c2_row0_col10\" class=\"data row0 col10\" >4607</td>\n",
       "      <td id=\"T_ee5c2_row0_col11\" class=\"data row0 col11\" >4729</td>\n",
       "      <td id=\"T_ee5c2_row0_col12\" class=\"data row0 col12\" >4930</td>\n",
       "      <td id=\"T_ee5c2_row0_col13\" class=\"data row0 col13\" >5794</td>\n",
       "      <td id=\"T_ee5c2_row0_col14\" class=\"data row0 col14\" >6933</td>\n",
       "      <td id=\"T_ee5c2_row0_col15\" class=\"data row0 col15\" >7910</td>\n",
       "      <td id=\"T_ee5c2_row0_col16\" class=\"data row0 col16\" >8633</td>\n",
       "      <td id=\"T_ee5c2_row0_col17\" class=\"data row0 col17\" >9511</td>\n",
       "      <td id=\"T_ee5c2_row0_col18\" class=\"data row0 col18\" >8604</td>\n",
       "      <td id=\"T_ee5c2_row0_col19\" class=\"data row0 col19\" >8001</td>\n",
       "      <td id=\"T_ee5c2_row0_col20\" class=\"data row0 col20\" >7315</td>\n",
       "      <td id=\"T_ee5c2_row0_col21\" class=\"data row0 col21\" >7803</td>\n",
       "      <td id=\"T_ee5c2_row0_col22\" class=\"data row0 col22\" >6268</td>\n",
       "      <td id=\"T_ee5c2_row0_col23\" class=\"data row0 col23\" >4050</td>\n",
       "    </tr>\n",
       "    <tr>\n",
       "      <th id=\"T_ee5c2_level0_row1\" class=\"row_heading level0 row1\" >2</th>\n",
       "      <td id=\"T_ee5c2_row1_col0\" class=\"data row1 col0\" >2435</td>\n",
       "      <td id=\"T_ee5c2_row1_col1\" class=\"data row1 col1\" >1569</td>\n",
       "      <td id=\"T_ee5c2_row1_col2\" class=\"data row1 col2\" >1087</td>\n",
       "      <td id=\"T_ee5c2_row1_col3\" class=\"data row1 col3\" >1414</td>\n",
       "      <td id=\"T_ee5c2_row1_col4\" class=\"data row1 col4\" >1876</td>\n",
       "      <td id=\"T_ee5c2_row1_col5\" class=\"data row1 col5\" >2812</td>\n",
       "      <td id=\"T_ee5c2_row1_col6\" class=\"data row1 col6\" >4920</td>\n",
       "      <td id=\"T_ee5c2_row1_col7\" class=\"data row1 col7\" >6544</td>\n",
       "      <td id=\"T_ee5c2_row1_col8\" class=\"data row1 col8\" >6310</td>\n",
       "      <td id=\"T_ee5c2_row1_col9\" class=\"data row1 col9\" >4712</td>\n",
       "      <td id=\"T_ee5c2_row1_col10\" class=\"data row1 col10\" >4797</td>\n",
       "      <td id=\"T_ee5c2_row1_col11\" class=\"data row1 col11\" >4975</td>\n",
       "      <td id=\"T_ee5c2_row1_col12\" class=\"data row1 col12\" >5188</td>\n",
       "      <td id=\"T_ee5c2_row1_col13\" class=\"data row1 col13\" >5695</td>\n",
       "      <td id=\"T_ee5c2_row1_col14\" class=\"data row1 col14\" >6904</td>\n",
       "      <td id=\"T_ee5c2_row1_col15\" class=\"data row1 col15\" >8449</td>\n",
       "      <td id=\"T_ee5c2_row1_col16\" class=\"data row1 col16\" >10109</td>\n",
       "      <td id=\"T_ee5c2_row1_col17\" class=\"data row1 col17\" >11100</td>\n",
       "      <td id=\"T_ee5c2_row1_col18\" class=\"data row1 col18\" >11123</td>\n",
       "      <td id=\"T_ee5c2_row1_col19\" class=\"data row1 col19\" >9474</td>\n",
       "      <td id=\"T_ee5c2_row1_col20\" class=\"data row1 col20\" >8759</td>\n",
       "      <td id=\"T_ee5c2_row1_col21\" class=\"data row1 col21\" >8357</td>\n",
       "      <td id=\"T_ee5c2_row1_col22\" class=\"data row1 col22\" >6998</td>\n",
       "      <td id=\"T_ee5c2_row1_col23\" class=\"data row1 col23\" >5160</td>\n",
       "    </tr>\n",
       "    <tr>\n",
       "      <th id=\"T_ee5c2_level0_row2\" class=\"row_heading level0 row2\" >3</th>\n",
       "      <td id=\"T_ee5c2_row2_col0\" class=\"data row2 col0\" >3354</td>\n",
       "      <td id=\"T_ee5c2_row2_col1\" class=\"data row2 col1\" >2142</td>\n",
       "      <td id=\"T_ee5c2_row2_col2\" class=\"data row2 col2\" >1407</td>\n",
       "      <td id=\"T_ee5c2_row2_col3\" class=\"data row2 col3\" >1467</td>\n",
       "      <td id=\"T_ee5c2_row2_col4\" class=\"data row2 col4\" >1550</td>\n",
       "      <td id=\"T_ee5c2_row2_col5\" class=\"data row2 col5\" >2387</td>\n",
       "      <td id=\"T_ee5c2_row2_col6\" class=\"data row2 col6\" >4241</td>\n",
       "      <td id=\"T_ee5c2_row2_col7\" class=\"data row2 col7\" >5663</td>\n",
       "      <td id=\"T_ee5c2_row2_col8\" class=\"data row2 col8\" >5386</td>\n",
       "      <td id=\"T_ee5c2_row2_col9\" class=\"data row2 col9\" >4657</td>\n",
       "      <td id=\"T_ee5c2_row2_col10\" class=\"data row2 col10\" >4788</td>\n",
       "      <td id=\"T_ee5c2_row2_col11\" class=\"data row2 col11\" >5065</td>\n",
       "      <td id=\"T_ee5c2_row2_col12\" class=\"data row2 col12\" >5384</td>\n",
       "      <td id=\"T_ee5c2_row2_col13\" class=\"data row2 col13\" >6093</td>\n",
       "      <td id=\"T_ee5c2_row2_col14\" class=\"data row2 col14\" >7226</td>\n",
       "      <td id=\"T_ee5c2_row2_col15\" class=\"data row2 col15\" >8850</td>\n",
       "      <td id=\"T_ee5c2_row2_col16\" class=\"data row2 col16\" >10314</td>\n",
       "      <td id=\"T_ee5c2_row2_col17\" class=\"data row2 col17\" >10491</td>\n",
       "      <td id=\"T_ee5c2_row2_col18\" class=\"data row2 col18\" >11239</td>\n",
       "      <td id=\"T_ee5c2_row2_col19\" class=\"data row2 col19\" >9599</td>\n",
       "      <td id=\"T_ee5c2_row2_col20\" class=\"data row2 col20\" >9026</td>\n",
       "      <td id=\"T_ee5c2_row2_col21\" class=\"data row2 col21\" >8531</td>\n",
       "      <td id=\"T_ee5c2_row2_col22\" class=\"data row2 col22\" >7142</td>\n",
       "      <td id=\"T_ee5c2_row2_col23\" class=\"data row2 col23\" >4686</td>\n",
       "    </tr>\n",
       "    <tr>\n",
       "      <th id=\"T_ee5c2_level0_row3\" class=\"row_heading level0 row3\" >4</th>\n",
       "      <td id=\"T_ee5c2_row3_col0\" class=\"data row3 col0\" >2897</td>\n",
       "      <td id=\"T_ee5c2_row3_col1\" class=\"data row3 col1\" >1688</td>\n",
       "      <td id=\"T_ee5c2_row3_col2\" class=\"data row3 col2\" >1199</td>\n",
       "      <td id=\"T_ee5c2_row3_col3\" class=\"data row3 col3\" >1424</td>\n",
       "      <td id=\"T_ee5c2_row3_col4\" class=\"data row3 col4\" >1696</td>\n",
       "      <td id=\"T_ee5c2_row3_col5\" class=\"data row3 col5\" >2581</td>\n",
       "      <td id=\"T_ee5c2_row3_col6\" class=\"data row3 col6\" >4592</td>\n",
       "      <td id=\"T_ee5c2_row3_col7\" class=\"data row3 col7\" >6029</td>\n",
       "      <td id=\"T_ee5c2_row3_col8\" class=\"data row3 col8\" >5704</td>\n",
       "      <td id=\"T_ee5c2_row3_col9\" class=\"data row3 col9\" >4744</td>\n",
       "      <td id=\"T_ee5c2_row3_col10\" class=\"data row3 col10\" >4743</td>\n",
       "      <td id=\"T_ee5c2_row3_col11\" class=\"data row3 col11\" >4975</td>\n",
       "      <td id=\"T_ee5c2_row3_col12\" class=\"data row3 col12\" >5193</td>\n",
       "      <td id=\"T_ee5c2_row3_col13\" class=\"data row3 col13\" >6175</td>\n",
       "      <td id=\"T_ee5c2_row3_col14\" class=\"data row3 col14\" >7158</td>\n",
       "      <td id=\"T_ee5c2_row3_col15\" class=\"data row3 col15\" >8515</td>\n",
       "      <td id=\"T_ee5c2_row3_col16\" class=\"data row3 col16\" >9492</td>\n",
       "      <td id=\"T_ee5c2_row3_col17\" class=\"data row3 col17\" >10357</td>\n",
       "      <td id=\"T_ee5c2_row3_col18\" class=\"data row3 col18\" >10259</td>\n",
       "      <td id=\"T_ee5c2_row3_col19\" class=\"data row3 col19\" >9097</td>\n",
       "      <td id=\"T_ee5c2_row3_col20\" class=\"data row3 col20\" >8358</td>\n",
       "      <td id=\"T_ee5c2_row3_col21\" class=\"data row3 col21\" >8649</td>\n",
       "      <td id=\"T_ee5c2_row3_col22\" class=\"data row3 col22\" >7706</td>\n",
       "      <td id=\"T_ee5c2_row3_col23\" class=\"data row3 col23\" >5130</td>\n",
       "    </tr>\n",
       "    <tr>\n",
       "      <th id=\"T_ee5c2_level0_row4\" class=\"row_heading level0 row4\" >5</th>\n",
       "      <td id=\"T_ee5c2_row4_col0\" class=\"data row4 col0\" >2733</td>\n",
       "      <td id=\"T_ee5c2_row4_col1\" class=\"data row4 col1\" >1541</td>\n",
       "      <td id=\"T_ee5c2_row4_col2\" class=\"data row4 col2\" >1030</td>\n",
       "      <td id=\"T_ee5c2_row4_col3\" class=\"data row4 col3\" >1253</td>\n",
       "      <td id=\"T_ee5c2_row4_col4\" class=\"data row4 col4\" >1617</td>\n",
       "      <td id=\"T_ee5c2_row4_col5\" class=\"data row4 col5\" >2900</td>\n",
       "      <td id=\"T_ee5c2_row4_col6\" class=\"data row4 col6\" >4814</td>\n",
       "      <td id=\"T_ee5c2_row4_col7\" class=\"data row4 col7\" >6261</td>\n",
       "      <td id=\"T_ee5c2_row4_col8\" class=\"data row4 col8\" >6469</td>\n",
       "      <td id=\"T_ee5c2_row4_col9\" class=\"data row4 col9\" >5530</td>\n",
       "      <td id=\"T_ee5c2_row4_col10\" class=\"data row4 col10\" >5141</td>\n",
       "      <td id=\"T_ee5c2_row4_col11\" class=\"data row4 col11\" >5011</td>\n",
       "      <td id=\"T_ee5c2_row4_col12\" class=\"data row4 col12\" >5047</td>\n",
       "      <td id=\"T_ee5c2_row4_col13\" class=\"data row4 col13\" >5690</td>\n",
       "      <td id=\"T_ee5c2_row4_col14\" class=\"data row4 col14\" >6955</td>\n",
       "      <td id=\"T_ee5c2_row4_col15\" class=\"data row4 col15\" >8312</td>\n",
       "      <td id=\"T_ee5c2_row4_col16\" class=\"data row4 col16\" >9609</td>\n",
       "      <td id=\"T_ee5c2_row4_col17\" class=\"data row4 col17\" >10699</td>\n",
       "      <td id=\"T_ee5c2_row4_col18\" class=\"data row4 col18\" >10170</td>\n",
       "      <td id=\"T_ee5c2_row4_col19\" class=\"data row4 col19\" >9430</td>\n",
       "      <td id=\"T_ee5c2_row4_col20\" class=\"data row4 col20\" >9354</td>\n",
       "      <td id=\"T_ee5c2_row4_col21\" class=\"data row4 col21\" >9610</td>\n",
       "      <td id=\"T_ee5c2_row4_col22\" class=\"data row4 col22\" >8853</td>\n",
       "      <td id=\"T_ee5c2_row4_col23\" class=\"data row4 col23\" >6518</td>\n",
       "    </tr>\n",
       "    <tr>\n",
       "      <th id=\"T_ee5c2_level0_row5\" class=\"row_heading level0 row5\" >6</th>\n",
       "      <td id=\"T_ee5c2_row5_col0\" class=\"data row5 col0\" >4537</td>\n",
       "      <td id=\"T_ee5c2_row5_col1\" class=\"data row5 col1\" >2864</td>\n",
       "      <td id=\"T_ee5c2_row5_col2\" class=\"data row5 col2\" >1864</td>\n",
       "      <td id=\"T_ee5c2_row5_col3\" class=\"data row5 col3\" >1555</td>\n",
       "      <td id=\"T_ee5c2_row5_col4\" class=\"data row5 col4\" >1551</td>\n",
       "      <td id=\"T_ee5c2_row5_col5\" class=\"data row5 col5\" >2162</td>\n",
       "      <td id=\"T_ee5c2_row5_col6\" class=\"data row5 col6\" >3642</td>\n",
       "      <td id=\"T_ee5c2_row5_col7\" class=\"data row5 col7\" >4766</td>\n",
       "      <td id=\"T_ee5c2_row5_col8\" class=\"data row5 col8\" >4942</td>\n",
       "      <td id=\"T_ee5c2_row5_col9\" class=\"data row5 col9\" >4401</td>\n",
       "      <td id=\"T_ee5c2_row5_col10\" class=\"data row5 col10\" >4801</td>\n",
       "      <td id=\"T_ee5c2_row5_col11\" class=\"data row5 col11\" >5174</td>\n",
       "      <td id=\"T_ee5c2_row5_col12\" class=\"data row5 col12\" >5426</td>\n",
       "      <td id=\"T_ee5c2_row5_col13\" class=\"data row5 col13\" >6258</td>\n",
       "      <td id=\"T_ee5c2_row5_col14\" class=\"data row5 col14\" >7235</td>\n",
       "      <td id=\"T_ee5c2_row5_col15\" class=\"data row5 col15\" >8612</td>\n",
       "      <td id=\"T_ee5c2_row5_col16\" class=\"data row5 col16\" >9444</td>\n",
       "      <td id=\"T_ee5c2_row5_col17\" class=\"data row5 col17\" >9929</td>\n",
       "      <td id=\"T_ee5c2_row5_col18\" class=\"data row5 col18\" >9263</td>\n",
       "      <td id=\"T_ee5c2_row5_col19\" class=\"data row5 col19\" >8405</td>\n",
       "      <td id=\"T_ee5c2_row5_col20\" class=\"data row5 col20\" >8117</td>\n",
       "      <td id=\"T_ee5c2_row5_col21\" class=\"data row5 col21\" >8567</td>\n",
       "      <td id=\"T_ee5c2_row5_col22\" class=\"data row5 col22\" >7852</td>\n",
       "      <td id=\"T_ee5c2_row5_col23\" class=\"data row5 col23\" >5946</td>\n",
       "    </tr>\n",
       "    <tr>\n",
       "      <th id=\"T_ee5c2_level0_row6\" class=\"row_heading level0 row6\" >7</th>\n",
       "      <td id=\"T_ee5c2_row6_col0\" class=\"data row6 col0\" >3645</td>\n",
       "      <td id=\"T_ee5c2_row6_col1\" class=\"data row6 col1\" >2296</td>\n",
       "      <td id=\"T_ee5c2_row6_col2\" class=\"data row6 col2\" >1507</td>\n",
       "      <td id=\"T_ee5c2_row6_col3\" class=\"data row6 col3\" >1597</td>\n",
       "      <td id=\"T_ee5c2_row6_col4\" class=\"data row6 col4\" >1763</td>\n",
       "      <td id=\"T_ee5c2_row6_col5\" class=\"data row6 col5\" >2422</td>\n",
       "      <td id=\"T_ee5c2_row6_col6\" class=\"data row6 col6\" >4102</td>\n",
       "      <td id=\"T_ee5c2_row6_col7\" class=\"data row6 col7\" >5575</td>\n",
       "      <td id=\"T_ee5c2_row6_col8\" class=\"data row6 col8\" >5376</td>\n",
       "      <td id=\"T_ee5c2_row6_col9\" class=\"data row6 col9\" >4639</td>\n",
       "      <td id=\"T_ee5c2_row6_col10\" class=\"data row6 col10\" >4905</td>\n",
       "      <td id=\"T_ee5c2_row6_col11\" class=\"data row6 col11\" >5166</td>\n",
       "      <td id=\"T_ee5c2_row6_col12\" class=\"data row6 col12\" >5364</td>\n",
       "      <td id=\"T_ee5c2_row6_col13\" class=\"data row6 col13\" >6214</td>\n",
       "      <td id=\"T_ee5c2_row6_col14\" class=\"data row6 col14\" >7276</td>\n",
       "      <td id=\"T_ee5c2_row6_col15\" class=\"data row6 col15\" >8474</td>\n",
       "      <td id=\"T_ee5c2_row6_col16\" class=\"data row6 col16\" >10393</td>\n",
       "      <td id=\"T_ee5c2_row6_col17\" class=\"data row6 col17\" >11013</td>\n",
       "      <td id=\"T_ee5c2_row6_col18\" class=\"data row6 col18\" >10573</td>\n",
       "      <td id=\"T_ee5c2_row6_col19\" class=\"data row6 col19\" >9472</td>\n",
       "      <td id=\"T_ee5c2_row6_col20\" class=\"data row6 col20\" >8691</td>\n",
       "      <td id=\"T_ee5c2_row6_col21\" class=\"data row6 col21\" >8525</td>\n",
       "      <td id=\"T_ee5c2_row6_col22\" class=\"data row6 col22\" >7194</td>\n",
       "      <td id=\"T_ee5c2_row6_col23\" class=\"data row6 col23\" >4801</td>\n",
       "    </tr>\n",
       "    <tr>\n",
       "      <th id=\"T_ee5c2_level0_row7\" class=\"row_heading level0 row7\" >8</th>\n",
       "      <td id=\"T_ee5c2_row7_col0\" class=\"data row7 col0\" >2830</td>\n",
       "      <td id=\"T_ee5c2_row7_col1\" class=\"data row7 col1\" >1646</td>\n",
       "      <td id=\"T_ee5c2_row7_col2\" class=\"data row7 col2\" >1123</td>\n",
       "      <td id=\"T_ee5c2_row7_col3\" class=\"data row7 col3\" >1483</td>\n",
       "      <td id=\"T_ee5c2_row7_col4\" class=\"data row7 col4\" >1889</td>\n",
       "      <td id=\"T_ee5c2_row7_col5\" class=\"data row7 col5\" >3224</td>\n",
       "      <td id=\"T_ee5c2_row7_col6\" class=\"data row7 col6\" >5431</td>\n",
       "      <td id=\"T_ee5c2_row7_col7\" class=\"data row7 col7\" >7361</td>\n",
       "      <td id=\"T_ee5c2_row7_col8\" class=\"data row7 col8\" >7357</td>\n",
       "      <td id=\"T_ee5c2_row7_col9\" class=\"data row7 col9\" >5703</td>\n",
       "      <td id=\"T_ee5c2_row7_col10\" class=\"data row7 col10\" >5288</td>\n",
       "      <td id=\"T_ee5c2_row7_col11\" class=\"data row7 col11\" >5350</td>\n",
       "      <td id=\"T_ee5c2_row7_col12\" class=\"data row7 col12\" >5483</td>\n",
       "      <td id=\"T_ee5c2_row7_col13\" class=\"data row7 col13\" >6318</td>\n",
       "      <td id=\"T_ee5c2_row7_col14\" class=\"data row7 col14\" >7240</td>\n",
       "      <td id=\"T_ee5c2_row7_col15\" class=\"data row7 col15\" >8775</td>\n",
       "      <td id=\"T_ee5c2_row7_col16\" class=\"data row7 col16\" >9851</td>\n",
       "      <td id=\"T_ee5c2_row7_col17\" class=\"data row7 col17\" >10673</td>\n",
       "      <td id=\"T_ee5c2_row7_col18\" class=\"data row7 col18\" >9687</td>\n",
       "      <td id=\"T_ee5c2_row7_col19\" class=\"data row7 col19\" >8796</td>\n",
       "      <td id=\"T_ee5c2_row7_col20\" class=\"data row7 col20\" >8604</td>\n",
       "      <td id=\"T_ee5c2_row7_col21\" class=\"data row7 col21\" >8367</td>\n",
       "      <td id=\"T_ee5c2_row7_col22\" class=\"data row7 col22\" >6795</td>\n",
       "      <td id=\"T_ee5c2_row7_col23\" class=\"data row7 col23\" >4256</td>\n",
       "    </tr>\n",
       "    <tr>\n",
       "      <th id=\"T_ee5c2_level0_row8\" class=\"row_heading level0 row8\" >9</th>\n",
       "      <td id=\"T_ee5c2_row8_col0\" class=\"data row8 col0\" >2657</td>\n",
       "      <td id=\"T_ee5c2_row8_col1\" class=\"data row8 col1\" >1724</td>\n",
       "      <td id=\"T_ee5c2_row8_col2\" class=\"data row8 col2\" >1222</td>\n",
       "      <td id=\"T_ee5c2_row8_col3\" class=\"data row8 col3\" >1480</td>\n",
       "      <td id=\"T_ee5c2_row8_col4\" class=\"data row8 col4\" >1871</td>\n",
       "      <td id=\"T_ee5c2_row8_col5\" class=\"data row8 col5\" >3168</td>\n",
       "      <td id=\"T_ee5c2_row8_col6\" class=\"data row8 col6\" >5802</td>\n",
       "      <td id=\"T_ee5c2_row8_col7\" class=\"data row8 col7\" >7592</td>\n",
       "      <td id=\"T_ee5c2_row8_col8\" class=\"data row8 col8\" >7519</td>\n",
       "      <td id=\"T_ee5c2_row8_col9\" class=\"data row8 col9\" >5895</td>\n",
       "      <td id=\"T_ee5c2_row8_col10\" class=\"data row8 col10\" >5406</td>\n",
       "      <td id=\"T_ee5c2_row8_col11\" class=\"data row8 col11\" >5443</td>\n",
       "      <td id=\"T_ee5c2_row8_col12\" class=\"data row8 col12\" >5496</td>\n",
       "      <td id=\"T_ee5c2_row8_col13\" class=\"data row8 col13\" >6419</td>\n",
       "      <td id=\"T_ee5c2_row8_col14\" class=\"data row8 col14\" >7877</td>\n",
       "      <td id=\"T_ee5c2_row8_col15\" class=\"data row8 col15\" >9220</td>\n",
       "      <td id=\"T_ee5c2_row8_col16\" class=\"data row8 col16\" >10270</td>\n",
       "      <td id=\"T_ee5c2_row8_col17\" class=\"data row8 col17\" >11910</td>\n",
       "      <td id=\"T_ee5c2_row8_col18\" class=\"data row8 col18\" >11449</td>\n",
       "      <td id=\"T_ee5c2_row8_col19\" class=\"data row8 col19\" >9804</td>\n",
       "      <td id=\"T_ee5c2_row8_col20\" class=\"data row8 col20\" >8909</td>\n",
       "      <td id=\"T_ee5c2_row8_col21\" class=\"data row8 col21\" >8665</td>\n",
       "      <td id=\"T_ee5c2_row8_col22\" class=\"data row8 col22\" >7499</td>\n",
       "      <td id=\"T_ee5c2_row8_col23\" class=\"data row8 col23\" >5203</td>\n",
       "    </tr>\n",
       "    <tr>\n",
       "      <th id=\"T_ee5c2_level0_row9\" class=\"row_heading level0 row9\" >10</th>\n",
       "      <td id=\"T_ee5c2_row9_col0\" class=\"data row9 col0\" >3296</td>\n",
       "      <td id=\"T_ee5c2_row9_col1\" class=\"data row9 col1\" >2126</td>\n",
       "      <td id=\"T_ee5c2_row9_col2\" class=\"data row9 col2\" >1464</td>\n",
       "      <td id=\"T_ee5c2_row9_col3\" class=\"data row9 col3\" >1434</td>\n",
       "      <td id=\"T_ee5c2_row9_col4\" class=\"data row9 col4\" >1591</td>\n",
       "      <td id=\"T_ee5c2_row9_col5\" class=\"data row9 col5\" >2594</td>\n",
       "      <td id=\"T_ee5c2_row9_col6\" class=\"data row9 col6\" >4664</td>\n",
       "      <td id=\"T_ee5c2_row9_col7\" class=\"data row9 col7\" >6046</td>\n",
       "      <td id=\"T_ee5c2_row9_col8\" class=\"data row9 col8\" >6158</td>\n",
       "      <td id=\"T_ee5c2_row9_col9\" class=\"data row9 col9\" >5072</td>\n",
       "      <td id=\"T_ee5c2_row9_col10\" class=\"data row9 col10\" >4976</td>\n",
       "      <td id=\"T_ee5c2_row9_col11\" class=\"data row9 col11\" >5415</td>\n",
       "      <td id=\"T_ee5c2_row9_col12\" class=\"data row9 col12\" >5506</td>\n",
       "      <td id=\"T_ee5c2_row9_col13\" class=\"data row9 col13\" >6527</td>\n",
       "      <td id=\"T_ee5c2_row9_col14\" class=\"data row9 col14\" >7612</td>\n",
       "      <td id=\"T_ee5c2_row9_col15\" class=\"data row9 col15\" >9578</td>\n",
       "      <td id=\"T_ee5c2_row9_col16\" class=\"data row9 col16\" >11045</td>\n",
       "      <td id=\"T_ee5c2_row9_col17\" class=\"data row9 col17\" >11875</td>\n",
       "      <td id=\"T_ee5c2_row9_col18\" class=\"data row9 col18\" >10934</td>\n",
       "      <td id=\"T_ee5c2_row9_col19\" class=\"data row9 col19\" >9613</td>\n",
       "      <td id=\"T_ee5c2_row9_col20\" class=\"data row9 col20\" >9687</td>\n",
       "      <td id=\"T_ee5c2_row9_col21\" class=\"data row9 col21\" >9240</td>\n",
       "      <td id=\"T_ee5c2_row9_col22\" class=\"data row9 col22\" >7766</td>\n",
       "      <td id=\"T_ee5c2_row9_col23\" class=\"data row9 col23\" >5496</td>\n",
       "    </tr>\n",
       "    <tr>\n",
       "      <th id=\"T_ee5c2_level0_row10\" class=\"row_heading level0 row10\" >11</th>\n",
       "      <td id=\"T_ee5c2_row10_col0\" class=\"data row10 col0\" >3036</td>\n",
       "      <td id=\"T_ee5c2_row10_col1\" class=\"data row10 col1\" >1665</td>\n",
       "      <td id=\"T_ee5c2_row10_col2\" class=\"data row10 col2\" >1095</td>\n",
       "      <td id=\"T_ee5c2_row10_col3\" class=\"data row10 col3\" >1424</td>\n",
       "      <td id=\"T_ee5c2_row10_col4\" class=\"data row10 col4\" >1842</td>\n",
       "      <td id=\"T_ee5c2_row10_col5\" class=\"data row10 col5\" >2520</td>\n",
       "      <td id=\"T_ee5c2_row10_col6\" class=\"data row10 col6\" >4954</td>\n",
       "      <td id=\"T_ee5c2_row10_col7\" class=\"data row10 col7\" >6876</td>\n",
       "      <td id=\"T_ee5c2_row10_col8\" class=\"data row10 col8\" >6871</td>\n",
       "      <td id=\"T_ee5c2_row10_col9\" class=\"data row10 col9\" >5396</td>\n",
       "      <td id=\"T_ee5c2_row10_col10\" class=\"data row10 col10\" >5215</td>\n",
       "      <td id=\"T_ee5c2_row10_col11\" class=\"data row10 col11\" >5423</td>\n",
       "      <td id=\"T_ee5c2_row10_col12\" class=\"data row10 col12\" >5513</td>\n",
       "      <td id=\"T_ee5c2_row10_col13\" class=\"data row10 col13\" >6486</td>\n",
       "      <td id=\"T_ee5c2_row10_col14\" class=\"data row10 col14\" >7503</td>\n",
       "      <td id=\"T_ee5c2_row10_col15\" class=\"data row10 col15\" >8920</td>\n",
       "      <td id=\"T_ee5c2_row10_col16\" class=\"data row10 col16\" >10125</td>\n",
       "      <td id=\"T_ee5c2_row10_col17\" class=\"data row10 col17\" >10898</td>\n",
       "      <td id=\"T_ee5c2_row10_col18\" class=\"data row10 col18\" >10361</td>\n",
       "      <td id=\"T_ee5c2_row10_col19\" class=\"data row10 col19\" >9327</td>\n",
       "      <td id=\"T_ee5c2_row10_col20\" class=\"data row10 col20\" >8824</td>\n",
       "      <td id=\"T_ee5c2_row10_col21\" class=\"data row10 col21\" >8730</td>\n",
       "      <td id=\"T_ee5c2_row10_col22\" class=\"data row10 col22\" >7771</td>\n",
       "      <td id=\"T_ee5c2_row10_col23\" class=\"data row10 col23\" >5360</td>\n",
       "    </tr>\n",
       "    <tr>\n",
       "      <th id=\"T_ee5c2_level0_row11\" class=\"row_heading level0 row11\" >12</th>\n",
       "      <td id=\"T_ee5c2_row11_col0\" class=\"data row11 col0\" >3227</td>\n",
       "      <td id=\"T_ee5c2_row11_col1\" class=\"data row11 col1\" >2147</td>\n",
       "      <td id=\"T_ee5c2_row11_col2\" class=\"data row11 col2\" >1393</td>\n",
       "      <td id=\"T_ee5c2_row11_col3\" class=\"data row11 col3\" >1362</td>\n",
       "      <td id=\"T_ee5c2_row11_col4\" class=\"data row11 col4\" >1757</td>\n",
       "      <td id=\"T_ee5c2_row11_col5\" class=\"data row11 col5\" >2710</td>\n",
       "      <td id=\"T_ee5c2_row11_col6\" class=\"data row11 col6\" >4576</td>\n",
       "      <td id=\"T_ee5c2_row11_col7\" class=\"data row11 col7\" >6250</td>\n",
       "      <td id=\"T_ee5c2_row11_col8\" class=\"data row11 col8\" >6231</td>\n",
       "      <td id=\"T_ee5c2_row11_col9\" class=\"data row11 col9\" >5177</td>\n",
       "      <td id=\"T_ee5c2_row11_col10\" class=\"data row11 col10\" >5157</td>\n",
       "      <td id=\"T_ee5c2_row11_col11\" class=\"data row11 col11\" >5319</td>\n",
       "      <td id=\"T_ee5c2_row11_col12\" class=\"data row11 col12\" >5570</td>\n",
       "      <td id=\"T_ee5c2_row11_col13\" class=\"data row11 col13\" >6448</td>\n",
       "      <td id=\"T_ee5c2_row11_col14\" class=\"data row11 col14\" >7743</td>\n",
       "      <td id=\"T_ee5c2_row11_col15\" class=\"data row11 col15\" >9390</td>\n",
       "      <td id=\"T_ee5c2_row11_col16\" class=\"data row11 col16\" >10734</td>\n",
       "      <td id=\"T_ee5c2_row11_col17\" class=\"data row11 col17\" >11713</td>\n",
       "      <td id=\"T_ee5c2_row11_col18\" class=\"data row11 col18\" >12216</td>\n",
       "      <td id=\"T_ee5c2_row11_col19\" class=\"data row11 col19\" >10393</td>\n",
       "      <td id=\"T_ee5c2_row11_col20\" class=\"data row11 col20\" >9965</td>\n",
       "      <td id=\"T_ee5c2_row11_col21\" class=\"data row11 col21\" >10310</td>\n",
       "      <td id=\"T_ee5c2_row11_col22\" class=\"data row11 col22\" >9992</td>\n",
       "      <td id=\"T_ee5c2_row11_col23\" class=\"data row11 col23\" >7945</td>\n",
       "    </tr>\n",
       "    <tr>\n",
       "      <th id=\"T_ee5c2_level0_row12\" class=\"row_heading level0 row12\" >13</th>\n",
       "      <td id=\"T_ee5c2_row12_col0\" class=\"data row12 col0\" >5408</td>\n",
       "      <td id=\"T_ee5c2_row12_col1\" class=\"data row12 col1\" >3509</td>\n",
       "      <td id=\"T_ee5c2_row12_col2\" class=\"data row12 col2\" >2262</td>\n",
       "      <td id=\"T_ee5c2_row12_col3\" class=\"data row12 col3\" >1832</td>\n",
       "      <td id=\"T_ee5c2_row12_col4\" class=\"data row12 col4\" >1705</td>\n",
       "      <td id=\"T_ee5c2_row12_col5\" class=\"data row12 col5\" >2327</td>\n",
       "      <td id=\"T_ee5c2_row12_col6\" class=\"data row12 col6\" >4196</td>\n",
       "      <td id=\"T_ee5c2_row12_col7\" class=\"data row12 col7\" >5685</td>\n",
       "      <td id=\"T_ee5c2_row12_col8\" class=\"data row12 col8\" >6060</td>\n",
       "      <td id=\"T_ee5c2_row12_col9\" class=\"data row12 col9\" >5631</td>\n",
       "      <td id=\"T_ee5c2_row12_col10\" class=\"data row12 col10\" >5442</td>\n",
       "      <td id=\"T_ee5c2_row12_col11\" class=\"data row12 col11\" >5720</td>\n",
       "      <td id=\"T_ee5c2_row12_col12\" class=\"data row12 col12\" >5914</td>\n",
       "      <td id=\"T_ee5c2_row12_col13\" class=\"data row12 col13\" >6678</td>\n",
       "      <td id=\"T_ee5c2_row12_col14\" class=\"data row12 col14\" >8200</td>\n",
       "      <td id=\"T_ee5c2_row12_col15\" class=\"data row12 col15\" >9264</td>\n",
       "      <td id=\"T_ee5c2_row12_col16\" class=\"data row12 col16\" >10534</td>\n",
       "      <td id=\"T_ee5c2_row12_col17\" class=\"data row12 col17\" >11826</td>\n",
       "      <td id=\"T_ee5c2_row12_col18\" class=\"data row12 col18\" >11450</td>\n",
       "      <td id=\"T_ee5c2_row12_col19\" class=\"data row12 col19\" >9921</td>\n",
       "      <td id=\"T_ee5c2_row12_col20\" class=\"data row12 col20\" >8705</td>\n",
       "      <td id=\"T_ee5c2_row12_col21\" class=\"data row12 col21\" >8423</td>\n",
       "      <td id=\"T_ee5c2_row12_col22\" class=\"data row12 col22\" >7363</td>\n",
       "      <td id=\"T_ee5c2_row12_col23\" class=\"data row12 col23\" >5936</td>\n",
       "    </tr>\n",
       "    <tr>\n",
       "      <th id=\"T_ee5c2_level0_row13\" class=\"row_heading level0 row13\" >14</th>\n",
       "      <td id=\"T_ee5c2_row13_col0\" class=\"data row13 col0\" >3748</td>\n",
       "      <td id=\"T_ee5c2_row13_col1\" class=\"data row13 col1\" >2349</td>\n",
       "      <td id=\"T_ee5c2_row13_col2\" class=\"data row13 col2\" >1605</td>\n",
       "      <td id=\"T_ee5c2_row13_col3\" class=\"data row13 col3\" >1656</td>\n",
       "      <td id=\"T_ee5c2_row13_col4\" class=\"data row13 col4\" >1756</td>\n",
       "      <td id=\"T_ee5c2_row13_col5\" class=\"data row13 col5\" >2629</td>\n",
       "      <td id=\"T_ee5c2_row13_col6\" class=\"data row13 col6\" >4257</td>\n",
       "      <td id=\"T_ee5c2_row13_col7\" class=\"data row13 col7\" >5781</td>\n",
       "      <td id=\"T_ee5c2_row13_col8\" class=\"data row13 col8\" >5520</td>\n",
       "      <td id=\"T_ee5c2_row13_col9\" class=\"data row13 col9\" >4824</td>\n",
       "      <td id=\"T_ee5c2_row13_col10\" class=\"data row13 col10\" >4911</td>\n",
       "      <td id=\"T_ee5c2_row13_col11\" class=\"data row13 col11\" >5118</td>\n",
       "      <td id=\"T_ee5c2_row13_col12\" class=\"data row13 col12\" >5153</td>\n",
       "      <td id=\"T_ee5c2_row13_col13\" class=\"data row13 col13\" >5747</td>\n",
       "      <td id=\"T_ee5c2_row13_col14\" class=\"data row13 col14\" >6963</td>\n",
       "      <td id=\"T_ee5c2_row13_col15\" class=\"data row13 col15\" >8192</td>\n",
       "      <td id=\"T_ee5c2_row13_col16\" class=\"data row13 col16\" >9511</td>\n",
       "      <td id=\"T_ee5c2_row13_col17\" class=\"data row13 col17\" >10115</td>\n",
       "      <td id=\"T_ee5c2_row13_col18\" class=\"data row13 col18\" >9553</td>\n",
       "      <td id=\"T_ee5c2_row13_col19\" class=\"data row13 col19\" >9146</td>\n",
       "      <td id=\"T_ee5c2_row13_col20\" class=\"data row13 col20\" >9182</td>\n",
       "      <td id=\"T_ee5c2_row13_col21\" class=\"data row13 col21\" >8589</td>\n",
       "      <td id=\"T_ee5c2_row13_col22\" class=\"data row13 col22\" >6891</td>\n",
       "      <td id=\"T_ee5c2_row13_col23\" class=\"data row13 col23\" >4460</td>\n",
       "    </tr>\n",
       "    <tr>\n",
       "      <th id=\"T_ee5c2_level0_row14\" class=\"row_heading level0 row14\" >15</th>\n",
       "      <td id=\"T_ee5c2_row14_col0\" class=\"data row14 col0\" >2497</td>\n",
       "      <td id=\"T_ee5c2_row14_col1\" class=\"data row14 col1\" >1515</td>\n",
       "      <td id=\"T_ee5c2_row14_col2\" class=\"data row14 col2\" >1087</td>\n",
       "      <td id=\"T_ee5c2_row14_col3\" class=\"data row14 col3\" >1381</td>\n",
       "      <td id=\"T_ee5c2_row14_col4\" class=\"data row14 col4\" >1862</td>\n",
       "      <td id=\"T_ee5c2_row14_col5\" class=\"data row14 col5\" >2980</td>\n",
       "      <td id=\"T_ee5c2_row14_col6\" class=\"data row14 col6\" >5050</td>\n",
       "      <td id=\"T_ee5c2_row14_col7\" class=\"data row14 col7\" >6837</td>\n",
       "      <td id=\"T_ee5c2_row14_col8\" class=\"data row14 col8\" >6729</td>\n",
       "      <td id=\"T_ee5c2_row14_col9\" class=\"data row14 col9\" >5201</td>\n",
       "      <td id=\"T_ee5c2_row14_col10\" class=\"data row14 col10\" >5347</td>\n",
       "      <td id=\"T_ee5c2_row14_col11\" class=\"data row14 col11\" >5517</td>\n",
       "      <td id=\"T_ee5c2_row14_col12\" class=\"data row14 col12\" >5503</td>\n",
       "      <td id=\"T_ee5c2_row14_col13\" class=\"data row14 col13\" >6997</td>\n",
       "      <td id=\"T_ee5c2_row14_col14\" class=\"data row14 col14\" >7633</td>\n",
       "      <td id=\"T_ee5c2_row14_col15\" class=\"data row14 col15\" >8505</td>\n",
       "      <td id=\"T_ee5c2_row14_col16\" class=\"data row14 col16\" >10285</td>\n",
       "      <td id=\"T_ee5c2_row14_col17\" class=\"data row14 col17\" >11959</td>\n",
       "      <td id=\"T_ee5c2_row14_col18\" class=\"data row14 col18\" >11728</td>\n",
       "      <td id=\"T_ee5c2_row14_col19\" class=\"data row14 col19\" >11032</td>\n",
       "      <td id=\"T_ee5c2_row14_col20\" class=\"data row14 col20\" >10509</td>\n",
       "      <td id=\"T_ee5c2_row14_col21\" class=\"data row14 col21\" >9105</td>\n",
       "      <td id=\"T_ee5c2_row14_col22\" class=\"data row14 col22\" >7153</td>\n",
       "      <td id=\"T_ee5c2_row14_col23\" class=\"data row14 col23\" >4480</td>\n",
       "    </tr>\n",
       "    <tr>\n",
       "      <th id=\"T_ee5c2_level0_row15\" class=\"row_heading level0 row15\" >16</th>\n",
       "      <td id=\"T_ee5c2_row15_col0\" class=\"data row15 col0\" >2547</td>\n",
       "      <td id=\"T_ee5c2_row15_col1\" class=\"data row15 col1\" >1585</td>\n",
       "      <td id=\"T_ee5c2_row15_col2\" class=\"data row15 col2\" >1119</td>\n",
       "      <td id=\"T_ee5c2_row15_col3\" class=\"data row15 col3\" >1395</td>\n",
       "      <td id=\"T_ee5c2_row15_col4\" class=\"data row15 col4\" >1818</td>\n",
       "      <td id=\"T_ee5c2_row15_col5\" class=\"data row15 col5\" >2966</td>\n",
       "      <td id=\"T_ee5c2_row15_col6\" class=\"data row15 col6\" >5558</td>\n",
       "      <td id=\"T_ee5c2_row15_col7\" class=\"data row15 col7\" >7517</td>\n",
       "      <td id=\"T_ee5c2_row15_col8\" class=\"data row15 col8\" >7495</td>\n",
       "      <td id=\"T_ee5c2_row15_col9\" class=\"data row15 col9\" >5958</td>\n",
       "      <td id=\"T_ee5c2_row15_col10\" class=\"data row15 col10\" >5626</td>\n",
       "      <td id=\"T_ee5c2_row15_col11\" class=\"data row15 col11\" >5480</td>\n",
       "      <td id=\"T_ee5c2_row15_col12\" class=\"data row15 col12\" >5525</td>\n",
       "      <td id=\"T_ee5c2_row15_col13\" class=\"data row15 col13\" >6198</td>\n",
       "      <td id=\"T_ee5c2_row15_col14\" class=\"data row15 col14\" >7597</td>\n",
       "      <td id=\"T_ee5c2_row15_col15\" class=\"data row15 col15\" >9290</td>\n",
       "      <td id=\"T_ee5c2_row15_col16\" class=\"data row15 col16\" >10804</td>\n",
       "      <td id=\"T_ee5c2_row15_col17\" class=\"data row15 col17\" >11773</td>\n",
       "      <td id=\"T_ee5c2_row15_col18\" class=\"data row15 col18\" >10855</td>\n",
       "      <td id=\"T_ee5c2_row15_col19\" class=\"data row15 col19\" >10924</td>\n",
       "      <td id=\"T_ee5c2_row15_col20\" class=\"data row15 col20\" >10142</td>\n",
       "      <td id=\"T_ee5c2_row15_col21\" class=\"data row15 col21\" >10374</td>\n",
       "      <td id=\"T_ee5c2_row15_col22\" class=\"data row15 col22\" >8094</td>\n",
       "      <td id=\"T_ee5c2_row15_col23\" class=\"data row15 col23\" >5380</td>\n",
       "    </tr>\n",
       "    <tr>\n",
       "      <th id=\"T_ee5c2_level0_row16\" class=\"row_heading level0 row16\" >17</th>\n",
       "      <td id=\"T_ee5c2_row16_col0\" class=\"data row16 col0\" >3155</td>\n",
       "      <td id=\"T_ee5c2_row16_col1\" class=\"data row16 col1\" >2048</td>\n",
       "      <td id=\"T_ee5c2_row16_col2\" class=\"data row16 col2\" >1500</td>\n",
       "      <td id=\"T_ee5c2_row16_col3\" class=\"data row16 col3\" >1488</td>\n",
       "      <td id=\"T_ee5c2_row16_col4\" class=\"data row16 col4\" >1897</td>\n",
       "      <td id=\"T_ee5c2_row16_col5\" class=\"data row16 col5\" >2741</td>\n",
       "      <td id=\"T_ee5c2_row16_col6\" class=\"data row16 col6\" >4562</td>\n",
       "      <td id=\"T_ee5c2_row16_col7\" class=\"data row16 col7\" >6315</td>\n",
       "      <td id=\"T_ee5c2_row16_col8\" class=\"data row16 col8\" >5882</td>\n",
       "      <td id=\"T_ee5c2_row16_col9\" class=\"data row16 col9\" >4934</td>\n",
       "      <td id=\"T_ee5c2_row16_col10\" class=\"data row16 col10\" >5004</td>\n",
       "      <td id=\"T_ee5c2_row16_col11\" class=\"data row16 col11\" >5306</td>\n",
       "      <td id=\"T_ee5c2_row16_col12\" class=\"data row16 col12\" >5634</td>\n",
       "      <td id=\"T_ee5c2_row16_col13\" class=\"data row16 col13\" >6507</td>\n",
       "      <td id=\"T_ee5c2_row16_col14\" class=\"data row16 col14\" >7472</td>\n",
       "      <td id=\"T_ee5c2_row16_col15\" class=\"data row16 col15\" >8997</td>\n",
       "      <td id=\"T_ee5c2_row16_col16\" class=\"data row16 col16\" >10323</td>\n",
       "      <td id=\"T_ee5c2_row16_col17\" class=\"data row16 col17\" >11236</td>\n",
       "      <td id=\"T_ee5c2_row16_col18\" class=\"data row16 col18\" >11089</td>\n",
       "      <td id=\"T_ee5c2_row16_col19\" class=\"data row16 col19\" >9919</td>\n",
       "      <td id=\"T_ee5c2_row16_col20\" class=\"data row16 col20\" >9935</td>\n",
       "      <td id=\"T_ee5c2_row16_col21\" class=\"data row16 col21\" >9823</td>\n",
       "      <td id=\"T_ee5c2_row16_col22\" class=\"data row16 col22\" >8362</td>\n",
       "      <td id=\"T_ee5c2_row16_col23\" class=\"data row16 col23\" >5699</td>\n",
       "    </tr>\n",
       "    <tr>\n",
       "      <th id=\"T_ee5c2_level0_row17\" class=\"row_heading level0 row17\" >18</th>\n",
       "      <td id=\"T_ee5c2_row17_col0\" class=\"data row17 col0\" >3390</td>\n",
       "      <td id=\"T_ee5c2_row17_col1\" class=\"data row17 col1\" >2135</td>\n",
       "      <td id=\"T_ee5c2_row17_col2\" class=\"data row17 col2\" >1332</td>\n",
       "      <td id=\"T_ee5c2_row17_col3\" class=\"data row17 col3\" >1626</td>\n",
       "      <td id=\"T_ee5c2_row17_col4\" class=\"data row17 col4\" >1892</td>\n",
       "      <td id=\"T_ee5c2_row17_col5\" class=\"data row17 col5\" >2959</td>\n",
       "      <td id=\"T_ee5c2_row17_col6\" class=\"data row17 col6\" >4688</td>\n",
       "      <td id=\"T_ee5c2_row17_col7\" class=\"data row17 col7\" >6618</td>\n",
       "      <td id=\"T_ee5c2_row17_col8\" class=\"data row17 col8\" >6451</td>\n",
       "      <td id=\"T_ee5c2_row17_col9\" class=\"data row17 col9\" >5377</td>\n",
       "      <td id=\"T_ee5c2_row17_col10\" class=\"data row17 col10\" >5150</td>\n",
       "      <td id=\"T_ee5c2_row17_col11\" class=\"data row17 col11\" >5487</td>\n",
       "      <td id=\"T_ee5c2_row17_col12\" class=\"data row17 col12\" >5490</td>\n",
       "      <td id=\"T_ee5c2_row17_col13\" class=\"data row17 col13\" >6383</td>\n",
       "      <td id=\"T_ee5c2_row17_col14\" class=\"data row17 col14\" >7534</td>\n",
       "      <td id=\"T_ee5c2_row17_col15\" class=\"data row17 col15\" >9040</td>\n",
       "      <td id=\"T_ee5c2_row17_col16\" class=\"data row17 col16\" >10274</td>\n",
       "      <td id=\"T_ee5c2_row17_col17\" class=\"data row17 col17\" >10692</td>\n",
       "      <td id=\"T_ee5c2_row17_col18\" class=\"data row17 col18\" >10338</td>\n",
       "      <td id=\"T_ee5c2_row17_col19\" class=\"data row17 col19\" >9551</td>\n",
       "      <td id=\"T_ee5c2_row17_col20\" class=\"data row17 col20\" >9310</td>\n",
       "      <td id=\"T_ee5c2_row17_col21\" class=\"data row17 col21\" >9285</td>\n",
       "      <td id=\"T_ee5c2_row17_col22\" class=\"data row17 col22\" >8015</td>\n",
       "      <td id=\"T_ee5c2_row17_col23\" class=\"data row17 col23\" >5492</td>\n",
       "    </tr>\n",
       "    <tr>\n",
       "      <th id=\"T_ee5c2_level0_row18\" class=\"row_heading level0 row18\" >19</th>\n",
       "      <td id=\"T_ee5c2_row18_col0\" class=\"data row18 col0\" >3217</td>\n",
       "      <td id=\"T_ee5c2_row18_col1\" class=\"data row18 col1\" >2188</td>\n",
       "      <td id=\"T_ee5c2_row18_col2\" class=\"data row18 col2\" >1604</td>\n",
       "      <td id=\"T_ee5c2_row18_col3\" class=\"data row18 col3\" >1675</td>\n",
       "      <td id=\"T_ee5c2_row18_col4\" class=\"data row18 col4\" >1810</td>\n",
       "      <td id=\"T_ee5c2_row18_col5\" class=\"data row18 col5\" >2639</td>\n",
       "      <td id=\"T_ee5c2_row18_col6\" class=\"data row18 col6\" >4733</td>\n",
       "      <td id=\"T_ee5c2_row18_col7\" class=\"data row18 col7\" >6159</td>\n",
       "      <td id=\"T_ee5c2_row18_col8\" class=\"data row18 col8\" >6014</td>\n",
       "      <td id=\"T_ee5c2_row18_col9\" class=\"data row18 col9\" >5006</td>\n",
       "      <td id=\"T_ee5c2_row18_col10\" class=\"data row18 col10\" >5092</td>\n",
       "      <td id=\"T_ee5c2_row18_col11\" class=\"data row18 col11\" >5240</td>\n",
       "      <td id=\"T_ee5c2_row18_col12\" class=\"data row18 col12\" >5590</td>\n",
       "      <td id=\"T_ee5c2_row18_col13\" class=\"data row18 col13\" >6367</td>\n",
       "      <td id=\"T_ee5c2_row18_col14\" class=\"data row18 col14\" >7374</td>\n",
       "      <td id=\"T_ee5c2_row18_col15\" class=\"data row18 col15\" >8898</td>\n",
       "      <td id=\"T_ee5c2_row18_col16\" class=\"data row18 col16\" >9893</td>\n",
       "      <td id=\"T_ee5c2_row18_col17\" class=\"data row18 col17\" >10741</td>\n",
       "      <td id=\"T_ee5c2_row18_col18\" class=\"data row18 col18\" >10429</td>\n",
       "      <td id=\"T_ee5c2_row18_col19\" class=\"data row18 col19\" >9701</td>\n",
       "      <td id=\"T_ee5c2_row18_col20\" class=\"data row18 col20\" >10051</td>\n",
       "      <td id=\"T_ee5c2_row18_col21\" class=\"data row18 col21\" >10049</td>\n",
       "      <td id=\"T_ee5c2_row18_col22\" class=\"data row18 col22\" >9090</td>\n",
       "      <td id=\"T_ee5c2_row18_col23\" class=\"data row18 col23\" >6666</td>\n",
       "    </tr>\n",
       "    <tr>\n",
       "      <th id=\"T_ee5c2_level0_row19\" class=\"row_heading level0 row19\" >20</th>\n",
       "      <td id=\"T_ee5c2_row19_col0\" class=\"data row19 col0\" >4475</td>\n",
       "      <td id=\"T_ee5c2_row19_col1\" class=\"data row19 col1\" >3190</td>\n",
       "      <td id=\"T_ee5c2_row19_col2\" class=\"data row19 col2\" >2100</td>\n",
       "      <td id=\"T_ee5c2_row19_col3\" class=\"data row19 col3\" >1858</td>\n",
       "      <td id=\"T_ee5c2_row19_col4\" class=\"data row19 col4\" >1618</td>\n",
       "      <td id=\"T_ee5c2_row19_col5\" class=\"data row19 col5\" >2143</td>\n",
       "      <td id=\"T_ee5c2_row19_col6\" class=\"data row19 col6\" >3584</td>\n",
       "      <td id=\"T_ee5c2_row19_col7\" class=\"data row19 col7\" >4900</td>\n",
       "      <td id=\"T_ee5c2_row19_col8\" class=\"data row19 col8\" >5083</td>\n",
       "      <td id=\"T_ee5c2_row19_col9\" class=\"data row19 col9\" >4765</td>\n",
       "      <td id=\"T_ee5c2_row19_col10\" class=\"data row19 col10\" >5135</td>\n",
       "      <td id=\"T_ee5c2_row19_col11\" class=\"data row19 col11\" >5650</td>\n",
       "      <td id=\"T_ee5c2_row19_col12\" class=\"data row19 col12\" >5745</td>\n",
       "      <td id=\"T_ee5c2_row19_col13\" class=\"data row19 col13\" >6656</td>\n",
       "      <td id=\"T_ee5c2_row19_col14\" class=\"data row19 col14\" >7462</td>\n",
       "      <td id=\"T_ee5c2_row19_col15\" class=\"data row19 col15\" >8630</td>\n",
       "      <td id=\"T_ee5c2_row19_col16\" class=\"data row19 col16\" >9448</td>\n",
       "      <td id=\"T_ee5c2_row19_col17\" class=\"data row19 col17\" >10046</td>\n",
       "      <td id=\"T_ee5c2_row19_col18\" class=\"data row19 col18\" >9272</td>\n",
       "      <td id=\"T_ee5c2_row19_col19\" class=\"data row19 col19\" >8592</td>\n",
       "      <td id=\"T_ee5c2_row19_col20\" class=\"data row19 col20\" >8614</td>\n",
       "      <td id=\"T_ee5c2_row19_col21\" class=\"data row19 col21\" >8703</td>\n",
       "      <td id=\"T_ee5c2_row19_col22\" class=\"data row19 col22\" >7787</td>\n",
       "      <td id=\"T_ee5c2_row19_col23\" class=\"data row19 col23\" >5907</td>\n",
       "    </tr>\n",
       "    <tr>\n",
       "      <th id=\"T_ee5c2_level0_row20\" class=\"row_heading level0 row20\" >21</th>\n",
       "      <td id=\"T_ee5c2_row20_col0\" class=\"data row20 col0\" >4294</td>\n",
       "      <td id=\"T_ee5c2_row20_col1\" class=\"data row20 col1\" >3194</td>\n",
       "      <td id=\"T_ee5c2_row20_col2\" class=\"data row20 col2\" >1972</td>\n",
       "      <td id=\"T_ee5c2_row20_col3\" class=\"data row20 col3\" >1727</td>\n",
       "      <td id=\"T_ee5c2_row20_col4\" class=\"data row20 col4\" >1926</td>\n",
       "      <td id=\"T_ee5c2_row20_col5\" class=\"data row20 col5\" >2615</td>\n",
       "      <td id=\"T_ee5c2_row20_col6\" class=\"data row20 col6\" >4185</td>\n",
       "      <td id=\"T_ee5c2_row20_col7\" class=\"data row20 col7\" >5727</td>\n",
       "      <td id=\"T_ee5c2_row20_col8\" class=\"data row20 col8\" >5529</td>\n",
       "      <td id=\"T_ee5c2_row20_col9\" class=\"data row20 col9\" >4707</td>\n",
       "      <td id=\"T_ee5c2_row20_col10\" class=\"data row20 col10\" >4911</td>\n",
       "      <td id=\"T_ee5c2_row20_col11\" class=\"data row20 col11\" >5212</td>\n",
       "      <td id=\"T_ee5c2_row20_col12\" class=\"data row20 col12\" >5465</td>\n",
       "      <td id=\"T_ee5c2_row20_col13\" class=\"data row20 col13\" >6085</td>\n",
       "      <td id=\"T_ee5c2_row20_col14\" class=\"data row20 col14\" >7064</td>\n",
       "      <td id=\"T_ee5c2_row20_col15\" class=\"data row20 col15\" >8127</td>\n",
       "      <td id=\"T_ee5c2_row20_col16\" class=\"data row20 col16\" >9483</td>\n",
       "      <td id=\"T_ee5c2_row20_col17\" class=\"data row20 col17\" >9817</td>\n",
       "      <td id=\"T_ee5c2_row20_col18\" class=\"data row20 col18\" >9291</td>\n",
       "      <td id=\"T_ee5c2_row20_col19\" class=\"data row20 col19\" >8317</td>\n",
       "      <td id=\"T_ee5c2_row20_col20\" class=\"data row20 col20\" >8107</td>\n",
       "      <td id=\"T_ee5c2_row20_col21\" class=\"data row20 col21\" >8245</td>\n",
       "      <td id=\"T_ee5c2_row20_col22\" class=\"data row20 col22\" >7362</td>\n",
       "      <td id=\"T_ee5c2_row20_col23\" class=\"data row20 col23\" >5231</td>\n",
       "    </tr>\n",
       "    <tr>\n",
       "      <th id=\"T_ee5c2_level0_row21\" class=\"row_heading level0 row21\" >22</th>\n",
       "      <td id=\"T_ee5c2_row21_col0\" class=\"data row21 col0\" >2787</td>\n",
       "      <td id=\"T_ee5c2_row21_col1\" class=\"data row21 col1\" >1637</td>\n",
       "      <td id=\"T_ee5c2_row21_col2\" class=\"data row21 col2\" >1175</td>\n",
       "      <td id=\"T_ee5c2_row21_col3\" class=\"data row21 col3\" >1468</td>\n",
       "      <td id=\"T_ee5c2_row21_col4\" class=\"data row21 col4\" >1934</td>\n",
       "      <td id=\"T_ee5c2_row21_col5\" class=\"data row21 col5\" >3151</td>\n",
       "      <td id=\"T_ee5c2_row21_col6\" class=\"data row21 col6\" >5204</td>\n",
       "      <td id=\"T_ee5c2_row21_col7\" class=\"data row21 col7\" >6872</td>\n",
       "      <td id=\"T_ee5c2_row21_col8\" class=\"data row21 col8\" >6850</td>\n",
       "      <td id=\"T_ee5c2_row21_col9\" class=\"data row21 col9\" >5198</td>\n",
       "      <td id=\"T_ee5c2_row21_col10\" class=\"data row21 col10\" >5277</td>\n",
       "      <td id=\"T_ee5c2_row21_col11\" class=\"data row21 col11\" >5352</td>\n",
       "      <td id=\"T_ee5c2_row21_col12\" class=\"data row21 col12\" >5512</td>\n",
       "      <td id=\"T_ee5c2_row21_col13\" class=\"data row21 col13\" >6342</td>\n",
       "      <td id=\"T_ee5c2_row21_col14\" class=\"data row21 col14\" >7337</td>\n",
       "      <td id=\"T_ee5c2_row21_col15\" class=\"data row21 col15\" >9148</td>\n",
       "      <td id=\"T_ee5c2_row21_col16\" class=\"data row21 col16\" >10574</td>\n",
       "      <td id=\"T_ee5c2_row21_col17\" class=\"data row21 col17\" >10962</td>\n",
       "      <td id=\"T_ee5c2_row21_col18\" class=\"data row21 col18\" >9884</td>\n",
       "      <td id=\"T_ee5c2_row21_col19\" class=\"data row21 col19\" >8980</td>\n",
       "      <td id=\"T_ee5c2_row21_col20\" class=\"data row21 col20\" >8772</td>\n",
       "      <td id=\"T_ee5c2_row21_col21\" class=\"data row21 col21\" >8430</td>\n",
       "      <td id=\"T_ee5c2_row21_col22\" class=\"data row21 col22\" >6784</td>\n",
       "      <td id=\"T_ee5c2_row21_col23\" class=\"data row21 col23\" >4530</td>\n",
       "    </tr>\n",
       "    <tr>\n",
       "      <th id=\"T_ee5c2_level0_row22\" class=\"row_heading level0 row22\" >23</th>\n",
       "      <td id=\"T_ee5c2_row22_col0\" class=\"data row22 col0\" >2546</td>\n",
       "      <td id=\"T_ee5c2_row22_col1\" class=\"data row22 col1\" >1580</td>\n",
       "      <td id=\"T_ee5c2_row22_col2\" class=\"data row22 col2\" >1136</td>\n",
       "      <td id=\"T_ee5c2_row22_col3\" class=\"data row22 col3\" >1429</td>\n",
       "      <td id=\"T_ee5c2_row22_col4\" class=\"data row22 col4\" >1957</td>\n",
       "      <td id=\"T_ee5c2_row22_col5\" class=\"data row22 col5\" >3132</td>\n",
       "      <td id=\"T_ee5c2_row22_col6\" class=\"data row22 col6\" >5204</td>\n",
       "      <td id=\"T_ee5c2_row22_col7\" class=\"data row22 col7\" >6890</td>\n",
       "      <td id=\"T_ee5c2_row22_col8\" class=\"data row22 col8\" >6436</td>\n",
       "      <td id=\"T_ee5c2_row22_col9\" class=\"data row22 col9\" >5177</td>\n",
       "      <td id=\"T_ee5c2_row22_col10\" class=\"data row22 col10\" >5066</td>\n",
       "      <td id=\"T_ee5c2_row22_col11\" class=\"data row22 col11\" >5304</td>\n",
       "      <td id=\"T_ee5c2_row22_col12\" class=\"data row22 col12\" >5504</td>\n",
       "      <td id=\"T_ee5c2_row22_col13\" class=\"data row22 col13\" >6232</td>\n",
       "      <td id=\"T_ee5c2_row22_col14\" class=\"data row22 col14\" >7575</td>\n",
       "      <td id=\"T_ee5c2_row22_col15\" class=\"data row22 col15\" >9309</td>\n",
       "      <td id=\"T_ee5c2_row22_col16\" class=\"data row22 col16\" >9980</td>\n",
       "      <td id=\"T_ee5c2_row22_col17\" class=\"data row22 col17\" >10341</td>\n",
       "      <td id=\"T_ee5c2_row22_col18\" class=\"data row22 col18\" >10823</td>\n",
       "      <td id=\"T_ee5c2_row22_col19\" class=\"data row22 col19\" >11347</td>\n",
       "      <td id=\"T_ee5c2_row22_col20\" class=\"data row22 col20\" >11447</td>\n",
       "      <td id=\"T_ee5c2_row22_col21\" class=\"data row22 col21\" >10347</td>\n",
       "      <td id=\"T_ee5c2_row22_col22\" class=\"data row22 col22\" >8637</td>\n",
       "      <td id=\"T_ee5c2_row22_col23\" class=\"data row22 col23\" >5577</td>\n",
       "    </tr>\n",
       "    <tr>\n",
       "      <th id=\"T_ee5c2_level0_row23\" class=\"row_heading level0 row23\" >24</th>\n",
       "      <td id=\"T_ee5c2_row23_col0\" class=\"data row23 col0\" >3200</td>\n",
       "      <td id=\"T_ee5c2_row23_col1\" class=\"data row23 col1\" >2055</td>\n",
       "      <td id=\"T_ee5c2_row23_col2\" class=\"data row23 col2\" >1438</td>\n",
       "      <td id=\"T_ee5c2_row23_col3\" class=\"data row23 col3\" >1493</td>\n",
       "      <td id=\"T_ee5c2_row23_col4\" class=\"data row23 col4\" >1798</td>\n",
       "      <td id=\"T_ee5c2_row23_col5\" class=\"data row23 col5\" >2754</td>\n",
       "      <td id=\"T_ee5c2_row23_col6\" class=\"data row23 col6\" >4484</td>\n",
       "      <td id=\"T_ee5c2_row23_col7\" class=\"data row23 col7\" >6013</td>\n",
       "      <td id=\"T_ee5c2_row23_col8\" class=\"data row23 col8\" >5913</td>\n",
       "      <td id=\"T_ee5c2_row23_col9\" class=\"data row23 col9\" >5146</td>\n",
       "      <td id=\"T_ee5c2_row23_col10\" class=\"data row23 col10\" >4947</td>\n",
       "      <td id=\"T_ee5c2_row23_col11\" class=\"data row23 col11\" >5311</td>\n",
       "      <td id=\"T_ee5c2_row23_col12\" class=\"data row23 col12\" >5229</td>\n",
       "      <td id=\"T_ee5c2_row23_col13\" class=\"data row23 col13\" >5974</td>\n",
       "      <td id=\"T_ee5c2_row23_col14\" class=\"data row23 col14\" >7083</td>\n",
       "      <td id=\"T_ee5c2_row23_col15\" class=\"data row23 col15\" >8706</td>\n",
       "      <td id=\"T_ee5c2_row23_col16\" class=\"data row23 col16\" >10366</td>\n",
       "      <td id=\"T_ee5c2_row23_col17\" class=\"data row23 col17\" >10786</td>\n",
       "      <td id=\"T_ee5c2_row23_col18\" class=\"data row23 col18\" >9772</td>\n",
       "      <td id=\"T_ee5c2_row23_col19\" class=\"data row23 col19\" >9080</td>\n",
       "      <td id=\"T_ee5c2_row23_col20\" class=\"data row23 col20\" >9213</td>\n",
       "      <td id=\"T_ee5c2_row23_col21\" class=\"data row23 col21\" >8831</td>\n",
       "      <td id=\"T_ee5c2_row23_col22\" class=\"data row23 col22\" >7480</td>\n",
       "      <td id=\"T_ee5c2_row23_col23\" class=\"data row23 col23\" >4456</td>\n",
       "    </tr>\n",
       "    <tr>\n",
       "      <th id=\"T_ee5c2_level0_row24\" class=\"row_heading level0 row24\" >25</th>\n",
       "      <td id=\"T_ee5c2_row24_col0\" class=\"data row24 col0\" >2405</td>\n",
       "      <td id=\"T_ee5c2_row24_col1\" class=\"data row24 col1\" >1499</td>\n",
       "      <td id=\"T_ee5c2_row24_col2\" class=\"data row24 col2\" >1072</td>\n",
       "      <td id=\"T_ee5c2_row24_col3\" class=\"data row24 col3\" >1439</td>\n",
       "      <td id=\"T_ee5c2_row24_col4\" class=\"data row24 col4\" >1943</td>\n",
       "      <td id=\"T_ee5c2_row24_col5\" class=\"data row24 col5\" >2973</td>\n",
       "      <td id=\"T_ee5c2_row24_col6\" class=\"data row24 col6\" >5356</td>\n",
       "      <td id=\"T_ee5c2_row24_col7\" class=\"data row24 col7\" >7627</td>\n",
       "      <td id=\"T_ee5c2_row24_col8\" class=\"data row24 col8\" >7078</td>\n",
       "      <td id=\"T_ee5c2_row24_col9\" class=\"data row24 col9\" >5994</td>\n",
       "      <td id=\"T_ee5c2_row24_col10\" class=\"data row24 col10\" >5432</td>\n",
       "      <td id=\"T_ee5c2_row24_col11\" class=\"data row24 col11\" >5504</td>\n",
       "      <td id=\"T_ee5c2_row24_col12\" class=\"data row24 col12\" >5694</td>\n",
       "      <td id=\"T_ee5c2_row24_col13\" class=\"data row24 col13\" >6204</td>\n",
       "      <td id=\"T_ee5c2_row24_col14\" class=\"data row24 col14\" >7298</td>\n",
       "      <td id=\"T_ee5c2_row24_col15\" class=\"data row24 col15\" >8732</td>\n",
       "      <td id=\"T_ee5c2_row24_col16\" class=\"data row24 col16\" >9922</td>\n",
       "      <td id=\"T_ee5c2_row24_col17\" class=\"data row24 col17\" >10504</td>\n",
       "      <td id=\"T_ee5c2_row24_col18\" class=\"data row24 col18\" >10673</td>\n",
       "      <td id=\"T_ee5c2_row24_col19\" class=\"data row24 col19\" >9048</td>\n",
       "      <td id=\"T_ee5c2_row24_col20\" class=\"data row24 col20\" >8751</td>\n",
       "      <td id=\"T_ee5c2_row24_col21\" class=\"data row24 col21\" >9508</td>\n",
       "      <td id=\"T_ee5c2_row24_col22\" class=\"data row24 col22\" >8522</td>\n",
       "      <td id=\"T_ee5c2_row24_col23\" class=\"data row24 col23\" >6605</td>\n",
       "    </tr>\n",
       "    <tr>\n",
       "      <th id=\"T_ee5c2_level0_row25\" class=\"row_heading level0 row25\" >26</th>\n",
       "      <td id=\"T_ee5c2_row25_col0\" class=\"data row25 col0\" >3810</td>\n",
       "      <td id=\"T_ee5c2_row25_col1\" class=\"data row25 col1\" >3065</td>\n",
       "      <td id=\"T_ee5c2_row25_col2\" class=\"data row25 col2\" >2046</td>\n",
       "      <td id=\"T_ee5c2_row25_col3\" class=\"data row25 col3\" >1806</td>\n",
       "      <td id=\"T_ee5c2_row25_col4\" class=\"data row25 col4\" >1730</td>\n",
       "      <td id=\"T_ee5c2_row25_col5\" class=\"data row25 col5\" >2337</td>\n",
       "      <td id=\"T_ee5c2_row25_col6\" class=\"data row25 col6\" >3776</td>\n",
       "      <td id=\"T_ee5c2_row25_col7\" class=\"data row25 col7\" >5172</td>\n",
       "      <td id=\"T_ee5c2_row25_col8\" class=\"data row25 col8\" >5071</td>\n",
       "      <td id=\"T_ee5c2_row25_col9\" class=\"data row25 col9\" >4808</td>\n",
       "      <td id=\"T_ee5c2_row25_col10\" class=\"data row25 col10\" >5061</td>\n",
       "      <td id=\"T_ee5c2_row25_col11\" class=\"data row25 col11\" >5179</td>\n",
       "      <td id=\"T_ee5c2_row25_col12\" class=\"data row25 col12\" >5381</td>\n",
       "      <td id=\"T_ee5c2_row25_col13\" class=\"data row25 col13\" >6166</td>\n",
       "      <td id=\"T_ee5c2_row25_col14\" class=\"data row25 col14\" >7269</td>\n",
       "      <td id=\"T_ee5c2_row25_col15\" class=\"data row25 col15\" >8815</td>\n",
       "      <td id=\"T_ee5c2_row25_col16\" class=\"data row25 col16\" >9885</td>\n",
       "      <td id=\"T_ee5c2_row25_col17\" class=\"data row25 col17\" >10697</td>\n",
       "      <td id=\"T_ee5c2_row25_col18\" class=\"data row25 col18\" >10867</td>\n",
       "      <td id=\"T_ee5c2_row25_col19\" class=\"data row25 col19\" >10122</td>\n",
       "      <td id=\"T_ee5c2_row25_col20\" class=\"data row25 col20\" >9820</td>\n",
       "      <td id=\"T_ee5c2_row25_col21\" class=\"data row25 col21\" >10441</td>\n",
       "      <td id=\"T_ee5c2_row25_col22\" class=\"data row25 col22\" >9486</td>\n",
       "      <td id=\"T_ee5c2_row25_col23\" class=\"data row25 col23\" >7593</td>\n",
       "    </tr>\n",
       "    <tr>\n",
       "      <th id=\"T_ee5c2_level0_row26\" class=\"row_heading level0 row26\" >27</th>\n",
       "      <td id=\"T_ee5c2_row26_col0\" class=\"data row26 col0\" >5196</td>\n",
       "      <td id=\"T_ee5c2_row26_col1\" class=\"data row26 col1\" >3635</td>\n",
       "      <td id=\"T_ee5c2_row26_col2\" class=\"data row26 col2\" >2352</td>\n",
       "      <td id=\"T_ee5c2_row26_col3\" class=\"data row26 col3\" >2055</td>\n",
       "      <td id=\"T_ee5c2_row26_col4\" class=\"data row26 col4\" >1723</td>\n",
       "      <td id=\"T_ee5c2_row26_col5\" class=\"data row26 col5\" >2336</td>\n",
       "      <td id=\"T_ee5c2_row26_col6\" class=\"data row26 col6\" >3539</td>\n",
       "      <td id=\"T_ee5c2_row26_col7\" class=\"data row26 col7\" >4937</td>\n",
       "      <td id=\"T_ee5c2_row26_col8\" class=\"data row26 col8\" >5053</td>\n",
       "      <td id=\"T_ee5c2_row26_col9\" class=\"data row26 col9\" >4771</td>\n",
       "      <td id=\"T_ee5c2_row26_col10\" class=\"data row26 col10\" >5198</td>\n",
       "      <td id=\"T_ee5c2_row26_col11\" class=\"data row26 col11\" >5732</td>\n",
       "      <td id=\"T_ee5c2_row26_col12\" class=\"data row26 col12\" >5839</td>\n",
       "      <td id=\"T_ee5c2_row26_col13\" class=\"data row26 col13\" >6820</td>\n",
       "      <td id=\"T_ee5c2_row26_col14\" class=\"data row26 col14\" >7519</td>\n",
       "      <td id=\"T_ee5c2_row26_col15\" class=\"data row26 col15\" >8803</td>\n",
       "      <td id=\"T_ee5c2_row26_col16\" class=\"data row26 col16\" >9793</td>\n",
       "      <td id=\"T_ee5c2_row26_col17\" class=\"data row26 col17\" >9838</td>\n",
       "      <td id=\"T_ee5c2_row26_col18\" class=\"data row26 col18\" >9228</td>\n",
       "      <td id=\"T_ee5c2_row26_col19\" class=\"data row26 col19\" >8267</td>\n",
       "      <td id=\"T_ee5c2_row26_col20\" class=\"data row26 col20\" >7908</td>\n",
       "      <td id=\"T_ee5c2_row26_col21\" class=\"data row26 col21\" >8507</td>\n",
       "      <td id=\"T_ee5c2_row26_col22\" class=\"data row26 col22\" >7720</td>\n",
       "      <td id=\"T_ee5c2_row26_col23\" class=\"data row26 col23\" >6046</td>\n",
       "    </tr>\n",
       "    <tr>\n",
       "      <th id=\"T_ee5c2_level0_row27\" class=\"row_heading level0 row27\" >28</th>\n",
       "      <td id=\"T_ee5c2_row27_col0\" class=\"data row27 col0\" >4123</td>\n",
       "      <td id=\"T_ee5c2_row27_col1\" class=\"data row27 col1\" >2646</td>\n",
       "      <td id=\"T_ee5c2_row27_col2\" class=\"data row27 col2\" >1843</td>\n",
       "      <td id=\"T_ee5c2_row27_col3\" class=\"data row27 col3\" >1802</td>\n",
       "      <td id=\"T_ee5c2_row27_col4\" class=\"data row27 col4\" >1883</td>\n",
       "      <td id=\"T_ee5c2_row27_col5\" class=\"data row27 col5\" >2793</td>\n",
       "      <td id=\"T_ee5c2_row27_col6\" class=\"data row27 col6\" >4290</td>\n",
       "      <td id=\"T_ee5c2_row27_col7\" class=\"data row27 col7\" >5715</td>\n",
       "      <td id=\"T_ee5c2_row27_col8\" class=\"data row27 col8\" >5671</td>\n",
       "      <td id=\"T_ee5c2_row27_col9\" class=\"data row27 col9\" >5206</td>\n",
       "      <td id=\"T_ee5c2_row27_col10\" class=\"data row27 col10\" >5247</td>\n",
       "      <td id=\"T_ee5c2_row27_col11\" class=\"data row27 col11\" >5500</td>\n",
       "      <td id=\"T_ee5c2_row27_col12\" class=\"data row27 col12\" >5486</td>\n",
       "      <td id=\"T_ee5c2_row27_col13\" class=\"data row27 col13\" >6120</td>\n",
       "      <td id=\"T_ee5c2_row27_col14\" class=\"data row27 col14\" >7341</td>\n",
       "      <td id=\"T_ee5c2_row27_col15\" class=\"data row27 col15\" >8584</td>\n",
       "      <td id=\"T_ee5c2_row27_col16\" class=\"data row27 col16\" >9671</td>\n",
       "      <td id=\"T_ee5c2_row27_col17\" class=\"data row27 col17\" >9975</td>\n",
       "      <td id=\"T_ee5c2_row27_col18\" class=\"data row27 col18\" >9132</td>\n",
       "      <td id=\"T_ee5c2_row27_col19\" class=\"data row27 col19\" >8255</td>\n",
       "      <td id=\"T_ee5c2_row27_col20\" class=\"data row27 col20\" >8309</td>\n",
       "      <td id=\"T_ee5c2_row27_col21\" class=\"data row27 col21\" >7949</td>\n",
       "      <td id=\"T_ee5c2_row27_col22\" class=\"data row27 col22\" >6411</td>\n",
       "      <td id=\"T_ee5c2_row27_col23\" class=\"data row27 col23\" >4461</td>\n",
       "    </tr>\n",
       "    <tr>\n",
       "      <th id=\"T_ee5c2_level0_row28\" class=\"row_heading level0 row28\" >29</th>\n",
       "      <td id=\"T_ee5c2_row28_col0\" class=\"data row28 col0\" >2678</td>\n",
       "      <td id=\"T_ee5c2_row28_col1\" class=\"data row28 col1\" >1827</td>\n",
       "      <td id=\"T_ee5c2_row28_col2\" class=\"data row28 col2\" >1409</td>\n",
       "      <td id=\"T_ee5c2_row28_col3\" class=\"data row28 col3\" >1678</td>\n",
       "      <td id=\"T_ee5c2_row28_col4\" class=\"data row28 col4\" >1948</td>\n",
       "      <td id=\"T_ee5c2_row28_col5\" class=\"data row28 col5\" >3056</td>\n",
       "      <td id=\"T_ee5c2_row28_col6\" class=\"data row28 col6\" >5213</td>\n",
       "      <td id=\"T_ee5c2_row28_col7\" class=\"data row28 col7\" >6852</td>\n",
       "      <td id=\"T_ee5c2_row28_col8\" class=\"data row28 col8\" >6695</td>\n",
       "      <td id=\"T_ee5c2_row28_col9\" class=\"data row28 col9\" >5481</td>\n",
       "      <td id=\"T_ee5c2_row28_col10\" class=\"data row28 col10\" >5234</td>\n",
       "      <td id=\"T_ee5c2_row28_col11\" class=\"data row28 col11\" >5163</td>\n",
       "      <td id=\"T_ee5c2_row28_col12\" class=\"data row28 col12\" >5220</td>\n",
       "      <td id=\"T_ee5c2_row28_col13\" class=\"data row28 col13\" >6305</td>\n",
       "      <td id=\"T_ee5c2_row28_col14\" class=\"data row28 col14\" >7630</td>\n",
       "      <td id=\"T_ee5c2_row28_col15\" class=\"data row28 col15\" >9249</td>\n",
       "      <td id=\"T_ee5c2_row28_col16\" class=\"data row28 col16\" >10105</td>\n",
       "      <td id=\"T_ee5c2_row28_col17\" class=\"data row28 col17\" >11113</td>\n",
       "      <td id=\"T_ee5c2_row28_col18\" class=\"data row28 col18\" >10411</td>\n",
       "      <td id=\"T_ee5c2_row28_col19\" class=\"data row28 col19\" >9301</td>\n",
       "      <td id=\"T_ee5c2_row28_col20\" class=\"data row28 col20\" >9270</td>\n",
       "      <td id=\"T_ee5c2_row28_col21\" class=\"data row28 col21\" >9114</td>\n",
       "      <td id=\"T_ee5c2_row28_col22\" class=\"data row28 col22\" >6992</td>\n",
       "      <td id=\"T_ee5c2_row28_col23\" class=\"data row28 col23\" >4323</td>\n",
       "    </tr>\n",
       "    <tr>\n",
       "      <th id=\"T_ee5c2_level0_row29\" class=\"row_heading level0 row29\" >30</th>\n",
       "      <td id=\"T_ee5c2_row29_col0\" class=\"data row29 col0\" >2401</td>\n",
       "      <td id=\"T_ee5c2_row29_col1\" class=\"data row29 col1\" >1510</td>\n",
       "      <td id=\"T_ee5c2_row29_col2\" class=\"data row29 col2\" >1112</td>\n",
       "      <td id=\"T_ee5c2_row29_col3\" class=\"data row29 col3\" >1403</td>\n",
       "      <td id=\"T_ee5c2_row29_col4\" class=\"data row29 col4\" >1841</td>\n",
       "      <td id=\"T_ee5c2_row29_col5\" class=\"data row29 col5\" >3216</td>\n",
       "      <td id=\"T_ee5c2_row29_col6\" class=\"data row29 col6\" >5757</td>\n",
       "      <td id=\"T_ee5c2_row29_col7\" class=\"data row29 col7\" >7596</td>\n",
       "      <td id=\"T_ee5c2_row29_col8\" class=\"data row29 col8\" >7611</td>\n",
       "      <td id=\"T_ee5c2_row29_col9\" class=\"data row29 col9\" >6064</td>\n",
       "      <td id=\"T_ee5c2_row29_col10\" class=\"data row29 col10\" >5987</td>\n",
       "      <td id=\"T_ee5c2_row29_col11\" class=\"data row29 col11\" >6090</td>\n",
       "      <td id=\"T_ee5c2_row29_col12\" class=\"data row29 col12\" >6423</td>\n",
       "      <td id=\"T_ee5c2_row29_col13\" class=\"data row29 col13\" >7249</td>\n",
       "      <td id=\"T_ee5c2_row29_col14\" class=\"data row29 col14\" >8396</td>\n",
       "      <td id=\"T_ee5c2_row29_col15\" class=\"data row29 col15\" >10243</td>\n",
       "      <td id=\"T_ee5c2_row29_col16\" class=\"data row29 col16\" >11554</td>\n",
       "      <td id=\"T_ee5c2_row29_col17\" class=\"data row29 col17\" >12126</td>\n",
       "      <td id=\"T_ee5c2_row29_col18\" class=\"data row29 col18\" >12561</td>\n",
       "      <td id=\"T_ee5c2_row29_col19\" class=\"data row29 col19\" >11024</td>\n",
       "      <td id=\"T_ee5c2_row29_col20\" class=\"data row29 col20\" >10836</td>\n",
       "      <td id=\"T_ee5c2_row29_col21\" class=\"data row29 col21\" >10042</td>\n",
       "      <td id=\"T_ee5c2_row29_col22\" class=\"data row29 col22\" >8275</td>\n",
       "      <td id=\"T_ee5c2_row29_col23\" class=\"data row29 col23\" >4723</td>\n",
       "    </tr>\n",
       "    <tr>\n",
       "      <th id=\"T_ee5c2_level0_row30\" class=\"row_heading level0 row30\" >31</th>\n",
       "      <td id=\"T_ee5c2_row30_col0\" class=\"data row30 col0\" >2174</td>\n",
       "      <td id=\"T_ee5c2_row30_col1\" class=\"data row30 col1\" >1394</td>\n",
       "      <td id=\"T_ee5c2_row30_col2\" class=\"data row30 col2\" >1087</td>\n",
       "      <td id=\"T_ee5c2_row30_col3\" class=\"data row30 col3\" >919</td>\n",
       "      <td id=\"T_ee5c2_row30_col4\" class=\"data row30 col4\" >773</td>\n",
       "      <td id=\"T_ee5c2_row30_col5\" class=\"data row30 col5\" >997</td>\n",
       "      <td id=\"T_ee5c2_row30_col6\" class=\"data row30 col6\" >1561</td>\n",
       "      <td id=\"T_ee5c2_row30_col7\" class=\"data row30 col7\" >2169</td>\n",
       "      <td id=\"T_ee5c2_row30_col8\" class=\"data row30 col8\" >2410</td>\n",
       "      <td id=\"T_ee5c2_row30_col9\" class=\"data row30 col9\" >2525</td>\n",
       "      <td id=\"T_ee5c2_row30_col10\" class=\"data row30 col10\" >2564</td>\n",
       "      <td id=\"T_ee5c2_row30_col11\" class=\"data row30 col11\" >2777</td>\n",
       "      <td id=\"T_ee5c2_row30_col12\" class=\"data row30 col12\" >2954</td>\n",
       "      <td id=\"T_ee5c2_row30_col13\" class=\"data row30 col13\" >3280</td>\n",
       "      <td id=\"T_ee5c2_row30_col14\" class=\"data row30 col14\" >4104</td>\n",
       "      <td id=\"T_ee5c2_row30_col15\" class=\"data row30 col15\" >5099</td>\n",
       "      <td id=\"T_ee5c2_row30_col16\" class=\"data row30 col16\" >5386</td>\n",
       "      <td id=\"T_ee5c2_row30_col17\" class=\"data row30 col17\" >5308</td>\n",
       "      <td id=\"T_ee5c2_row30_col18\" class=\"data row30 col18\" >5350</td>\n",
       "      <td id=\"T_ee5c2_row30_col19\" class=\"data row30 col19\" >4898</td>\n",
       "      <td id=\"T_ee5c2_row30_col20\" class=\"data row30 col20\" >4819</td>\n",
       "      <td id=\"T_ee5c2_row30_col21\" class=\"data row30 col21\" >5064</td>\n",
       "      <td id=\"T_ee5c2_row30_col22\" class=\"data row30 col22\" >5164</td>\n",
       "      <td id=\"T_ee5c2_row30_col23\" class=\"data row30 col23\" >3961</td>\n",
       "    </tr>\n",
       "  </tbody>\n",
       "</table>\n"
      ],
      "text/plain": [
       "<pandas.io.formats.style.Styler at 0x255b3c19e20>"
      ]
     },
     "execution_count": 164,
     "metadata": {},
     "output_type": "execute_result"
    }
   ],
   "source": [
    "### styling dataframe\n",
    "pivot.style.background_gradient()"
   ]
  }
 ],
 "metadata": {
  "kernelspec": {
   "display_name": "Python 3 (ipykernel)",
   "language": "python",
   "name": "python3"
  },
  "language_info": {
   "codemirror_mode": {
    "name": "ipython",
    "version": 3
   },
   "file_extension": ".py",
   "mimetype": "text/x-python",
   "name": "python",
   "nbconvert_exporter": "python",
   "pygments_lexer": "ipython3",
   "version": "3.9.13"
  }
 },
 "nbformat": 4,
 "nbformat_minor": 5
}
